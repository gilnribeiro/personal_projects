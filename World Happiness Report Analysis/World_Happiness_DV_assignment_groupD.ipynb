{
 "cells": [
  {
   "cell_type": "markdown",
   "metadata": {},
   "source": [
    "# ***Data Visualization Project : What makes a country happy?***\n",
    "\n",
    "## ***Group D***\n",
    " \n",
    "#### ***32075 – Tomás Borges***\n",
    "#### ***32399 – João Ribeiro***\n",
    "#### ***44352 – Sebastião Spínola***\n",
    "#### ***45927 - Tanguy Coeffic***"
   ]
  },
  {
   "cell_type": "markdown",
   "metadata": {},
   "source": [
    "## ***Executive Summary*** \n",
    "\n",
    "- #### *Introduction*\n",
    "- #### *Curation of the Dataset*\n",
    "\n",
    "\n",
    "- ### **I/   Main World Happiness analysis**\n",
    "\n",
    "\n",
    "- #### *Presentation of the World Map Happiness (a first Glance)*\n",
    "- #### *Distribution of the explanatory variables*\n",
    "- #### *Correlation of each variable between each other*\n",
    "- #### *Pairwise comparison between variables*\n",
    "\n",
    "\n",
    "- ### **II/   Comparison and anlaysis of World Happiness with new variables**\n",
    "\n",
    "\n",
    "- #### *Relation between Happiness and Population*\n",
    "- #### *GDP per capita with Happiness*\n",
    "- #### *World Happiness Analysis*\n",
    "- #### *Regional happiness analysis (violinplots and boxplots)*\n",
    "- #### *Comparing World Happiness with World Democracy*\n",
    "- #### *Correlation between happiness and democracy across the world*\n",
    "- #### *Regime analysis* \n",
    "\n",
    "\n",
    "- ### **Conclusion**"
   ]
  },
  {
   "cell_type": "markdown",
   "metadata": {},
   "source": [
    "## Introduction\n",
    "\n",
    "### Business problem (Initial Project Proposal)\n",
    "The core business problem which we want to address is what factors play a role in a country’s happiness.\n",
    "The main driver of addressing this business problem is finding out what factors the happiest countries in the world share, but also what factors policy makers can work on in order to improve the happiness of their nation.\n",
    "Within the context of our main business problem we also want to explore varied possibilities such as whether living in Northern countries is a guarantee of happiness and if a nation having a Democratic or Authoritarian regime can influence its happiness score. We also want to find out if we had to pick a country to move to, based on happiness, which would it be.\n",
    "\n",
    "### Datasets used\n",
    "To obtain data on the factors that play a role in a country’s happiness we will start by using a dataset which contains information collected in The World Happiness Report, which is a landmark survey of the state of global happiness that ranks 156 countries by how happy their citizens perceive themselves to be. \n",
    "\n",
    "The data contains happiness scores and country rankings based on answers to the surveys. The columns following the happiness score estimate the extent to which each of six factors **– economic output, social support, life expectancy, freedom, absence of corruption, and generosity –** contribute to making life evaluations higher in each country than they are in a Dystopia, a hypothetical country who scores the lowest for each of the six factors.\n",
    "\n",
    "The main specific datasets we will use are of the last five years (2015-2019) from Kaggle, being the most recent years with information available. However, the columns are often different between years, whether due to different variables being used (in order to explain one of the six factors mentioned above) or just by the introduction or removal of entirely new variables or factors.\n",
    "\n",
    "Therefore, to go deeper into the second part of our analysis, we selected more data outside of our main dataset, which was obtained from the famous **- Economist Intelligence Unit-** curated here, and by merging outside data, namely containing democracy indexes, which contains democracy indexes, and a classification for each country (Full democracy, Flawed democracy, Hybrid regime and authoritarian regime). This index is made each year and is based on several factors such as **– electoral process and pluralism, functioning of government, political participation, political culture and civil liberties –**\n",
    "\n",
    "As already noted, our happiness rankings are not based on any index of these six factors – the scores are instead based on individuals’ own assessments of their lives, as revealed by their answers to the Cantril ladder question that invites survey participants to imagine their current position on a ladder with steps numbered from 0 to 10, where the top represents the best possible and the bottom the worst possible life for themselves. "
   ]
  },
  {
   "cell_type": "code",
   "execution_count": 1,
   "metadata": {},
   "outputs": [
    {
     "name": "stderr",
     "output_type": "stream",
     "text": [
      "C:\\Users\\gilnr\\Anaconda3\\envs\\data_viz\\lib\\site-packages\\numpy\\__init__.py:138: UserWarning: mkl-service package failed to import, therefore Intel(R) MKL initialization ensuring its correct out-of-the box operation under condition when Gnu OpenMP had already been loaded by Python process is not assured. Please install mkl-service package, see http://github.com/IntelPython/mkl-service\n",
      "  from . import _distributor_init\n"
     ]
    },
    {
     "ename": "ImportError",
     "evalue": "\n\nIMPORTANT: PLEASE READ THIS FOR ADVICE ON HOW TO SOLVE THIS ISSUE!\n\nImporting the numpy C-extensions failed. This error can happen for\nmany reasons, often due to issues with your setup or how NumPy was\ninstalled.\n\nWe have compiled some common reasons and troubleshooting tips at:\n\n    https://numpy.org/devdocs/user/troubleshooting-importerror.html\n\nPlease note and check the following:\n\n  * The Python version is: Python3.8 from \"C:\\Users\\gilnr\\Anaconda3\\envs\\data_viz\\python.exe\"\n  * The NumPy version is: \"1.19.2\"\n\nand make sure that they are the versions you expect.\nPlease carefully study the documentation linked above for further help.\n\nOriginal error was: DLL load failed while importing _multiarray_umath: Impossível localizar o módulo especificado.\n",
     "output_type": "error",
     "traceback": [
      "\u001B[1;31m---------------------------------------------------------------------------\u001B[0m",
      "\u001B[1;31mImportError\u001B[0m                               Traceback (most recent call last)",
      "\u001B[1;32m~\\Anaconda3\\envs\\data_viz\\lib\\site-packages\\numpy\\core\\__init__.py\u001B[0m in \u001B[0;36m<module>\u001B[1;34m\u001B[0m\n\u001B[0;32m     21\u001B[0m \u001B[1;32mtry\u001B[0m\u001B[1;33m:\u001B[0m\u001B[1;33m\u001B[0m\u001B[1;33m\u001B[0m\u001B[0m\n\u001B[1;32m---> 22\u001B[1;33m     \u001B[1;32mfrom\u001B[0m \u001B[1;33m.\u001B[0m \u001B[1;32mimport\u001B[0m \u001B[0mmultiarray\u001B[0m\u001B[1;33m\u001B[0m\u001B[1;33m\u001B[0m\u001B[0m\n\u001B[0m\u001B[0;32m     23\u001B[0m \u001B[1;32mexcept\u001B[0m \u001B[0mImportError\u001B[0m \u001B[1;32mas\u001B[0m \u001B[0mexc\u001B[0m\u001B[1;33m:\u001B[0m\u001B[1;33m\u001B[0m\u001B[1;33m\u001B[0m\u001B[0m\n",
      "\u001B[1;32m~\\Anaconda3\\envs\\data_viz\\lib\\site-packages\\numpy\\core\\multiarray.py\u001B[0m in \u001B[0;36m<module>\u001B[1;34m\u001B[0m\n\u001B[0;32m     11\u001B[0m \u001B[1;33m\u001B[0m\u001B[0m\n\u001B[1;32m---> 12\u001B[1;33m \u001B[1;32mfrom\u001B[0m \u001B[1;33m.\u001B[0m \u001B[1;32mimport\u001B[0m \u001B[0moverrides\u001B[0m\u001B[1;33m\u001B[0m\u001B[1;33m\u001B[0m\u001B[0m\n\u001B[0m\u001B[0;32m     13\u001B[0m \u001B[1;32mfrom\u001B[0m \u001B[1;33m.\u001B[0m \u001B[1;32mimport\u001B[0m \u001B[0m_multiarray_umath\u001B[0m\u001B[1;33m\u001B[0m\u001B[1;33m\u001B[0m\u001B[0m\n",
      "\u001B[1;32m~\\Anaconda3\\envs\\data_viz\\lib\\site-packages\\numpy\\core\\overrides.py\u001B[0m in \u001B[0;36m<module>\u001B[1;34m\u001B[0m\n\u001B[0;32m      6\u001B[0m \u001B[1;33m\u001B[0m\u001B[0m\n\u001B[1;32m----> 7\u001B[1;33m from numpy.core._multiarray_umath import (\n\u001B[0m\u001B[0;32m      8\u001B[0m     add_docstring, implement_array_function, _get_implementing_args)\n",
      "\u001B[1;31mImportError\u001B[0m: DLL load failed while importing _multiarray_umath: Impossível localizar o módulo especificado.",
      "\nDuring handling of the above exception, another exception occurred:\n",
      "\u001B[1;31mImportError\u001B[0m                               Traceback (most recent call last)",
      "\u001B[1;32m<ipython-input-1-a5d14f7b4c97>\u001B[0m in \u001B[0;36m<module>\u001B[1;34m\u001B[0m\n\u001B[1;32m----> 1\u001B[1;33m \u001B[1;32mimport\u001B[0m \u001B[0mnumpy\u001B[0m \u001B[1;32mas\u001B[0m \u001B[0mnp\u001B[0m\u001B[1;33m\u001B[0m\u001B[1;33m\u001B[0m\u001B[0m\n\u001B[0m\u001B[0;32m      2\u001B[0m \u001B[1;32mimport\u001B[0m \u001B[0mpandas\u001B[0m \u001B[1;32mas\u001B[0m \u001B[0mpd\u001B[0m\u001B[1;33m\u001B[0m\u001B[1;33m\u001B[0m\u001B[0m\n\u001B[0;32m      3\u001B[0m \u001B[1;32mimport\u001B[0m \u001B[0mmatplotlib\u001B[0m\u001B[1;33m.\u001B[0m\u001B[0mpyplot\u001B[0m \u001B[1;32mas\u001B[0m \u001B[0mplt\u001B[0m\u001B[1;33m\u001B[0m\u001B[1;33m\u001B[0m\u001B[0m\n\u001B[0;32m      4\u001B[0m \u001B[1;32mimport\u001B[0m \u001B[0mseaborn\u001B[0m \u001B[1;32mas\u001B[0m \u001B[0msns\u001B[0m\u001B[1;33m\u001B[0m\u001B[1;33m\u001B[0m\u001B[0m\n\u001B[0;32m      5\u001B[0m \u001B[1;32mimport\u001B[0m \u001B[0mplotly\u001B[0m\u001B[1;33m.\u001B[0m\u001B[0mexpress\u001B[0m \u001B[1;32mas\u001B[0m \u001B[0mpx\u001B[0m\u001B[1;33m\u001B[0m\u001B[1;33m\u001B[0m\u001B[0m\n",
      "\u001B[1;32m~\\Anaconda3\\envs\\data_viz\\lib\\site-packages\\numpy\\__init__.py\u001B[0m in \u001B[0;36m<module>\u001B[1;34m\u001B[0m\n\u001B[0;32m    138\u001B[0m     \u001B[1;32mfrom\u001B[0m \u001B[1;33m.\u001B[0m \u001B[1;32mimport\u001B[0m \u001B[0m_distributor_init\u001B[0m\u001B[1;33m\u001B[0m\u001B[1;33m\u001B[0m\u001B[0m\n\u001B[0;32m    139\u001B[0m \u001B[1;33m\u001B[0m\u001B[0m\n\u001B[1;32m--> 140\u001B[1;33m     \u001B[1;32mfrom\u001B[0m \u001B[1;33m.\u001B[0m \u001B[1;32mimport\u001B[0m \u001B[0mcore\u001B[0m\u001B[1;33m\u001B[0m\u001B[1;33m\u001B[0m\u001B[0m\n\u001B[0m\u001B[0;32m    141\u001B[0m     \u001B[1;32mfrom\u001B[0m \u001B[1;33m.\u001B[0m\u001B[0mcore\u001B[0m \u001B[1;32mimport\u001B[0m \u001B[1;33m*\u001B[0m\u001B[1;33m\u001B[0m\u001B[1;33m\u001B[0m\u001B[0m\n\u001B[0;32m    142\u001B[0m     \u001B[1;32mfrom\u001B[0m \u001B[1;33m.\u001B[0m \u001B[1;32mimport\u001B[0m \u001B[0mcompat\u001B[0m\u001B[1;33m\u001B[0m\u001B[1;33m\u001B[0m\u001B[0m\n",
      "\u001B[1;32m~\\Anaconda3\\envs\\data_viz\\lib\\site-packages\\numpy\\core\\__init__.py\u001B[0m in \u001B[0;36m<module>\u001B[1;34m\u001B[0m\n\u001B[0;32m     46\u001B[0m \"\"\" % (sys.version_info[0], sys.version_info[1], sys.executable,\n\u001B[0;32m     47\u001B[0m         __version__, exc)\n\u001B[1;32m---> 48\u001B[1;33m     \u001B[1;32mraise\u001B[0m \u001B[0mImportError\u001B[0m\u001B[1;33m(\u001B[0m\u001B[0mmsg\u001B[0m\u001B[1;33m)\u001B[0m\u001B[1;33m\u001B[0m\u001B[1;33m\u001B[0m\u001B[0m\n\u001B[0m\u001B[0;32m     49\u001B[0m \u001B[1;32mfinally\u001B[0m\u001B[1;33m:\u001B[0m\u001B[1;33m\u001B[0m\u001B[1;33m\u001B[0m\u001B[0m\n\u001B[0;32m     50\u001B[0m     \u001B[1;32mfor\u001B[0m \u001B[0menvkey\u001B[0m \u001B[1;32min\u001B[0m \u001B[0menv_added\u001B[0m\u001B[1;33m:\u001B[0m\u001B[1;33m\u001B[0m\u001B[1;33m\u001B[0m\u001B[0m\n",
      "\u001B[1;31mImportError\u001B[0m: \n\nIMPORTANT: PLEASE READ THIS FOR ADVICE ON HOW TO SOLVE THIS ISSUE!\n\nImporting the numpy C-extensions failed. This error can happen for\nmany reasons, often due to issues with your setup or how NumPy was\ninstalled.\n\nWe have compiled some common reasons and troubleshooting tips at:\n\n    https://numpy.org/devdocs/user/troubleshooting-importerror.html\n\nPlease note and check the following:\n\n  * The Python version is: Python3.8 from \"C:\\Users\\gilnr\\Anaconda3\\envs\\data_viz\\python.exe\"\n  * The NumPy version is: \"1.19.2\"\n\nand make sure that they are the versions you expect.\nPlease carefully study the documentation linked above for further help.\n\nOriginal error was: DLL load failed while importing _multiarray_umath: Impossível localizar o módulo especificado.\n"
     ]
    }
   ],
   "source": [
    "import numpy as np\n",
    "import pandas as pd\n",
    "import matplotlib.pyplot as plt\n",
    "import seaborn as sns\n",
    "import plotly.express as px\n",
    "import plotly.graph_objects as go\n",
    "import plotly.offline as py\n",
    "from plotly import subplots\n",
    "from plotly.subplots import make_subplots"
   ]
  },
  {
   "cell_type": "markdown",
   "metadata": {},
   "source": [
    "# Curation of the Dataset"
   ]
  },
  {
   "cell_type": "markdown",
   "metadata": {},
   "source": [
    "### Curation of Main Data\n",
    "<p>For the different years' dataframes, we find different columns being used. While the data for the years 2015 to 2017 shares most of the column names, which contain the explanatory variables for the country's ranks and happiness scores, there are significant differences on their content comparing to the years 2018 and 2019.</p>\n",
    "<p>In order to maximize the usefulness of our data and to not lose value by having isolated variables which only exist for 1 or 2 years, we decided to organise the dataset based on the shared explanatory variables the World Hapiness Report gives importance to, such as: economic output, social support, life expectancy, freedom, absence of corruption, and generosity.</p>\n",
    "<p>By default we will name columns identically to those in the years 2018 and 2019 as they correspond to the same parameter and represent the most updated data. For older years, such as 2017, some columns have been dropped.</p>\n"
   ]
  },
  {
   "cell_type": "code",
   "execution_count": null,
   "metadata": {},
   "outputs": [],
   "source": [
    "year_2015 = pd.read_csv(\"2015.csv\")\n",
    "year_2016 = pd.read_csv(\"2016.csv\")\n",
    "year_2017 = pd.read_csv(\"2017.csv\")\n",
    "year_2018 = pd.read_csv(\"2018.csv\")\n",
    "year_2019 = pd.read_csv(\"2019.csv\")\n",
    "\n",
    "countries = pd.read_csv('countries of the world.csv')\n",
    "\n",
    "world_map = pd.read_csv('democracy_dataset_updated.csv')"
   ]
  },
  {
   "cell_type": "code",
   "execution_count": null,
   "metadata": {},
   "outputs": [],
   "source": [
    "default_columns = [\"rank\",\"nation\",\"happiness_score\",\"gdp_capita\",\"life_expectancy\",\\\n",
    "           \"freedom_of_choice\",\"generosity\",\"perceived_corruption\"]\n",
    "#NOTE: YEAR 2018 AND 2019 WILL HAVE SOCIAL SUPPORT WHICH IS NOT INCLUDED IN DEFAULT_COLUMNS"
   ]
  },
  {
   "cell_type": "code",
   "execution_count": null,
   "metadata": {},
   "outputs": [],
   "source": [
    "year_2019.columns = [\"rank\",\"nation\",\"happiness_score\",\"gdp_capita\",\"social_support\",\"life_expectancy\",\\\n",
    "           \"freedom_of_choice\",\"generosity\",\"perceived_corruption\"]\n",
    "year_2019.head()"
   ]
  },
  {
   "cell_type": "code",
   "execution_count": null,
   "metadata": {},
   "outputs": [],
   "source": [
    "year_2018.columns = [\"rank\",\"nation\",\"happiness_score\",\"gdp_capita\",\"social_support\",\"life_expectancy\",\\\n",
    "           \"freedom_of_choice\",\"generosity\",\"perceived_corruption\"]\n",
    "year_2018.head()"
   ]
  },
  {
   "cell_type": "code",
   "execution_count": null,
   "metadata": {},
   "outputs": [],
   "source": [
    "year_2017.drop([\"Whisker.high\",\"Whisker.low\",\"Family\",\"Dystopia.Residual\"],axis=1,inplace=True)\n",
    "\n",
    "year_2017.columns = [\"nation\",\"rank\",\"happiness_score\",\"gdp_capita\",\"life_expectancy\",\\\n",
    "           \"freedom_of_choice\",\"generosity\",\"perceived_corruption\"]\n",
    "\n",
    "year_2017.head()\n",
    "\n",
    "#inplace is true, don't run this cell twice"
   ]
  },
  {
   "cell_type": "code",
   "execution_count": null,
   "metadata": {},
   "outputs": [],
   "source": [
    "year_2016.drop([\"Region\",\"Lower Confidence Interval\",\"Upper Confidence Interval\",\"Family\",\"Dystopia Residual\"],\\\n",
    "               axis=1,inplace=True)\n",
    "year_2016.columns = [\"nation\",\"rank\",\"happiness_score\",\"gdp_capita\",\"life_expectancy\",\\\n",
    "           \"freedom_of_choice\",\"generosity\",\"perceived_corruption\"]\n",
    "\n",
    "year_2016.head()\n",
    "\n",
    "#inplace is true, don't run this cell twice"
   ]
  },
  {
   "cell_type": "code",
   "execution_count": null,
   "metadata": {},
   "outputs": [],
   "source": [
    "year_2015.drop([\"Region\",\"Standard Error\",\"Family\",\"Dystopia Residual\"],axis=1,inplace=True)\n",
    "\n",
    "year_2015.columns = [\"nation\",\"rank\",\"happiness_score\",\"gdp_capita\",\"life_expectancy\",\\\n",
    "           \"freedom_of_choice\",\"generosity\",\"perceived_corruption\"]\n",
    "\n",
    "year_2015.head()"
   ]
  },
  {
   "cell_type": "markdown",
   "metadata": {},
   "source": [
    "#### The columns we want to analyze are given by default_columns:\n",
    "- rank: Rank in terms of happiness scores\n",
    "- nation: Country\n",
    "- happiness_score: Happiness Score\n",
    "- gdp_capita: Gross domestic product in per capita terms\n",
    "- life_expectancy: Healthy life expectancy which are the number of years you expect someone to live when born in a given country\n",
    "- freedom_of_choice: Freedom to take free choices\n",
    "- generosity: To what extent people are generous\n",
    "- perceived_corruption: How corrupt people perceive their government to be"
   ]
  },
  {
   "cell_type": "code",
   "execution_count": null,
   "metadata": {},
   "outputs": [],
   "source": [
    "year_2015 = year_2015.loc[:,default_columns]\n",
    "year_2016 = year_2016.loc[:,default_columns]\n",
    "year_2017 = year_2017.loc[:,default_columns]\n",
    "year_2018 = year_2018.loc[:,default_columns]\n",
    "year_2019 = year_2019.loc[:,default_columns]\n",
    "\n",
    "#add year\n",
    "\n",
    "year_2015[\"year\"] = 2015\n",
    "year_2016[\"year\"] = 2016\n",
    "year_2017[\"year\"] = 2017\n",
    "year_2018[\"year\"] = 2018\n",
    "year_2019[\"year\"] = 2019\n",
    "\n",
    "#concatenate data under a single dataframe\n",
    "\n",
    "df = pd.concat([year_2015,year_2016,year_2017,year_2018,year_2019]).copy()\n",
    "\n",
    "df.head(10)"
   ]
  },
  {
   "cell_type": "markdown",
   "metadata": {},
   "source": [
    "By precaution we will drop NaN values in our data, as they may lead us to draw wrong conlusions."
   ]
  },
  {
   "cell_type": "code",
   "execution_count": null,
   "metadata": {},
   "outputs": [],
   "source": [
    "df.dropna(inplace=True)"
   ]
  },
  {
   "cell_type": "code",
   "execution_count": null,
   "metadata": {},
   "outputs": [],
   "source": [
    "df"
   ]
  },
  {
   "cell_type": "markdown",
   "metadata": {},
   "source": [
    "# Presentation of the Happiness World Map (a First Glance)\n",
    "\n",
    "With the map presented, we can see how happiness is distributed by country"
   ]
  },
  {
   "cell_type": "code",
   "execution_count": null,
   "metadata": {},
   "outputs": [],
   "source": [
    "fig = go.Figure(data=go.Choropleth(\n",
    "    locations = world_map['iso_a3'],\n",
    "    z = world_map['Score'],\n",
    "    text = world_map['Country'],\n",
    "    colorscale = 'geyser',\n",
    "    autocolorscale=False,\n",
    "    reversescale=True,\n",
    "    marker_line_color='black',\n",
    "    marker_line_width=1,\n",
    "    colorbar_tickprefix = '',\n",
    "    colorbar_title = 'Happiness Score',\n",
    "))\n",
    "\n",
    "fig.update_layout(\n",
    "    title_text='African and Asian countries seem less happy than others ',\n",
    "    geo=dict(\n",
    "        showframe=False,\n",
    "        showcoastlines=False,\n",
    "        projection_type='equirectangular'\n",
    "    ),\n",
    "    annotations = [dict(\n",
    "        x=0.5,\n",
    "        y=0,\n",
    "        xref='paper',\n",
    "        yref='paper',\n",
    "        text='Source: Kaggle',\n",
    "        showarrow = False\n",
    "    )]\n",
    ")\n",
    "\n",
    "#fig.write_image(\"worldmaphappiness.png\",width=1920,height=1080)\n",
    "fig.show()"
   ]
  },
  {
   "cell_type": "markdown",
   "metadata": {},
   "source": [
    "The figure above shows how happy different people from 156 different countries perceive themselves to be. We'll start by exploring how the explanatory variables used to explain hapiness scores in the World Happiness Report are distributed given the total number of countries involved, and then explore how correlated these variables are with happiness scores. At first glance, happiness is higher in west Europe, north America and Oceania, followed by South America and then Asia. Other than Saudi Arabia, the middle east scores the poorest in happiness, only followed by Africa."
   ]
  },
  {
   "cell_type": "markdown",
   "metadata": {},
   "source": [
    "_Technical Note: Despite the cantril ladder being used, for which the values obtained in theory can be between 0 and 10, our colorscale goes only from slightly below 3 to slightly below 8 as all countries are within these values and it helps make the visualisation of differences between countries easier._"
   ]
  },
  {
   "cell_type": "markdown",
   "metadata": {},
   "source": [
    "## Quartiles\n",
    "For later use, we added two columns which contain the separated happiness score and GDP score into quartiles which will be used in order to produce a pairwise comparison between variables, helping us to simplify comparison and analysis."
   ]
  },
  {
   "cell_type": "code",
   "execution_count": null,
   "metadata": {},
   "outputs": [],
   "source": [
    "df['Quartiles_by_Happiness'] =  pd.qcut(df['happiness_score'], 4, labels = ['Low (percentil 25)','Mid (percentil 50)','Mid-High (percentil 75)','High (percentil 100)'])\n",
    "df['Quartiles_by_gdp_capita'] = pd.qcut(df['gdp_capita'], 4, labels = ['Low_gdp (percentil 25)','Mid_gdp (percentil 50)','Mid-High_gdp (percentil 75)','High_gdp (percentil 100)'])"
   ]
  },
  {
   "cell_type": "code",
   "execution_count": null,
   "metadata": {},
   "outputs": [],
   "source": [
    "df.head()"
   ]
  },
  {
   "cell_type": "markdown",
   "metadata": {},
   "source": [
    "# Distribution of the explanatory variables\n",
    "\n",
    "## The histograms below are an approximate representation of the distribution of the explanatory variables (the factors that explain happiness scores)."
   ]
  },
  {
   "cell_type": "code",
   "execution_count": null,
   "metadata": {},
   "outputs": [],
   "source": [
    "# First Year Displayed\n",
    "year = 2015\n",
    "\n",
    "# Relevant Columns\n",
    "relevant_columns = ['happiness_score','gdp_capita','life_expectancy','freedom_of_choice','generosity','perceived_corruption']\n",
    "\n",
    "x_axis = []\n",
    "for i in range(len(relevant_columns)):\n",
    "    x_axis.append(df.loc[df['year']==int(year)][relevant_columns[i]])\n",
    "\n",
    "hist0 = go.Histogram(\n",
    "    x=x_axis[0],\n",
    "    opacity=0.6,\n",
    "    name='happiness_score',\n",
    "    marker={'color':'green'}\n",
    ")\n",
    "hist1 = go.Histogram(\n",
    "    x=x_axis[1],\n",
    "    opacity=0.6,\n",
    "    name='gdp_capita',\n",
    "    marker={'color':'blue'}\n",
    ")\n",
    "\n",
    "hist2 = go.Histogram(\n",
    "    x=x_axis[2],\n",
    "    opacity=0.6,\n",
    "    name='life_expectancy',\n",
    "    marker={'color':'red'}\n",
    ")\n",
    "hist3 = go.Histogram(\n",
    "    x=x_axis[3],\n",
    "    opacity=0.6,\n",
    "    name='freedom_of_choice',\n",
    "    marker={'color':'maroon'}\n",
    ")\n",
    "hist4 = go.Histogram(\n",
    "    x=x_axis[4],\n",
    "    opacity=0.6,\n",
    "    name='generosity',\n",
    "    marker={'color':'darkorchid'}\n",
    ")\n",
    "hist5 = go.Histogram(\n",
    "    x=x_axis[5],\n",
    "    opacity=0.6,\n",
    "    name='perceived_corruption',\n",
    "    marker={'color':'orange'}\n",
    ")\n",
    "\n",
    "fig2 = subplots.make_subplots(rows=3,\n",
    "                    cols=2,\n",
    "                    #print_grid=False,\n",
    "                    vertical_spacing=0.15,\n",
    "                    horizontal_spacing=0.095,\n",
    "                    #x_title='Your master x-title',\n",
    "                    y_title='Number of Countries',\n",
    "                    subplot_titles=('Happiness score','GDP per Capita','Life expectancy',\n",
    "                                    'Freedom of choice','Generosity','Perceived Corruption'))\n",
    "\n",
    "fig2.append_trace(hist0, 1, 1)\n",
    "fig2.append_trace(hist1, 1, 2)\n",
    "fig2.append_trace(hist2, 2, 1)\n",
    "fig2.append_trace(hist3, 2, 2)\n",
    "fig2.append_trace(hist4, 3, 1)\n",
    "fig2.append_trace(hist5, 3, 2)\n",
    "\n",
    "fig2.update_layout(#yaxis_title='# Countries',\n",
    "    updatemenus=[\n",
    "        dict(\n",
    "            active=0,\n",
    "            buttons=list([\n",
    "                dict(label=\"2015\",\n",
    "                     method=\"update\",\n",
    "                     args=[{'x':[df.loc[df['year']==2015][relevant_columns[i]] for i in range(len(relevant_columns))],\n",
    "                             'type':'histogram',\n",
    "                             \"title\": \"Year 2015\"}]),\n",
    "                dict(label=\"2016\",\n",
    "                     method=\"update\",\n",
    "                     args=[{'x':[df.loc[df['year']==2016][relevant_columns[i]] for i in range(len(relevant_columns))],\n",
    "                             'type':'histogram',\n",
    "                             \"title\": \"Year 2016\"}]),\n",
    "                dict(label=\"2017\",\n",
    "                     method=\"update\",\n",
    "                     args=[{'x':[df.loc[df['year']==2017][relevant_columns[i]] for i in range(len(relevant_columns))],\n",
    "                             'type':'histogram',\n",
    "                             \"title\": \"Year 2017\"}]),\n",
    "                dict(label=\"2018\",\n",
    "                     method=\"update\",\n",
    "                     args=[{'x':[df.loc[df['year']==2018][relevant_columns[i]] for i in range(len(relevant_columns))],\n",
    "                             'type':'histogram',\n",
    "                             \"title\": \"Year 2018\"}]),\n",
    "                dict(label=\"2019\",\n",
    "                     method=\"restyle\",\n",
    "                     args=[{'x':[df.loc[df['year']==2019][relevant_columns[i]] for i in range(len(relevant_columns))],\n",
    "                             'type':'histogram'},\n",
    "                             {\"title\": \"Year 2019\"}]),\n",
    "            ]),\n",
    "        )\n",
    "    ])\n",
    "\n",
    "# Set title\n",
    "fig2.update_layout(title_text=\"Different Variable Distributions by Year\")\n",
    "for i in range(len(relevant_columns)):\n",
    "    fig2.layout.annotations[i][\"font\"] = {'size': 14}\n",
    "\n",
    "fig2.show()"
   ]
  },
  {
   "cell_type": "markdown",
   "metadata": {},
   "source": [
    "### Happiness Score\n",
    "Seems to be normally distributed with mean around Score level of 5.\n",
    "\n",
    "Throughout the years, from 2015 to 2019, happiness seems to have slightly increased for countries with initial low levels, with an increase in concentration of the density around the mean.\n",
    "\n",
    "### GDP per Capita\n",
    "There seems to be a shift in density rightwards (away from 0), and towards higher levels of GDP per capita.\n",
    "\n",
    "### Life Expectancy\n",
    "This indicator has some significant variations throughout the years, with the concentration between 2016 to 2018 moving towards the left (the median decreases) but coming back to levels similar to 2015 in the year 2019, albeith now with a higher average given the thinner tail on the left (towards 0)\n",
    "\n",
    "### Freedom of Choice\n",
    "Freedom of choice indicator seems to be decreasing from 2015 to 2019, with the density moving more towards the left.\n",
    "\n",
    "### Generosity\n",
    "This subjective indicator seems to have improve from 2015 to 2019 with density of values increasing and shifting towards higher levels of the indicator.\n",
    "\n",
    "### Perceived Corruption\n",
    "Perceived corruption has been declining throughout the years, moving closer to 0 when comparing 2015 with 2019."
   ]
  },
  {
   "cell_type": "markdown",
   "metadata": {},
   "source": [
    "# Correlation of each variable between each other\n",
    "## Correlation Matrix\n",
    "By constructing a correlation matrix, we aim to understand how each variable relates with each other. This will give us an idea of where to follow with our analysis of specific factors that have a higher impact on Happiness Scores. "
   ]
  },
  {
   "cell_type": "code",
   "execution_count": null,
   "metadata": {},
   "outputs": [],
   "source": [
    "relevant_columns = ['happiness_score','gdp_capita','life_expectancy','freedom_of_choice','generosity','perceived_corruption']\n",
    "df_rev = df[relevant_columns]\n",
    "corr_val = df_rev.corr()"
   ]
  },
  {
   "cell_type": "code",
   "execution_count": null,
   "metadata": {},
   "outputs": [],
   "source": [
    "# First, get a color map -> a function that converts numbers to colors\n",
    "c_palette = sns.color_palette(\"PuBu\", as_cmap=True)\n",
    "\n",
    "# then initialize the figure and subplots\n",
    "fig, ax= plt.subplots(1,1,figsize=(10,8))\n",
    "\n",
    "# use a heatmap with the correlation matrix, the colormap, and the axis\n",
    "sns.heatmap(corr_val, cmap=c_palette, ax=ax)\n",
    "\n",
    "# just fix the fontsize\n",
    "plt.xticks(fontsize=14)\n",
    "plt.yticks(fontsize=14);\n",
    "\n",
    "# add title\n",
    "plt.title(\"GDP per capita and Life Expectancy \\n have the strongest correlation with Happiness Score \\n \", fontsize = 20)"
   ]
  },
  {
   "cell_type": "markdown",
   "metadata": {},
   "source": [
    "### _\"As expected, happiness score shows a high positive relation with GDP per capita and Life expectancy\"_\n",
    "\n",
    "It is clear that, as expected, happiness score shows a high positive relation with GDP per capita and Life expectancy. \n",
    "These are followed by freedom of choice which shows an interesting correlation with happiness score and should be interesting for a closer look. \n",
    "\n",
    "However, the correlation matrix does not allow us to make many interpretations on the relevance of each variable, allowing only for us to start paying attention to specific and possibly interesting relations between variables. "
   ]
  },
  {
   "cell_type": "markdown",
   "metadata": {},
   "source": [
    "# Pairwise Comparison Between Variables\n",
    "Having identified which are the variables that seem to be more correlated with the Happiness score we perform a Pairwise Comparison between variables to see how they are actually distributed and, using Quartiles by Happiness, how do the percentiles mix across the different scatter plots."
   ]
  },
  {
   "cell_type": "code",
   "execution_count": null,
   "metadata": {},
   "outputs": [],
   "source": [
    "g = sns.pairplot(data=df.drop(['year','rank'],axis=1), hue='Quartiles_by_Happiness', \n",
    "             palette=None, x_vars=None, y_vars=None, kind='scatter', diag_kind='kde', \n",
    "             height=2.5, aspect=1, corner=True, dropna=False, plot_kws=None, diag_kws=None, \n",
    "             grid_kws=None\n",
    "            )\n",
    "g.fig.suptitle(\"Comparison between variables and distribution across Happiness Quartile\", y=0.98, fontsize = 18)"
   ]
  },
  {
   "cell_type": "markdown",
   "metadata": {},
   "source": [
    "### _\"GDP per capita and Life Expectancy are highly correlated with Happiness Scores and show a constant variance\"_\n",
    "GDP per capita, and Life expectancy are highly correlated with Happiness Score, and seems to have a relatively constant variance (Homoskedastic)\n",
    "\n",
    "However, both GDP per capita and Life expectancy, but a stronger presence on Life Expectancy, seem to have for the Mid and Low percentiles of Happiness, a wider variance, that is:\n",
    "\n",
    "For the same values of happiness, there are very different instances of Life expectancy and GDP per capita.\n",
    "### _\"For low levels of Happiness there is a clear increase in variance for all important measures, namely Freedom of choice and Life expectancy\"_\n",
    "This would suggest that although these parameters have a strong correlation with Happiness on higher levels, low levels of Happiness have different factors that need to be taken into account\n",
    "\n",
    "The perceived Freedom of Choice indicator is an extreme example for what is depicted above, being a clear Heteroskedastic distribution\n",
    "### _\"Freedom of Choice seems to be extremely necessary for the highest levels of Happiness although it has a low correlation for lower Happiness percentiles\"_\n",
    "It seems to be the case that for low levels of Happiness Freedom of choice is not a determinant component, however, there's a strong suggestion for its importance as happiness scores increase\n",
    "\n",
    "All Countries in the Highest percentile have high levels of Freedom of choice with seemingly, no outliers\n",
    "\n",
    "The remaining factors: Generosity and Perceived Corruption don't seem to have any correlation with happiness scores.\n",
    "### _\"For higher levels of Happiness (High percentile - red) GDP per capita, Life expectancy and Freedom of Choice seem to be determinant factors\"_\n",
    "Looking at the diagonal KDE distributions we can observe that:\n",
    "\n",
    "GDP per capita, Life expectancy and Freedom of Choice all have the Highest percentile of Happiness Scores Countries with a skewed and peaked distribution to the right of the graph.\n",
    "\n",
    "This implies that these are at least determinant factors for high levels of happiness\n",
    "\n",
    "By opposition, Generosity and Perceived Corruption have all very overlapping distributions of the different Quartiles, further suggestion a low correlation and importance as determinant factor"
   ]
  },
  {
   "cell_type": "code",
   "execution_count": null,
   "metadata": {},
   "outputs": [],
   "source": [
    "a = sns.pairplot(data=df.drop(['year','rank'],axis=1), hue='Quartiles_by_Happiness', \n",
    "             palette=None, x_vars=['happiness_score','gdp_capita','life_expectancy','freedom_of_choice'], \n",
    "             y_vars=['happiness_score','gdp_capita','life_expectancy','freedom_of_choice'], \n",
    "             kind='kde', diag_kind='kde', height=2.5, aspect=1, corner=True, \n",
    "             dropna=False, plot_kws=None, diag_kws=None, \n",
    "             grid_kws=None, size=None\n",
    "            )\n",
    "a.fig.suptitle(\"Relationship between determinant factors and distribution across Happiness Quartile\", y=0.98, fontsize = 12)"
   ]
  },
  {
   "cell_type": "markdown",
   "metadata": {},
   "source": [
    "### _\"For high levels of Happiness Score, Freedom of Choice, Life Expectancy and GDP per Capita are very concentrated\"_\n",
    "Taking a closer look to the most determinant variables (GDP per capita, Life expectancy and Freedom of Choice), with a focus on densities accross the quartiles, it is possible to confirm the previous insights."
   ]
  },
  {
   "cell_type": "markdown",
   "metadata": {},
   "source": [
    "## Adding a new column to the dataset\n",
    "To analyse where most world population is in terms of happiness score, we added a complementary dataset, which contains the population for each country."
   ]
  },
  {
   "cell_type": "code",
   "execution_count": null,
   "metadata": {},
   "outputs": [],
   "source": [
    "countries.drop([ 'Region', 'Area (sq. mi.)',\n",
    "       'Pop. Density (per sq. mi.)', 'Coastline (coast/area ratio)',\n",
    "       'Net migration', 'Infant mortality (per 1000 births)',\n",
    "       'GDP ($ per capita)', 'Literacy (%)', 'Phones (per 1000)', 'Arable (%)',\n",
    "       'Crops (%)', 'Other (%)', 'Climate', 'Birthrate', 'Deathrate',\n",
    "       'Agriculture', 'Industry', 'Service'], axis=1, inplace=True)"
   ]
  },
  {
   "cell_type": "code",
   "execution_count": null,
   "metadata": {},
   "outputs": [],
   "source": [
    "countries.rename(columns = {\"Country\": \"nation\"}, inplace=True)"
   ]
  },
  {
   "cell_type": "code",
   "execution_count": null,
   "metadata": {},
   "outputs": [],
   "source": [
    "#When we looked at the new dataset, the name of the country had a space. \n",
    "#In order to merge the two datasets, we computed this code.\n",
    "nation = [countries.iloc[i,0][:-1] for i in range(0, len(countries))]"
   ]
  },
  {
   "cell_type": "code",
   "execution_count": null,
   "metadata": {},
   "outputs": [],
   "source": [
    "final = pd.DataFrame({\"nation\": nation, \"Population\": countries[\"Population\"]})"
   ]
  },
  {
   "cell_type": "code",
   "execution_count": null,
   "metadata": {},
   "outputs": [],
   "source": [
    "year_2019_pop = year_2019.merge(final, how='right', on = \"nation\")\n",
    "year_2018_pop = year_2018.merge(final, how='right', on = \"nation\")\n",
    "year_2017_pop = year_2017.merge(final, how='right', on = \"nation\")\n",
    "year_2016_pop = year_2016.merge(final, how='right', on = \"nation\")\n",
    "year_2015_pop = year_2015.merge(final, how='right', on = \"nation\")"
   ]
  },
  {
   "cell_type": "code",
   "execution_count": null,
   "metadata": {},
   "outputs": [],
   "source": [
    "year_2019_pop.dropna(axis=0, inplace = True)\n",
    "year_2018_pop.dropna(axis=0, inplace = True)\n",
    "year_2017_pop.dropna(axis=0, inplace = True)\n",
    "year_2016_pop.dropna(axis=0, inplace = True)\n",
    "year_2015_pop.dropna(axis=0, inplace = True)"
   ]
  },
  {
   "cell_type": "code",
   "execution_count": null,
   "metadata": {},
   "outputs": [],
   "source": [
    "year_2018_pop"
   ]
  },
  {
   "cell_type": "code",
   "execution_count": null,
   "metadata": {},
   "outputs": [],
   "source": [
    "dfinal = pd.concat([year_2015_pop,year_2016_pop,year_2017_pop,year_2018_pop,year_2019_pop]).copy()\n",
    "\n",
    "dfinal.head(10)"
   ]
  },
  {
   "cell_type": "code",
   "execution_count": null,
   "metadata": {},
   "outputs": [],
   "source": [
    "dfinal['Quartiles_by_Population'] =  pd.qcut(dfinal['Population'], 4, labels = ['Low','Mid','Mid-Top','Top'])\n",
    "dfinal['Quartiles_by_gdp_capita'] = pd.qcut(dfinal['gdp_capita'], 4, labels = ['Low_gdp (percentil 25)','Mid_gdp (percentil 50)','Mid-High_gdp (percentil 75)','High_gdp (percentil 100)'])"
   ]
  },
  {
   "cell_type": "code",
   "execution_count": null,
   "metadata": {},
   "outputs": [],
   "source": [
    "dfinal.head(10)"
   ]
  },
  {
   "cell_type": "markdown",
   "metadata": {},
   "source": [
    "# Relation between Happiness and Population\n",
    "\n",
    "The graph below allows us to check the evolution of each country's happiness score against GDP from 2015 to 2019.\n",
    "By using population as bubble size we expect to understand where most people live, in terms of happiness score, and observe how countries and their score evolve throughout the years with a (normally) increasing indicator of GDP per capita.\n",
    "### _\"We want to evaluate if GDP per capita relevance leads to an increase of happiness score\"_\n",
    "\n",
    "> We strongly invite you to change and explore the evolution manually by choosing the year to be previewed."
   ]
  },
  {
   "cell_type": "code",
   "execution_count": null,
   "metadata": {},
   "outputs": [],
   "source": [
    "px.scatter(dfinal, x=\"gdp_capita\", \n",
    "           y=\"happiness_score\", \n",
    "           animation_frame=\"year\", \n",
    "           color=\"Quartiles_by_gdp_capita\",\n",
    "           animation_group = \"nation\", \n",
    "           size=\"Population\", \n",
    "           hover_name = \"nation\",\n",
    "           title = \"World population is mostly concentrated around a happiness score of 5 (from 0-10)\",\n",
    "           labels={\"gdp_capita\": \"GDP Score\",\n",
    "                   \"happiness_score\":\"Happiness Score\",\n",
    "                   \"Quartiles_by_gdp_capita\":\"Quartiles by GDP Score\"}\n",
    "          )"
   ]
  },
  {
   "cell_type": "markdown",
   "metadata": {},
   "source": [
    "### _\"Throughout most years, GDP is increasing its relevance on explaining happiness score\"_\n",
    "\n",
    "With this interactive graph, we can also see that most of the world population has a happiness score of 5. \n",
    "\n",
    "We can also see that in the years that GDP shifts to the right. It means that it is increasing its relevance on explaining happiness score in each country. Clearly it helps us to improve our reasoning on GDP affecting happiness. \n",
    "\n",
    "#### Is where most people live in, where we should decide to live?\n",
    "\n",
    "With this interactive graph, we can also see that over half of the world population has a happiness score of above 5. \n",
    "\n",
    "#### China and India\n",
    "\n",
    "A more clear idea can be seen with an intersting analysis regarding where most of the population lives, China and India. Even though their GDP is increasing - we also see a change in the percentil levels of China - their happiness remains the same and India's happiness even decreases.\n",
    "\n",
    "Choosing the place to live taking into consideration where most people live should not be the best decision.\n",
    "\n",
    "#### Throughout the years\n",
    "\n",
    "Clearly, GDP is a good measure to explain if a country is happy, but along the years countries seem to maintain their levels of happiness. \n",
    "Maybe there could be a clearer way to see if there is a country improving its happiness."
   ]
  },
  {
   "cell_type": "code",
   "execution_count": null,
   "metadata": {},
   "outputs": [],
   "source": [
    "#Below we add data to the year 2019 regarding democracy scores, regions and ISO codes in order to plot world maps\n",
    "year_2019.head()"
   ]
  },
  {
   "cell_type": "code",
   "execution_count": null,
   "metadata": {},
   "outputs": [],
   "source": [
    "world_map.head()"
   ]
  },
  {
   "cell_type": "code",
   "execution_count": null,
   "metadata": {},
   "outputs": [],
   "source": [
    "dem_nation = world_map.rename(columns = {\"Overall rank\": \"rank\"})"
   ]
  },
  {
   "cell_type": "code",
   "execution_count": null,
   "metadata": {},
   "outputs": [],
   "source": [
    "gdp_map = dem_nation.merge(year_2019, how='right', on = \"rank\")"
   ]
  },
  {
   "cell_type": "code",
   "execution_count": null,
   "metadata": {},
   "outputs": [],
   "source": [
    "gdp_map.head()"
   ]
  },
  {
   "cell_type": "markdown",
   "metadata": {},
   "source": [
    "# GDP per capita with Happiness\n",
    "With the world map below, we can conclude our reasoning on explaining GDP affecting Happiness, stating that there could be a good relationship between countries' happiness depending on their location or region.\n",
    "By using the _button_ and switching between the \"Happiness World Map\" and \"GDP World Map\", we clearly see that Europe has a remarkable good correlation between GDP and Happiness, while the remaining regions also tend to share similarities between both."
   ]
  },
  {
   "cell_type": "code",
   "execution_count": null,
   "metadata": {},
   "outputs": [],
   "source": [
    "# Map GDP\n",
    "fig = go.Figure(go.Choropleth(\n",
    "    locations = gdp_map['iso_a3'],\n",
    "    z = gdp_map['Score'],\n",
    "    text = gdp_map['Country'],\n",
    "    colorscale = 'turbo',\n",
    "    #zmin = 0, defaults to Cantril ladder Scale\n",
    "    #zmax = 10,\n",
    "    autocolorscale=False,\n",
    "    reversescale=True,\n",
    "    marker_line_color='lightyellow',\n",
    "    marker_line_width=1,\n",
    "    colorbar_tickprefix = '',\n",
    "    colorbar_title = 'Score'\n",
    "))\n",
    "\n",
    "fig.update_layout(title_text='South America scores close to europe in happiness while having lower GDP scores',\n",
    "                  geo=dict(\n",
    "        showframe=False,\n",
    "        showcoastlines=False,\n",
    "        projection_type='equirectangular'\n",
    "    ),\n",
    "    annotations = [dict(\n",
    "        x=0.55,\n",
    "        y=0.1,\n",
    "        xref='paper',\n",
    "        yref='paper',\n",
    "        text='Source: Kaggle',\n",
    "        showarrow = False\n",
    "    )],\n",
    "    updatemenus=[\n",
    "        dict(\n",
    "            active=0,\n",
    "            buttons=list([\n",
    "                dict(label=\"Happiness World Map\",\n",
    "                     method=\"update\",\n",
    "                     args=[{'z': [gdp_map['Score']], 'zmin':2, 'zmax':8}]), # While 0-10 are the theoretical Candril ladder scale interval, it is better for visualisation to have an interval suitable for the actual values of a nation\n",
    "                dict(label=\"GDP World Map\",\n",
    "                     method=\"update\",\n",
    "                     args=[{'z': [gdp_map['gdp_capita']], 'zmin':0, 'zmax':1.7}]) \n",
    "               \n",
    "      \n",
    "            ]))\n",
    "    ])\n",
    "\n",
    "fig.show()"
   ]
  },
  {
   "cell_type": "markdown",
   "metadata": {},
   "source": [
    "## Analysis\n",
    "\n",
    "Comparing the above graphs, most of the regions which have good levels of happiness score, also have a high weight levels of GDP explaining happiness.\n",
    "\n",
    "Clearly, people put their economy as a relevant factor on explaining how happy they are.\n",
    "\n",
    "\n",
    "\n"
   ]
  },
  {
   "cell_type": "markdown",
   "metadata": {},
   "source": [
    ">We have shown that a high level of happiness was highly correlated with a high GDP per Capita and Life Expectancy. Consequently, while taking into consideration the country we want to live in, we should definitly prefer countries where the GDP per Capita or Life Expectancy are high, to maximize our chances at Happiness."
   ]
  },
  {
   "cell_type": "markdown",
   "metadata": {},
   "source": [
    "# World Happiness Analysis\n",
    "Focusing solely on the Happiness World Map, which plots the happiness score per country in 2019, we want to further analyze trends on how happiness is distributed per geographical location, or per region.  "
   ]
  },
  {
   "cell_type": "code",
   "execution_count": null,
   "metadata": {},
   "outputs": [],
   "source": [
    "fig = go.Figure(data=go.Choropleth(\n",
    "    locations = world_map['iso_a3'],\n",
    "    z = world_map['Score'],\n",
    "    text = world_map['Country'],\n",
    "    colorscale = 'turbo',\n",
    "    zmin = 0,\n",
    "    zmax = 10,\n",
    "    autocolorscale=False,\n",
    "    reversescale=True,\n",
    "    marker_line_color='lightyellow',\n",
    "    marker_line_width=1,\n",
    "    colorbar_tickprefix = '',\n",
    "    colorbar_title = 'Happiness Score',\n",
    "))\n",
    "\n",
    "fig.update_layout(\n",
    "    title_text='Happiness World Map 2019 using Cantril ladder scale as reference',\n",
    "    geo=dict(\n",
    "        showframe=False,\n",
    "        showcoastlines=False,\n",
    "        projection_type='equirectangular'\n",
    "    ),\n",
    "    annotations = [dict(\n",
    "        x=0.5,\n",
    "        y=0.01,\n",
    "        xref='paper',\n",
    "        yref='paper',\n",
    "        text='Source: Kaggle',\n",
    "        showarrow = False\n",
    "    )]\n",
    ")\n",
    "\n",
    "#fig.write_image(\"worldmapdemocracy.png\", width=1920,height=1080)\n",
    "fig.show()"
   ]
  },
  {
   "cell_type": "markdown",
   "metadata": {},
   "source": [
    "_Note: Most nations' happiness score don't stand in neither of the extreme values of the scale_"
   ]
  },
  {
   "cell_type": "markdown",
   "metadata": {},
   "source": [
    "There is a clear geographical distribution in the prevalence of Happiness Scores Worldwide as it is very clear that the Northern Hemisphere has a higher density of Countries with a high happiness score with the European and North-American regions. \n",
    "## _\"High Happiness Scores seem to be mostly concentrated on the Northern Hemisphere\"_\n",
    "Concretely in North America, Europe, Oceania, and South America. \n",
    "This is in line with the previous findings as Europe and North America are well know rich regions with high life expectancy. \n",
    "\n",
    "## _\"South America has a surprisingly density of high Happiness Scores\"_\n",
    "It is very interesting to notice that countries in South America, not traditionally known for a high GDP per capita, and understood as less developed - at least when compared with the European and North American paradigm - have medium-high Happiness scores (Happiness score seems to be always above 6, except for Venezuela which looks below 5)\n",
    "\n",
    "## _\"Asia and Africa seem to be the most unhappy continents\"_\n",
    "Both Asia and Africa seem to be the most unhappy continents, where very few countries seem to have a score above 6. "
   ]
  },
  {
   "cell_type": "markdown",
   "metadata": {},
   "source": [
    "# Regional happiness analysis (violinplots and boxplots)\n",
    "# Violin Plot \n",
    "Given our desire for Happiness and to make a more informed decision, we would like to know the distribution of scores per region, by splitting between those that are higher or lower than 6. \n",
    "We chose 6 as our reference point because according to the Candrill ladder, values above 6 enter the _\"thriving zone\"_ of the ladder scale and this value represents the boundary between _\"just ok\"_ and _\"doing well\"_."
   ]
  },
  {
   "cell_type": "code",
   "execution_count": null,
   "metadata": {},
   "outputs": [],
   "source": [
    "df_copy = world_map[[' Region','Score']].copy()\n",
    "df_copy['higher_than_6'] = df_copy['Score']>=6\n",
    "fig, ax = plt.subplots(figsize=(46,30))\n",
    "sns.violinplot(x=' Region', y='Score', hue='higher_than_6', data=df_copy, palette=\"viridis\",\n",
    "                   split=True, bw=0.5, ax=ax)\n",
    "category = 'Region'\n",
    "fontsize = 40\n",
    "numeric = 'Happiness Score'\n",
    "binary = 'Score'\n",
    "operator = 'higher than'\n",
    "oper_to = 6\n",
    "\n",
    "plt.xlabel(f'{category}', fontsize=fontsize)\n",
    "plt.ylabel(f'{numeric} distribution per \"{category}\" (0-10)', fontsize=fontsize)\n",
    "plt.xticks(fontsize=fontsize - 5)\n",
    "plt.yticks(fontsize=fontsize - 5)\n",
    "plt.legend(title=binary, title_fontsize=fontsize, fontsize=fontsize)\n",
    "plt.title(f'Distribution of \"{numeric}\" by \"{category}\" splitted by \"{binary}\" {operator} {oper_to}\"', \n",
    "          fontsize=fontsize + 10)\n",
    "ax.axhline(6,alpha = 0.5, linestyle = '--', linewidth = 5)\n",
    "plt.ylim(0,10)"
   ]
  },
  {
   "cell_type": "markdown",
   "metadata": {},
   "source": [
    "### _\"Confirmed: Regions with higher scores (above 6) are mostly located in the Northern Hemisphere\"_\n",
    "We can observe that, as the world map of happiness suggested, the regions with higher scores (above 6) are mostly located in the Northern Hemisphere, namely Europe, North America and, as we can now see, Asia.\n",
    "### _\"However, being in the Northern Hemisphere is NOT a guarantee of being in a happy country\"_\n",
    "Notice that not all places in Europe are the same, with the distribution of scores below 6 also seemingly significative, the same is valid for North-America and Asia (which both have the largest variation in scores)\n",
    "### _\"The safest choice is exploring OCEANIA, where happiness score is only above 6 and close to 8\"_\n",
    "Within our analysis, besides Oceania having the most certainty of values above 6, we also conclude that Africa has no score above 6 and that the distribution in South America is balanced, with an apparent evenness between scores above and below 6.\n",
    "### _\"Africa possesses the lowest scores with nothing above 6\"_"
   ]
  },
  {
   "cell_type": "markdown",
   "metadata": {},
   "source": [
    "## Boxplot \n",
    "In order to better understand how the data is really distributed, we'll look at the Boxplot with happiness scores per region."
   ]
  },
  {
   "cell_type": "code",
   "execution_count": null,
   "metadata": {},
   "outputs": [],
   "source": [
    "fig, ax = plt.subplots(figsize=(46,30))\n",
    "sns.boxplot (y=world_map[\"Score\"], x = world_map[\" Region\"],palette = \"Set3\", ax=ax).set_title(\"Happiness distribution is tighter in Americas and Oceania\")\n",
    "category = 'Region'\n",
    "fontsize = 40\n",
    "numeric = 'Happiness Score'\n",
    "binary = 'Score'\n",
    "\n",
    "plt.xlabel(f'{category}', fontsize=fontsize)\n",
    "plt.ylabel(f'{numeric} distribution per \"{category}\" (0-10)', fontsize=fontsize)\n",
    "plt.xticks(fontsize=fontsize - 5)\n",
    "plt.yticks(fontsize=fontsize - 5)\n",
    "plt.title(f'Distribution of \"{numeric}\" by \"{category}\"', \n",
    "          fontsize=fontsize + 10);\n",
    "ax.axhline(6,alpha = 0.5, linestyle = '--', linewidth = 5)\n",
    "plt.ylim(0,10)"
   ]
  },
  {
   "cell_type": "markdown",
   "metadata": {},
   "source": [
    "### _\"European distribution has 50% of its observations with a happiness score higher than 6\"_\n",
    "It is clear that even the European distribution has at least 50% of its total observations with a happiness score higher than 6, as well as possessing the **highest happiness score of the whole dataset.**\n",
    "### _\"North America has almost 75% of its distribution above 6\"_\n",
    "North America on the other hand seems to have a more dense distribution with 75% of its total observations basically above 6, and almost 100% from close to 6 and upwards - this shows a much wanted consistency that is evidently lacking in the largest variation of the set. \n",
    "### _\"Asia has 75% of countries with a happiness level lower than 6\"_\n",
    "Asia has 75% of its countries with a happiness level lower than 6, having 25% its countries with a score as low as between 3 and 5.\n",
    "\n",
    "### _\"South America is again surprisingly balanced with happiness levels consistently around 6.\"_"
   ]
  },
  {
   "cell_type": "markdown",
   "metadata": {},
   "source": [
    "By Having all of this information we are almost certain that we could already make a decision of what region to pick in order to choose a happy country to go live in.\n",
    "\n",
    "Certainly Oceania is very attractive with a virtual certainty of a high quality of life given the high happiness scores. However, Europe still possesses the highest scores and certainly has a a wider range of cultures to choose from.\n",
    "\n",
    "## So, what else is essential for our decision?\n",
    "\n",
    "The **regime and stability of the life we will lead within a country is a very important factor.** We don't want to risk choosing a country that is now rating high on happiness scores but potentially, due to its political system, things could turn the other way quickly with the introduction of policies that could restrict our freedom and safety."
   ]
  },
  {
   "cell_type": "markdown",
   "metadata": {},
   "source": [
    "# Comparing World Happiness with World Democracy\n",
    "Looking at the 2019 happiness world map we posed the hypothesis, is it possible to see some similarities similar with a democracy world map?\n",
    "Therefore we decided to add to our datasets the Index of Democracy, established by \"The Economist Intelligence Unit\" in 2019, to explore this hypothesis."
   ]
  },
  {
   "cell_type": "markdown",
   "metadata": {},
   "source": [
    "## Democracy World Map\n",
    "\n",
    "Please note that the Democracy index is based on 5 variables: \n",
    "1. **Electoral process and pluralism**\n",
    "2. **Functioning of government**\n",
    "3. **Political participation**\n",
    "4. **Political culture and Civil Liberties**\n",
    "\n",
    "#### First impression\n",
    "\n",
    "Let’s first, take a look of the 2019 democracy world map. \n",
    "It does look similar to the first happiness world map. The colorscale used is the same than the one on the happiness map, chosen on purpose."
   ]
  },
  {
   "cell_type": "markdown",
   "metadata": {},
   "source": [
    "### Comparing Happiness with Democcracy"
   ]
  },
  {
   "cell_type": "code",
   "execution_count": null,
   "metadata": {},
   "outputs": [],
   "source": [
    "fig = go.Figure(go.Choropleth(\n",
    "    locations = world_map['iso_a3'],\n",
    "    z = world_map['Score'],\n",
    "    text = world_map['Country'],\n",
    "    #zmax=10, defaults to Cantril ladder Scale\n",
    "    #zmin=0,\n",
    "    colorscale = 'magma',\n",
    "    autocolorscale=False,\n",
    "    reversescale=True,\n",
    "    marker_line_color='lightyellow',\n",
    "    marker_line_width=1,\n",
    "    colorbar_tickprefix = '',\n",
    "    colorbar_title = 'Score',\n",
    "))\n",
    "\n",
    "fig.update_layout(title_text='Geographical Distribution of Happiness and Democracy is Similar',\n",
    "    geo=dict(\n",
    "        showframe=False,\n",
    "        showcoastlines=False,\n",
    "        projection_type='equirectangular'\n",
    "    ),\n",
    "    annotations = [dict(\n",
    "        x=0.5,\n",
    "        y=0.01,\n",
    "        xref='paper',\n",
    "        yref='paper',\n",
    "        text='Source: The Economist Intelligence Unit & Kaggle',\n",
    "        showarrow = False\n",
    "    )],\n",
    "    updatemenus=[\n",
    "        dict(\n",
    "            active=0,\n",
    "            buttons=list([\n",
    "                dict(label=\"Happiness World Map\",\n",
    "                     method=\"update\",\n",
    "                     args=[{'z': [world_map['Score']]}]),\n",
    "                dict(label=\"Democracy Index World Map\",\n",
    "                     method=\"update\",\n",
    "                     args=[{'z': [world_map['democracy index']]}])\n",
    "            ]))\n",
    "    ])\n",
    "\n",
    "fig.show()"
   ]
  },
  {
   "cell_type": "markdown",
   "metadata": {},
   "source": [
    "### _\"It is very much noticeable that the distribution looks very similar\"_\n",
    "\n",
    "Globally we can observe obvious similarities or trends between democracy and happiness maps indeed, but differences as well. \n",
    "\n",
    "### _\"China and Russia have an extremely low democracy score, below 3\"_\n",
    "Looking at China and Russia, two countries with the biggest surface area in the world, look really different (their size might biase the perception) and while their happiness score was reasonably good (above 5) their democracy score looks extremely low, below 3. \n",
    "### _\"Europe, North America, Ocean and South America have a very similar color density when comparing with the Happiness World Map\"_\n",
    "On the regions that look very simmilar we have Europe, North America, Oceania, and even South America, with almost the same color density.\n",
    "\n",
    "Regarding Asia and Africa, democracy scores are weaker except for South Africa which looks rather democratic.\n",
    "\n",
    "### _\"Happier countries therefore also look rather democratic\"_\n",
    "Happier countries seem to also be more democratic, specially in regions with the highest scores. This is very much in line with the earlier findings regarding Freedom of Choice and its strong correlation with high-scoring countries, in terms of levels of happines."
   ]
  },
  {
   "cell_type": "markdown",
   "metadata": {},
   "source": [
    "# Correlation between happiness and democracy across the world\n",
    "### Let's further explore this relationship with a bubble plot between both variables: Happiness Score and Democracy "
   ]
  },
  {
   "cell_type": "code",
   "execution_count": null,
   "metadata": {},
   "outputs": [],
   "source": [
    "democracy = pd.read_csv('democracy_dataset_updated.csv')\n",
    "democracy.set_index('Country', inplace=True)\n",
    "democracy['size'] = 10\n",
    "\n",
    "fig = px.scatter(democracy, x=\"Score\", y=\"democracy index\", size = 'size', color=\" Region\", hover_name=democracy.index,\n",
    "                labels={\n",
    "                     \"Score\": \"Happiness Score\",\n",
    "                 })\n",
    "fig.write_image(\"democracy_happiness6.png\", width=960,height=540)\n",
    "fig.update_layout(title='Regions with more democratic nations also tend to be the happiest', )\n",
    "fig.show()\n",
    "democracy.reset_index(inplace=True)"
   ]
  },
  {
   "cell_type": "markdown",
   "metadata": {},
   "source": [
    "# Regime analysis\n",
    "\n",
    "Looking at the graph, we observe an almost linear relationship between higher democracy index scores with a higher happiness score.\n",
    "While, Asian and African countries appear to be mostly at the bottom left-hand corner with a democratic index under 6 on average, European, North American and Oceanian countries dominate the upper right-hand side.\n",
    "If we analyze deeper, we can also observe the opposite trend– meaning that some countries with a good democracy index, still have bad happiness scores (Barhein, Botwana). And also countries with good happiness scores and bad democracy index : Russia and China are the most obivous examples showing it.\n",
    "\n",
    "However, we can still infer conclusions from this comparison. \n",
    "Indeed, 100% of the countries with a happiness score above 7 (which is good obviously) have a democracy index above 7.5, for all cases. \n",
    "Actually, the \"Economist Intelligence Unit\" classify countries per level of democracy with their scores. If the democracy index is:\n",
    "\n",
    "- Above 8         = Full democracy.\n",
    "- Between 6 and 8 = Flawed Democracy. \n",
    "- Between 4 and 6 = Hybrid Regime.\n",
    "- Under 4         = Authoritarian Regime. \n",
    "\n",
    "***Thus, according to above graph, if a country has a happiness score above 7, it is a Full Democracy***\n",
    "\n",
    "Let's make a world map classifying these 4 regime of democracy"
   ]
  },
  {
   "cell_type": "code",
   "execution_count": null,
   "metadata": {},
   "outputs": [],
   "source": [
    "#democracy regime world map\n",
    "import plotly\n",
    "\n",
    "colorscaleS = [[0, px.colors.diverging.Geyser[0]],[0.25, px.colors.diverging.Geyser[0]], # Let first 10% (0.1) of the values have color rgb(0, 0, 0)\n",
    "        [0.25, px.colors.diverging.Geyser[2]], [0.5, px.colors.diverging.Geyser[2]],\n",
    "        [0.5, px.colors.diverging.Geyser[4]], [0.75, px.colors.diverging.Geyser[4]],\n",
    "        [0.75, px.colors.diverging.Geyser[6]], [1, px.colors.diverging.Geyser[6]]]\n",
    "\n",
    "colorbarS = {\"tickprefix\":\"\",\n",
    "                #\"title\":\"Regime type\",\n",
    "                \"tickvals\":[1,2,3,4],\n",
    "                #\"ticktext\":[\"1\",\"2\",\"3\",\"4\"]}\n",
    "                \"ticktext\":[\"1 - Authoritarian Regime\",\"2 - Hybrid Regime\",\"3 - Flawed Democracy\",\"4 - Full Democracy\"]}\n",
    "colorbarS2 = {\"title\":\"Regime poikj\"}\n",
    "\n",
    "\n",
    "\n",
    "fig = go.Figure(go.Choropleth(\n",
    "    locations = world_map[\"iso_a3\"],\n",
    "    z = world_map[\"regime\"],\n",
    "    text = world_map[\"Country\"],\n",
    "    autocolorscale=False,\n",
    "    reversescale=True,\n",
    "    #marker = {\"line_color\":\"lightyellow\", \"line_width\":1},# https://github.com/plotly/plotly.py/issues/2170\n",
    "    #We were trying to add a title to the colorbar but due to the issue in the website above we were unable to do so,\n",
    "    #but we were still able to implement the possibility of changing the colorbar from discrete values corresponding \n",
    "    #to government type to a continuous scale from the numerical value corresponding to the happiness score\n",
    "    colorscale = colorscaleS,\n",
    "    colorbar = colorbarS,\n",
    "    zmax=4,\n",
    "    zmin=1,\n",
    "    ))\n",
    "\n",
    "fig.update_layout(\n",
    "    overwrite = True,\n",
    "    title = \"Authoritarian regime are more 'popular' in Africa and Asia\",\n",
    "    geo=dict(\n",
    "        showframe=False,\n",
    "        showcoastlines=False,\n",
    "        projection_type=\"equirectangular\"\n",
    "    ),\n",
    "    annotations = [dict(\n",
    "        x=0.55,\n",
    "        y=0.1,\n",
    "        xref=\"paper\",\n",
    "        yref=\"paper\",\n",
    "        text=\"Source: The Economist Intelligence Unit\",\n",
    "        showarrow = False\n",
    "    )],\n",
    "    updatemenus=[\n",
    "        dict(\n",
    "            active=0,\n",
    "            buttons=list([\n",
    "                dict(label=\"Democracy World Map\",\n",
    "                     method=\"update\",\n",
    "                     args=[{\"locations\":[world_map[\"iso_a3\"]],\"z\": [world_map[\"regime\"]], \"text\": [world_map[\"Country\"]],\n",
    "                            \"autocolorscale\":False,\"reversescale\":True, \n",
    "                            #\"marker\":[{\"line_color\":\"lightyellow\", \"line_width\":1}],\n",
    "                            \"colorscale\":str([[0, px.colors.diverging.Geyser[0]],[0.25, px.colors.diverging.Geyser[0]], # Let first 10% (0.1) of the values have color rgb(0, 0, 0)\n",
    "                                            [0.25, px.colors.diverging.Geyser[2]], [0.5, px.colors.diverging.Geyser[2]],\n",
    "                                            [0.5, px.colors.diverging.Geyser[4]], [0.75, px.colors.diverging.Geyser[4]],\n",
    "                                            [0.75, px.colors.diverging.Geyser[6]], [1, px.colors.diverging.Geyser[6]]]).replace(\"'\", '\"'),\n",
    "                            \"colorbar\": [colorbarS],\n",
    "                            \"zmax\":4, \"zmin\":1}]\n",
    "                    ),\n",
    "                dict(label=\"Happiness World Map\",\n",
    "                     method=\"update\",\n",
    "                     args=[{\"z\": [world_map[\"Score\"]],\"colorbar\":[colorbarS2], \"colorscale\":str(plotly.colors.make_colorscale(plotly.colors.diverging.Geyser)).replace(\"'\", '\"'),\n",
    "                            \"colorbar_title\": \"Happiness Score\", \"zmax\":8, \"zmin\":3}])\n",
    "\n",
    "            ]))\n",
    "    ])\n",
    "\n",
    "fig.show()"
   ]
  },
  {
   "cell_type": "markdown",
   "metadata": {},
   "source": [
    "As seen by the democracy index map, this regime world map confirms that Asia and Africa are the less democratic regions compared to the others. While the _Flawed Democracy_ type dominates the Americas, we find the concentration of _Full Democracies_ mostly in West Europe and Oceania which also share some of the highest happiness scores in the world. "
   ]
  },
  {
   "cell_type": "markdown",
   "metadata": {},
   "source": [
    "# ***Conclusion***\n",
    "\n",
    "We showed that the happiest countries, no matter the region, are necessarly democratic. \n",
    "There is not a single country with a hapiness score above 7, which is not a **Full Democracy**  (except Israel with an index of democracy = 7.86, therefore missing 0.14 points, in a scale of 0 to 10, to become a full democracy)\n",
    "\n",
    "If Democracy and Happiness are not always 100% correlated, as China and Russia demonstrated, we can still confirm that a democractic country is more likely to be happy. And a country with an Hybrid or Authoritarian regime is more likely to be unhappy, or at least, not very happy (happiness score above 7).\n",
    "\n",
    "Finally, we previously showed that Asia and Africa were the most unhappy countries. This current comparison with democracy lead us to conclude that these same regions, Asia and Africa, are also the less democratic.\n",
    "\n",
    "Other than promoting democracy in a country, we propose for policy makers who seek to increase the happiness of their country to focus on working specially in steadily increasing GDP and promoting policies to foster a higher life expectancy, as these were the factors with higher impact on happiness.\n",
    "\n",
    "**If we have to advise an individual to chose a country where he wants to be very happy (above 7), the individual will live in a democratic country rather than authoritarian. \n",
    "Also, this individual has more chances to be happy if he lives in Oceania, Europe, or both North and South America rather than Africa or Asia**"
   ]
  },
  {
   "cell_type": "code",
   "execution_count": null,
   "metadata": {},
   "outputs": [],
   "source": []
  }
 ],
 "metadata": {
  "kernelspec": {
   "name": "pycharm-2e6db630",
   "language": "python",
   "display_name": "PyCharm (World Happiness Report Analysis)"
  },
  "language_info": {
   "codemirror_mode": {
    "name": "ipython",
    "version": 3
   },
   "file_extension": ".py",
   "mimetype": "text/x-python",
   "name": "python",
   "nbconvert_exporter": "python",
   "pygments_lexer": "ipython3",
   "version": "3.8.5"
  }
 },
 "nbformat": 4,
 "nbformat_minor": 4
}