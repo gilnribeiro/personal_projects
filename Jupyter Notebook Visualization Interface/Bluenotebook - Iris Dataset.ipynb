{
 "cells": [
  {
   "cell_type": "markdown",
   "metadata": {},
   "source": [
    "# ReadME\n",
    " - For proper functioning of the widgets, always run the cell you are using for the visualizations"
   ]
  },
  {
   "cell_type": "markdown",
   "metadata": {},
   "source": [
    "# Used Modules & Libraries"
   ]
  },
  {
   "cell_type": "code",
   "execution_count": 4,
   "metadata": {},
   "outputs": [],
   "source": [
    "import pandas as pd\n",
    "from IPython.display import *\n",
    "import ipywidgets as widgets\n",
    "from ipywidgets import *"
   ]
  },
  {
   "cell_type": "code",
   "execution_count": 5,
   "metadata": {},
   "outputs": [],
   "source": [
    "import Graph_modules.bool_cat as bc\n",
    "import Graph_modules.continuous as cont\n",
    "import seaborn as sns\n",
    "import pandas as pd\n",
    "import Graph_modules.correlation as cor"
   ]
  },
  {
   "cell_type": "markdown",
   "metadata": {},
   "source": [
    "# Import Dataset"
   ]
  },
  {
   "cell_type": "code",
   "execution_count": 6,
   "metadata": {},
   "outputs": [],
   "source": [
    "df = sns.load_dataset('iris')"
   ]
  },
  {
   "cell_type": "markdown",
   "metadata": {},
   "source": [
    "# One Variable Graphs"
   ]
  },
  {
   "cell_type": "code",
   "execution_count": 7,
   "metadata": {},
   "outputs": [
    {
     "data": {
      "application/vnd.jupyter.widget-view+json": {
       "model_id": "78e152a8153c48e7b22e1ce93366fb68",
       "version_major": 2,
       "version_minor": 0
      },
      "text/plain": [
       "Dropdown(description='Variables:', options=('sepal_length', 'sepal_width', 'petal_length', 'petal_width', 'spe…"
      ]
     },
     "metadata": {},
     "output_type": "display_data"
    },
    {
     "data": {
      "application/vnd.jupyter.widget-view+json": {
       "model_id": "05493fdd36774b7498004e76f7912470",
       "version_major": 2,
       "version_minor": 0
      },
      "text/plain": [
       "Dropdown(description='Graphs:', options=(), value=None)"
      ]
     },
     "metadata": {},
     "output_type": "display_data"
    },
    {
     "data": {
      "application/vnd.jupyter.widget-view+json": {
       "model_id": "bd1e1c38f21f47e9b52eeb14312a2440",
       "version_major": 2,
       "version_minor": 0
      },
      "text/plain": [
       "Output()"
      ]
     },
     "metadata": {},
     "output_type": "display_data"
    }
   ],
   "source": [
    "# Create Dataset Columns list + All columns\n",
    "list_columns = list(df.columns)\n",
    "list_columns.append('All')\n",
    "\n",
    "output = widgets.Output()\n",
    "\n",
    "dropdown_columns = widgets.Dropdown(options = list_columns, description='Variables:')\n",
    "dropdown_graphs = widgets.Dropdown(description='Graphs:')\n",
    "    \n",
    "def update(*args):\n",
    "    bool_cat_one = ['Bar Chart', 'Frequency Bar Chart', 'Pie Chart', 'Donut Chart']\n",
    "    continuous_one = ['Box Plot', 'Histogram -> No Outliers', 'Histogram', 'Histogram (10 - Bins)', 'KDE -> No Outliers', 'KDE Plot', 'Violin Plot', 'Strip Plot', 'Autocorrelation Plot', 'Correlation Heatmap']\n",
    "    pairplot = ['Pairplot']\n",
    "    continuous = list(df.select_dtypes(exclude=[object, bool, 'category']).columns)\n",
    "    if dropdown_columns.value in continuous:\n",
    "        dropdown_graphs.options = continuous_one\n",
    "    elif dropdown_columns.value == 'All':\n",
    "         dropdown_graphs.options = pairplot\n",
    "    else:\n",
    "        dropdown_graphs.options = bool_cat_one\n",
    "\n",
    "def graphs_function(df, graph=None, column=None):\n",
    "    output.clear_output()\n",
    "    with output:\n",
    "        if column != None:\n",
    "            if graph == 'Box Plot':\n",
    "                display(cont.box_plotly(df, column, x=None, color=None, hover_name=None, hover_data=None, custom_data=None, animation_frame=None, \n",
    "                                        animation_group=None, category_orders=None, labels=None, color_discrete_sequence=None, \n",
    "                                        color_discrete_map=None, orientation=None, boxmode=None, log_x=False, log_y=False, \n",
    "                                        range_x=None, range_y=None, points=None, notched=False, title=None, template=None, \n",
    "                                        width=None, height=None))\n",
    "            elif graph == 'Histogram -> No Outliers':  \n",
    "                display(cont.histogram_no_outliers(df, column, y=None, color=None, histnorm=None, log_x=False, log_y=False, range_x=None, \n",
    "                                                   range_y=None, histfunc=None, cumulative=None, nbins=None, title=None, template=None, \n",
    "                                                   width=None, height=None))\n",
    "            elif graph == 'Histogram':\n",
    "                display(cont.histogram_plotly(df, column, y=None, color=None, histnorm=None, log_x=False, log_y=False, range_x=None,\n",
    "                                              range_y=None, histfunc=None, cumulative=None, nbins=None, title=None, template=None, \n",
    "                                              width=None, height=None))\n",
    "            elif graph == 'Histogram (10 - Bins)':\n",
    "                display(cont.histogram_plotly(df, column, y=None, color=None, histnorm=None, log_x=False, log_y=False, \n",
    "                                              range_x=None, range_y=None, histfunc=None, cumulative=None, \n",
    "                                              nbins=10, title=None, template=None, width=None, height=None))\n",
    "            elif graph == 'KDE -> No Outliers':\n",
    "                display(cont.kde_univariate_no_outliers(df, column, shade=None, palette=None, log_scale=None, fill=None, figsize=(46, 30), fontsize=40, title=None))\n",
    "            elif graph == 'KDE Plot':\n",
    "                display(cont.kde_univariate(df, column, y=None, shade=None, palette=None, log_scale=None, fill=None, figsize=(46, 30), \n",
    "                    fontsize=40, title=None))\n",
    "            elif graph == 'Violin Plot':\n",
    "                display(cont.violin_plot_plotly(df, column, x=None, color=None, category_orders=None, labels=None, \n",
    "                                                orientation=None, violinmode=None, log_x=False, log_y=False, range_x=None, \n",
    "                                                range_y=None, points='all', box=False, title=None, template=None, width=None, height=None))\n",
    "            elif graph == 'Pairplot' and column == 'All':\n",
    "                display(cont.pairplot(df, kind='scatter', diag_kind='kde', height=2.5, aspect=1, corner=True, dropna=False, fontsize=18, \n",
    "                                      hue=None, palette=None, x_vars=None, y_vars=None, title=None))\n",
    "            elif graph == 'Strip Plot':\n",
    "                display(cont.strip_plot(df, column, x=None, color=None, orientation=None, stripmode=None, log_x=False, \n",
    "                                        log_y=False, range_x=None, range_y=None, title=None, template=None, \n",
    "                                        width=None, height=None))\n",
    "            elif graph == 'Autocorrelation Plot':  \n",
    "                display(cont.autocorrelation(df, column, timeframe='(Insert relevant Time-Frame)', lags=None, alpha=0.05, obs_threshold='...', figsize=(10, 6.18), \n",
    "                                             fontsize=5, title=None))\n",
    "            elif graph == 'Bar Chart':\n",
    "                display(bc.bar_chart_plotly(df, column, y=None, color=None, facet_row=None, facet_col=None, facet_col_wrap=0, facet_row_spacing=None, \n",
    "                                            barmode='relative', log_x=False, log_y=False, range_x=None, range_y=None, title=None, template=None, width=None, height=None))\n",
    "            elif graph == 'Frequency Bar Chart':\n",
    "                display(bc.bar_freq_chart(df, column, figsize=(10, 8), fontsize=15, title=None, color='c', xlim=None, ylim=(0, 100)))\n",
    "            elif graph == 'Pie Chart':\n",
    "                display(bc.pie_chart_plotly(df, column, numeric=None, color=None, labels=None, title=None, template=None, \n",
    "                                            width=None, height=None, opacity=None, hole=None)) \n",
    "            elif graph == 'Donut Chart':\n",
    "                display(bc.pie_chart_plotly(df, column, numeric=None, color=None, labels=None, title=None, template=None, \n",
    "                                            width=None, height=None, opacity=None, hole=0.5))\n",
    "            elif graph == 'Correlation Heatmap':\n",
    "                display(cor.variable_correlation_heatmap(df, column))\n",
    "            else:\n",
    "                print('No graph was chosen')\n",
    "        else:\n",
    "            print('No column is active')\n",
    "\n",
    "def dropdown_columns_eventhandler(change):\n",
    "    graphs_function(df, dropdown_graphs.value, change.new)\n",
    "    update()\n",
    "    \n",
    "def dropdown_graphs_eventhandler(change):\n",
    "    graphs_function(df, change.new, dropdown_columns.value)\n",
    "    update()\n",
    "    \n",
    "dropdown_columns.observe(dropdown_columns_eventhandler, names='value')\n",
    "dropdown_graphs.observe(dropdown_graphs_eventhandler, names='value')\n",
    "\n",
    "display(dropdown_columns)\n",
    "display(dropdown_graphs)\n",
    "display(output)"
   ]
  },
  {
   "cell_type": "markdown",
   "metadata": {},
   "source": [
    "# Two Variable Graphs"
   ]
  },
  {
   "cell_type": "code",
   "execution_count": 8,
   "metadata": {},
   "outputs": [
    {
     "data": {
      "application/vnd.jupyter.widget-view+json": {
       "model_id": "d3735c5a65944d5eb1b6c18359f49a21",
       "version_major": 2,
       "version_minor": 0
      },
      "text/plain": [
       "Dropdown(description='Variables (1):', options=('sepal_length', 'sepal_width', 'petal_length', 'petal_width', …"
      ]
     },
     "metadata": {},
     "output_type": "display_data"
    },
    {
     "data": {
      "application/vnd.jupyter.widget-view+json": {
       "model_id": "3021e0b88b8d453a8805aede22c784ff",
       "version_major": 2,
       "version_minor": 0
      },
      "text/plain": [
       "Dropdown(description='Variables (2):', options=(), value=None)"
      ]
     },
     "metadata": {},
     "output_type": "display_data"
    },
    {
     "data": {
      "application/vnd.jupyter.widget-view+json": {
       "model_id": "cdaa39cdb4b84530b7e3f245f74d3d5a",
       "version_major": 2,
       "version_minor": 0
      },
      "text/plain": [
       "Dropdown(description='Graphs:', options=(), value=None)"
      ]
     },
     "metadata": {},
     "output_type": "display_data"
    },
    {
     "data": {
      "application/vnd.jupyter.widget-view+json": {
       "model_id": "fbdc073d11134f238ed15084fbb30d97",
       "version_major": 2,
       "version_minor": 0
      },
      "text/plain": [
       "Output()"
      ]
     },
     "metadata": {},
     "output_type": "display_data"
    }
   ],
   "source": [
    "# Handy variables\n",
    "continuous = list(df.select_dtypes(exclude=[object, bool, 'category']).columns)\n",
    "all_columns = list(df.columns)\n",
    "num_num = ['Scatter Plot', 'Line Plot (x = Time(Number), y=Number)']\n",
    "num_cat = ['KDE (variable 1 by Category)', 'Histogram', 'Histogram (10 bins)', 'Violin Plot', 'Strip Plot', 'Strip Plot (Overlay)']\n",
    "cat_num = ['Bar Bins', 'Bar (x = Category, y = Number)', 'Pie Chart', 'Donut Chart']\n",
    "cat_cat = ['Bar (x,y) = (Category,Category)', 'Mosaic Chart', 'KDE (variable 1 by Category)','Histogram (variable 1 by Category)']\n",
    "\n",
    "output_2 = widgets.Output()\n",
    "\n",
    "dropdown_columns_1 = widgets.Dropdown(options = all_columns, description='Variables (1):')\n",
    "dropdown_columns_2 = widgets.Dropdown(description='Variables (2):')\n",
    "dropdown_graphs_2 = widgets.Dropdown(description='Graphs:')\n",
    "\n",
    "\n",
    "def update_col_2(*args):\n",
    "    new_col = all_columns.copy()\n",
    "    new_col.remove(dropdown_columns_1.value)\n",
    "    dropdown_columns_2.options = new_col\n",
    "    \n",
    "def update_graphs(*args):\n",
    "    if dropdown_columns_1.value != [] and dropdown_columns_2.value != []:\n",
    "        if dropdown_columns_1.value in continuous:\n",
    "            if dropdown_columns_2.value in continuous:\n",
    "                #(Num, Num)\n",
    "                dropdown_graphs_2.options = num_num\n",
    "            else:\n",
    "                #(Num, Cat)\n",
    "                dropdown_graphs_2.options = num_cat\n",
    "        else:\n",
    "            if dropdown_columns_2.value in continuous:\n",
    "                #(Cat, Num)\n",
    "                dropdown_graphs_2.options = cat_num\n",
    "            else:\n",
    "                #(Cat, Cat)\n",
    "                dropdown_graphs_2.options = cat_cat\n",
    "    else:\n",
    "        dropdown_graphs_2.options = []\n",
    "\n",
    "def graphs_function(df, graph=None, column1=None, column2=None):\n",
    "    output_2.clear_output()\n",
    "    with output_2:\n",
    "        if graph == 'Scatter Plot':\n",
    "            display(cont.scatter_plotly(df, column1, column2, size=None, color_col=None, hover_name=None, labels=None, title=None, height=None, width=None, range_x=None, range_y=None, log_x=False, log_y=False))\n",
    "        elif graph == 'Bar (x,y) = (Category,Category)':\n",
    "            display(bc.bar_cat_cat(df, column1, column2, height=5, aspect=1, fontsize=20, title=None, palette='pastel'))         \n",
    "        elif graph == 'Line Plot (x = Time(Number), y=Number)':\n",
    "            display(cont.lineplot_time_num_cat(df, column1, column2, category=None, figsize=(10, 6.18), fontsize=10, title=None)) \n",
    "        elif graph == 'Bar Bins':\n",
    "            display(cont.bar_bins(df, column1, column2, stacked=True, bar_type='bar', bins=10, figsize=(46, 30), fontsize=40, title=None))    \n",
    "        elif graph == 'Bar (x = Category, y = Number)':\n",
    "            display(bc.bar_cat_num_hue(df, column1, column2, hue=None, height=6, aspect=2, fontsize=15, title=None, palette='pastel'))    \n",
    "        elif graph == 'Pie Chart':\n",
    "            display(bc.pie_chart_plotly(df, column1, column2, color=None, color_discrete_sequence=None, \n",
    "                    color_discrete_map=None, hover_name=None, hover_data=None, custom_data=None, labels=None, \n",
    "                    title=None, template=None, width=None, height=None, opacity=None, hole=None))\n",
    "        elif graph == 'Donut Chart':\n",
    "            display(bc.pie_chart_plotly(df, column1, column2, color=None, color_discrete_sequence=None, \n",
    "                    color_discrete_map=None, hover_name=None, hover_data=None, custom_data=None, labels=None, \n",
    "                    title=None, template=None, width=None, height=None, opacity=None, hole=0.5))\n",
    "        elif graph == 'Mosaic Chart':\n",
    "            display(bc.mosaic_graph(df, column1, column2, figsize=(16, 9.888), fontsize=20, title=None))\n",
    "        elif graph == 'KDE (variable 1 by Category)':\n",
    "            display(bc.kde_col_cat(df, column1, column2, stacked=False, figsize=(46, 30), fontsize=40, title=None))\n",
    "        elif graph == 'Histogram (variable 1 by Category)':\n",
    "            display(bc.hist_col_cat(df, column1, column2, stacked=False, figsize=(46, 30), fontsize=40, title=None))\n",
    "        elif graph == 'Histogram':\n",
    "            display(cont.histogram_plotly(df, column1, y=None, color=column2, histnorm=None, log_x=False, log_y=False, range_x=None,\n",
    "                                              range_y=None, histfunc=None, cumulative=None, nbins=None, title=None, template=None, \n",
    "                                              width=None, height=None))\n",
    "        elif graph == 'Histogram (10 bins)':\n",
    "            display(cont.histogram_plotly(df, column1, y=None, color=column2, histnorm=None, log_x=False, log_y=False, range_x=None,\n",
    "                                              range_y=None, histfunc=None, cumulative=None, nbins=10, title=None, template=None, \n",
    "                                              width=None, height=None))\n",
    "        elif graph == 'Violin Plot':\n",
    "            display(cont.violin_plot_plotly(df, column1, x=column2, color=column2, category_orders=None, labels=None, \n",
    "                                                orientation=None, violinmode=None, log_x=False, log_y=False, range_x=None, \n",
    "                                                range_y=None, points='all', box=False, title=None, template=None, width=None, height=None))\n",
    "        elif graph == 'Strip Plot':\n",
    "            display(cont.strip_plot(df, column1, x=column2, color=column2, orientation=None, stripmode=None, log_x=False, \n",
    "                                        log_y=False, range_x=None, range_y=None, title=None, template=None, \n",
    "                                        width=None, height=None))\n",
    "        elif graph == 'Strip Plot (Overlay)':\n",
    "            display(cont.strip_plot(df, column1, x=None, color=column2, orientation=None, stripmode='overlay', log_x=False, \n",
    "                                        log_y=False, range_x=None, range_y=None, title=None, template=None, \n",
    "                                        width=None, height=None))\n",
    "        else:\n",
    "            print('No graph was chosen')\n",
    "\n",
    "def dropdown_columns_eventhandler(change):\n",
    "    graphs_function(df, dropdown_graphs_2.value, dropdown_columns_1.value, dropdown_columns_2.value)\n",
    "    update_col_2()\n",
    "    \n",
    "def dropdown_columns_2_eventhandler(change):\n",
    "    graphs_function(df, dropdown_graphs_2.value, dropdown_columns_1.value, dropdown_columns_2.value)\n",
    "    update_graphs()\n",
    "    \n",
    "def dropdown_graphs_eventhandler(change):\n",
    "    graphs_function(df, dropdown_graphs_2.value, dropdown_columns_1.value, dropdown_columns_2.value)\n",
    "\n",
    "    \n",
    "dropdown_columns_1.observe(dropdown_columns_eventhandler, names='value')\n",
    "dropdown_columns_2.observe(dropdown_columns_2_eventhandler, names='value')\n",
    "dropdown_graphs_2.observe(dropdown_graphs_eventhandler, names='value')\n",
    "\n",
    "display(dropdown_columns_1)\n",
    "display(dropdown_columns_2)\n",
    "display(dropdown_graphs_2)\n",
    "display(output_2)"
   ]
  }
 ],
 "metadata": {
  "kernelspec": {
   "display_name": "Python 3",
   "language": "python",
   "name": "python3"
  },
  "language_info": {
   "codemirror_mode": {
    "name": "ipython",
    "version": 3
   },
   "file_extension": ".py",
   "mimetype": "text/x-python",
   "name": "python",
   "nbconvert_exporter": "python",
   "pygments_lexer": "ipython3",
   "version": "3.8.5"
  }
 },
 "nbformat": 4,
 "nbformat_minor": 4
}
