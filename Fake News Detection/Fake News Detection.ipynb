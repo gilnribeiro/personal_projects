{
 "cells": [
  {
   "cell_type": "code",
   "execution_count": 32,
   "id": "1523d0f6",
   "metadata": {
    "ExecuteTime": {
     "end_time": "2021-09-09T11:50:40.477372Z",
     "start_time": "2021-09-09T11:50:40.467183Z"
    }
   },
   "outputs": [],
   "source": [
    "import numpy as np\n",
    "import pandas as pd\n",
    "import itertools\n",
    "from sklearn.model_selection import train_test_split\n",
    "from sklearn.feature_extraction.text import TfidfVectorizer\n",
    "from sklearn.linear_model import PassiveAggressiveClassifier\n",
    "from sklearn.metrics import accuracy_score, confusion_matrix"
   ]
  },
  {
   "cell_type": "code",
   "execution_count": 4,
   "id": "6e5e706b",
   "metadata": {
    "ExecuteTime": {
     "end_time": "2021-09-09T11:08:33.997799Z",
     "start_time": "2021-09-09T11:08:33.978029Z"
    }
   },
   "outputs": [],
   "source": [
    "from IPython.core.interactiveshell import InteractiveShell\n",
    "InteractiveShell.ast_node_interactivity = \"all\""
   ]
  },
  {
   "cell_type": "code",
   "execution_count": 6,
   "id": "6dbd8a33",
   "metadata": {
    "ExecuteTime": {
     "end_time": "2021-09-09T11:08:48.360969Z",
     "start_time": "2021-09-09T11:08:47.627195Z"
    }
   },
   "outputs": [
    {
     "data": {
      "text/plain": [
       "(6335, 4)"
      ]
     },
     "execution_count": 6,
     "metadata": {},
     "output_type": "execute_result"
    },
    {
     "data": {
      "text/html": [
       "<div>\n",
       "<style scoped>\n",
       "    .dataframe tbody tr th:only-of-type {\n",
       "        vertical-align: middle;\n",
       "    }\n",
       "\n",
       "    .dataframe tbody tr th {\n",
       "        vertical-align: top;\n",
       "    }\n",
       "\n",
       "    .dataframe thead th {\n",
       "        text-align: right;\n",
       "    }\n",
       "</style>\n",
       "<table border=\"1\" class=\"dataframe\">\n",
       "  <thead>\n",
       "    <tr style=\"text-align: right;\">\n",
       "      <th></th>\n",
       "      <th>Unnamed: 0</th>\n",
       "      <th>title</th>\n",
       "      <th>text</th>\n",
       "      <th>label</th>\n",
       "    </tr>\n",
       "  </thead>\n",
       "  <tbody>\n",
       "    <tr>\n",
       "      <th>0</th>\n",
       "      <td>8476</td>\n",
       "      <td>You Can Smell Hillary’s Fear</td>\n",
       "      <td>Daniel Greenfield, a Shillman Journalism Fello...</td>\n",
       "      <td>FAKE</td>\n",
       "    </tr>\n",
       "    <tr>\n",
       "      <th>1</th>\n",
       "      <td>10294</td>\n",
       "      <td>Watch The Exact Moment Paul Ryan Committed Pol...</td>\n",
       "      <td>Google Pinterest Digg Linkedin Reddit Stumbleu...</td>\n",
       "      <td>FAKE</td>\n",
       "    </tr>\n",
       "    <tr>\n",
       "      <th>2</th>\n",
       "      <td>3608</td>\n",
       "      <td>Kerry to go to Paris in gesture of sympathy</td>\n",
       "      <td>U.S. Secretary of State John F. Kerry said Mon...</td>\n",
       "      <td>REAL</td>\n",
       "    </tr>\n",
       "    <tr>\n",
       "      <th>3</th>\n",
       "      <td>10142</td>\n",
       "      <td>Bernie supporters on Twitter erupt in anger ag...</td>\n",
       "      <td>— Kaydee King (@KaydeeKing) November 9, 2016 T...</td>\n",
       "      <td>FAKE</td>\n",
       "    </tr>\n",
       "    <tr>\n",
       "      <th>4</th>\n",
       "      <td>875</td>\n",
       "      <td>The Battle of New York: Why This Primary Matters</td>\n",
       "      <td>It's primary day in New York and front-runners...</td>\n",
       "      <td>REAL</td>\n",
       "    </tr>\n",
       "  </tbody>\n",
       "</table>\n",
       "</div>"
      ],
      "text/plain": [
       "   Unnamed: 0                                              title  \\\n",
       "0        8476                       You Can Smell Hillary’s Fear   \n",
       "1       10294  Watch The Exact Moment Paul Ryan Committed Pol...   \n",
       "2        3608        Kerry to go to Paris in gesture of sympathy   \n",
       "3       10142  Bernie supporters on Twitter erupt in anger ag...   \n",
       "4         875   The Battle of New York: Why This Primary Matters   \n",
       "\n",
       "                                                text label  \n",
       "0  Daniel Greenfield, a Shillman Journalism Fello...  FAKE  \n",
       "1  Google Pinterest Digg Linkedin Reddit Stumbleu...  FAKE  \n",
       "2  U.S. Secretary of State John F. Kerry said Mon...  REAL  \n",
       "3  — Kaydee King (@KaydeeKing) November 9, 2016 T...  FAKE  \n",
       "4  It's primary day in New York and front-runners...  REAL  "
      ]
     },
     "execution_count": 6,
     "metadata": {},
     "output_type": "execute_result"
    },
    {
     "name": "stdout",
     "output_type": "stream",
     "text": [
      "<class 'pandas.core.frame.DataFrame'>\n",
      "RangeIndex: 6335 entries, 0 to 6334\n",
      "Data columns (total 4 columns):\n",
      " #   Column      Non-Null Count  Dtype \n",
      "---  ------      --------------  ----- \n",
      " 0   Unnamed: 0  6335 non-null   int64 \n",
      " 1   title       6335 non-null   object\n",
      " 2   text        6335 non-null   object\n",
      " 3   label       6335 non-null   object\n",
      "dtypes: int64(1), object(3)\n",
      "memory usage: 198.1+ KB\n"
     ]
    }
   ],
   "source": [
    "df = pd.read_csv('news.csv')\n",
    "df.shape\n",
    "df.head()\n",
    "df.info()"
   ]
  },
  {
   "cell_type": "markdown",
   "id": "bb0a2b8d",
   "metadata": {},
   "source": [
    "## Get Labels"
   ]
  },
  {
   "cell_type": "code",
   "execution_count": 39,
   "id": "81525a4f",
   "metadata": {
    "ExecuteTime": {
     "end_time": "2021-09-09T12:10:38.221860Z",
     "start_time": "2021-09-09T12:10:38.191366Z"
    }
   },
   "outputs": [
    {
     "data": {
      "text/plain": [
       "0       1\n",
       "1       1\n",
       "2       0\n",
       "3       1\n",
       "4       0\n",
       "       ..\n",
       "6330    0\n",
       "6331    1\n",
       "6332    1\n",
       "6333    0\n",
       "6334    0\n",
       "Name: label, Length: 6335, dtype: int32"
      ]
     },
     "execution_count": 39,
     "metadata": {},
     "output_type": "execute_result"
    }
   ],
   "source": [
    "y = df.label\n",
    "y = y.map({'FAKE': 1, 'REAL': 0}).astype(int)\n",
    "X = df['text']\n",
    "y"
   ]
  },
  {
   "cell_type": "markdown",
   "id": "64e40193",
   "metadata": {
    "ExecuteTime": {
     "end_time": "2021-09-09T11:10:45.686262Z",
     "start_time": "2021-09-09T11:10:45.668303Z"
    }
   },
   "source": [
    "## Split the data intro training and test"
   ]
  },
  {
   "cell_type": "code",
   "execution_count": 40,
   "id": "b087870b",
   "metadata": {
    "ExecuteTime": {
     "end_time": "2021-09-09T12:10:44.059535Z",
     "start_time": "2021-09-09T12:10:44.027735Z"
    }
   },
   "outputs": [],
   "source": [
    "X_train, X_test, y_train, y_test = train_test_split(X, y, random_state=42, test_size=0.3)"
   ]
  },
  {
   "cell_type": "markdown",
   "id": "8f974e02",
   "metadata": {
    "ExecuteTime": {
     "end_time": "2021-09-09T11:19:13.820928Z",
     "start_time": "2021-09-09T11:19:13.809260Z"
    }
   },
   "source": [
    "## Use Random Search Cross Validation to develop and tune the model"
   ]
  },
  {
   "cell_type": "code",
   "execution_count": 41,
   "id": "871cdecb",
   "metadata": {
    "ExecuteTime": {
     "end_time": "2021-09-09T12:10:48.660529Z",
     "start_time": "2021-09-09T12:10:48.655313Z"
    }
   },
   "outputs": [],
   "source": [
    "from sklearn.model_selection import GridSearchCV\n",
    "from sklearn.pipeline import Pipeline"
   ]
  },
  {
   "cell_type": "markdown",
   "id": "c2537f8a",
   "metadata": {},
   "source": [
    "Let’s initialize a **TfidfVectorizer** with stop words from the English language and a **maximum document frequency of 0.7** (terms with a higher document frequency will be discarded). \n",
    "\n",
    "Stop words are the most common words in a language that are to be **filtered out before processing the natural language data,** and a TfidfVectorizer turns a collection of raw documents into a matrix of TF-IDF features."
   ]
  },
  {
   "cell_type": "code",
   "execution_count": 43,
   "id": "67d47c22",
   "metadata": {
    "ExecuteTime": {
     "end_time": "2021-09-09T12:11:00.183705Z",
     "start_time": "2021-09-09T12:11:00.176558Z"
    }
   },
   "outputs": [],
   "source": [
    "from sklearn.ensemble import RandomForestClassifier\n",
    "from sklearn.metrics import f1_score"
   ]
  },
  {
   "cell_type": "code",
   "execution_count": 44,
   "id": "d09b98b2",
   "metadata": {
    "ExecuteTime": {
     "end_time": "2021-09-09T12:20:30.323858Z",
     "start_time": "2021-09-09T12:11:20.284609Z"
    }
   },
   "outputs": [
    {
     "name": "stdout",
     "output_type": "stream",
     "text": [
      "Fitting 5 folds for each of 7 candidates, totalling 35 fits\n",
      "[CV 1/5] END classifier=RandomForestClassifier(random_state=42), tfidf=TfidfVectorizer(stop_words='english'); total time=  12.7s\n",
      "[CV 2/5] END classifier=RandomForestClassifier(random_state=42), tfidf=TfidfVectorizer(stop_words='english'); total time=  12.9s\n",
      "[CV 3/5] END classifier=RandomForestClassifier(random_state=42), tfidf=TfidfVectorizer(stop_words='english'); total time=  12.2s\n",
      "[CV 4/5] END classifier=RandomForestClassifier(random_state=42), tfidf=TfidfVectorizer(stop_words='english'); total time=  13.1s\n",
      "[CV 5/5] END classifier=RandomForestClassifier(random_state=42), tfidf=TfidfVectorizer(stop_words='english'); total time=  11.9s\n",
      "[CV 1/5] END classifier=PassiveAggressiveClassifier(max_iter=50), tfidf=TfidfVectorizer(stop_words='english'), tfidf__max_df=0.5, tfidf__ngram_range=(1, 1); total time=   5.6s\n",
      "[CV 2/5] END classifier=PassiveAggressiveClassifier(max_iter=50), tfidf=TfidfVectorizer(stop_words='english'), tfidf__max_df=0.5, tfidf__ngram_range=(1, 1); total time=   4.9s\n",
      "[CV 3/5] END classifier=PassiveAggressiveClassifier(max_iter=50), tfidf=TfidfVectorizer(stop_words='english'), tfidf__max_df=0.5, tfidf__ngram_range=(1, 1); total time=   5.0s\n",
      "[CV 4/5] END classifier=PassiveAggressiveClassifier(max_iter=50), tfidf=TfidfVectorizer(stop_words='english'), tfidf__max_df=0.5, tfidf__ngram_range=(1, 1); total time=   5.0s\n",
      "[CV 5/5] END classifier=PassiveAggressiveClassifier(max_iter=50), tfidf=TfidfVectorizer(stop_words='english'), tfidf__max_df=0.5, tfidf__ngram_range=(1, 1); total time=   4.8s\n",
      "[CV 1/5] END classifier=PassiveAggressiveClassifier(max_iter=50), tfidf=TfidfVectorizer(stop_words='english'), tfidf__max_df=0.5, tfidf__ngram_range=(1, 2); total time=  14.0s\n",
      "[CV 2/5] END classifier=PassiveAggressiveClassifier(max_iter=50), tfidf=TfidfVectorizer(stop_words='english'), tfidf__max_df=0.5, tfidf__ngram_range=(1, 2); total time=  14.2s\n",
      "[CV 3/5] END classifier=PassiveAggressiveClassifier(max_iter=50), tfidf=TfidfVectorizer(stop_words='english'), tfidf__max_df=0.5, tfidf__ngram_range=(1, 2); total time=  14.7s\n",
      "[CV 4/5] END classifier=PassiveAggressiveClassifier(max_iter=50), tfidf=TfidfVectorizer(stop_words='english'), tfidf__max_df=0.5, tfidf__ngram_range=(1, 2); total time=  15.1s\n",
      "[CV 5/5] END classifier=PassiveAggressiveClassifier(max_iter=50), tfidf=TfidfVectorizer(stop_words='english'), tfidf__max_df=0.5, tfidf__ngram_range=(1, 2); total time=  14.5s\n",
      "[CV 1/5] END classifier=PassiveAggressiveClassifier(max_iter=50), tfidf=TfidfVectorizer(stop_words='english'), tfidf__max_df=0.5, tfidf__ngram_range=(1, 3); total time=  25.7s\n",
      "[CV 2/5] END classifier=PassiveAggressiveClassifier(max_iter=50), tfidf=TfidfVectorizer(stop_words='english'), tfidf__max_df=0.5, tfidf__ngram_range=(1, 3); total time=  26.3s\n",
      "[CV 3/5] END classifier=PassiveAggressiveClassifier(max_iter=50), tfidf=TfidfVectorizer(stop_words='english'), tfidf__max_df=0.5, tfidf__ngram_range=(1, 3); total time=  26.1s\n",
      "[CV 4/5] END classifier=PassiveAggressiveClassifier(max_iter=50), tfidf=TfidfVectorizer(stop_words='english'), tfidf__max_df=0.5, tfidf__ngram_range=(1, 3); total time=  26.8s\n",
      "[CV 5/5] END classifier=PassiveAggressiveClassifier(max_iter=50), tfidf=TfidfVectorizer(stop_words='english'), tfidf__max_df=0.5, tfidf__ngram_range=(1, 3); total time=  28.0s\n",
      "[CV 1/5] END classifier=PassiveAggressiveClassifier(max_iter=50), tfidf=TfidfVectorizer(stop_words='english'), tfidf__max_df=0.7, tfidf__ngram_range=(1, 1); total time=   6.9s\n",
      "[CV 2/5] END classifier=PassiveAggressiveClassifier(max_iter=50), tfidf=TfidfVectorizer(stop_words='english'), tfidf__max_df=0.7, tfidf__ngram_range=(1, 1); total time=   7.0s\n",
      "[CV 3/5] END classifier=PassiveAggressiveClassifier(max_iter=50), tfidf=TfidfVectorizer(stop_words='english'), tfidf__max_df=0.7, tfidf__ngram_range=(1, 1); total time=   7.9s\n",
      "[CV 4/5] END classifier=PassiveAggressiveClassifier(max_iter=50), tfidf=TfidfVectorizer(stop_words='english'), tfidf__max_df=0.7, tfidf__ngram_range=(1, 1); total time=   7.4s\n",
      "[CV 5/5] END classifier=PassiveAggressiveClassifier(max_iter=50), tfidf=TfidfVectorizer(stop_words='english'), tfidf__max_df=0.7, tfidf__ngram_range=(1, 1); total time=   7.0s\n",
      "[CV 1/5] END classifier=PassiveAggressiveClassifier(max_iter=50), tfidf=TfidfVectorizer(stop_words='english'), tfidf__max_df=0.7, tfidf__ngram_range=(1, 2); total time=  13.8s\n",
      "[CV 2/5] END classifier=PassiveAggressiveClassifier(max_iter=50), tfidf=TfidfVectorizer(stop_words='english'), tfidf__max_df=0.7, tfidf__ngram_range=(1, 2); total time=  13.4s\n",
      "[CV 3/5] END classifier=PassiveAggressiveClassifier(max_iter=50), tfidf=TfidfVectorizer(stop_words='english'), tfidf__max_df=0.7, tfidf__ngram_range=(1, 2); total time=  14.4s\n",
      "[CV 4/5] END classifier=PassiveAggressiveClassifier(max_iter=50), tfidf=TfidfVectorizer(stop_words='english'), tfidf__max_df=0.7, tfidf__ngram_range=(1, 2); total time=  14.3s\n",
      "[CV 5/5] END classifier=PassiveAggressiveClassifier(max_iter=50), tfidf=TfidfVectorizer(stop_words='english'), tfidf__max_df=0.7, tfidf__ngram_range=(1, 2); total time=  14.9s\n",
      "[CV 1/5] END classifier=PassiveAggressiveClassifier(max_iter=50), tfidf=TfidfVectorizer(stop_words='english'), tfidf__max_df=0.7, tfidf__ngram_range=(1, 3); total time=  27.5s\n",
      "[CV 2/5] END classifier=PassiveAggressiveClassifier(max_iter=50), tfidf=TfidfVectorizer(stop_words='english'), tfidf__max_df=0.7, tfidf__ngram_range=(1, 3); total time=  25.6s\n",
      "[CV 3/5] END classifier=PassiveAggressiveClassifier(max_iter=50), tfidf=TfidfVectorizer(stop_words='english'), tfidf__max_df=0.7, tfidf__ngram_range=(1, 3); total time=  24.9s\n",
      "[CV 4/5] END classifier=PassiveAggressiveClassifier(max_iter=50), tfidf=TfidfVectorizer(stop_words='english'), tfidf__max_df=0.7, tfidf__ngram_range=(1, 3); total time=  24.5s\n",
      "[CV 5/5] END classifier=PassiveAggressiveClassifier(max_iter=50), tfidf=TfidfVectorizer(stop_words='english'), tfidf__max_df=0.7, tfidf__ngram_range=(1, 3); total time=  24.4s\n"
     ]
    },
    {
     "data": {
      "text/plain": [
       "GridSearchCV(cv=5,\n",
       "             estimator=Pipeline(steps=[('tfidf',\n",
       "                                        TfidfVectorizer(stop_words='english')),\n",
       "                                       ('classifier',\n",
       "                                        RandomForestClassifier(random_state=42))]),\n",
       "             param_grid=[{'classifier': [RandomForestClassifier(random_state=42)],\n",
       "                          'tfidf': [TfidfVectorizer(stop_words='english')]},\n",
       "                         {'classifier': [PassiveAggressiveClassifier(max_iter=50)],\n",
       "                          'tfidf': [TfidfVectorizer(max_df=0.7,\n",
       "                                                    ngram_range=(1, 2),\n",
       "                                                    stop_words='english')],\n",
       "                          'tfidf__max_df': (0.5, 0.7),\n",
       "                          'tfidf__ngram_range': [(1, 1), (1, 2), (1, 3)]}],\n",
       "             scoring='accuracy', verbose=3)"
      ]
     },
     "execution_count": 44,
     "metadata": {},
     "output_type": "execute_result"
    },
    {
     "name": "stdout",
     "output_type": "stream",
     "text": [
      "Best cross-validation score: 0.94\n",
      "Best params:\n",
      "{'classifier': PassiveAggressiveClassifier(max_iter=50), 'tfidf': TfidfVectorizer(max_df=0.7, ngram_range=(1, 2), stop_words='english'), 'tfidf__max_df': 0.7, 'tfidf__ngram_range': (1, 2)}\n",
      "\n",
      "Best parameters set:\n",
      "[('tfidf', TfidfVectorizer(max_df=0.7, ngram_range=(1, 2), stop_words='english')), ('classifier', PassiveAggressiveClassifier(max_iter=50))]\n"
     ]
    }
   ],
   "source": [
    "pipe = Pipeline([('tfidf', TfidfVectorizer(stop_words='english')),\n",
    "                 ('classifier', RandomForestClassifier(random_state=42))])\n",
    "param_grid = [\n",
    "    \n",
    "    {'classifier': [RandomForestClassifier(random_state=42)],\n",
    "     'tfidf': [TfidfVectorizer(stop_words='english')]},\n",
    "    \n",
    "    {'classifier': [PassiveAggressiveClassifier(max_iter=50)],\n",
    "     'tfidf': [TfidfVectorizer(stop_words='english')],\n",
    "     'tfidf__max_df': (0.5, 0.7),\n",
    "     'tfidf__ngram_range': [(1, 1), (1, 2), (1, 3)]}\n",
    "]\n",
    "\n",
    "grid_search_tune = GridSearchCV(pipe, param_grid, cv=5, scoring='accuracy', verbose=3)\n",
    "grid_search_tune.fit(X_train, y_train)\n",
    "best_model = grid_search_tune.best_estimator_\n",
    "\n",
    "print(\"Best cross-validation score: {:.2f}\".format(grid_search_tune.best_score_))\n",
    "print(\"Best params:\\n{}\\n\".format(grid_search_tune.best_params_))\n",
    "\n",
    "print(\"Best parameters set:\")\n",
    "print(grid_search_tune.best_estimator_.steps)"
   ]
  },
  {
   "cell_type": "code",
   "execution_count": 49,
   "id": "574c1768",
   "metadata": {
    "ExecuteTime": {
     "end_time": "2021-09-09T12:24:05.586286Z",
     "start_time": "2021-09-09T12:24:05.553000Z"
    }
   },
   "outputs": [
    {
     "data": {
      "text/html": [
       "<div>\n",
       "<style scoped>\n",
       "    .dataframe tbody tr th:only-of-type {\n",
       "        vertical-align: middle;\n",
       "    }\n",
       "\n",
       "    .dataframe tbody tr th {\n",
       "        vertical-align: top;\n",
       "    }\n",
       "\n",
       "    .dataframe thead th {\n",
       "        text-align: right;\n",
       "    }\n",
       "</style>\n",
       "<table border=\"1\" class=\"dataframe\">\n",
       "  <thead>\n",
       "    <tr style=\"text-align: right;\">\n",
       "      <th></th>\n",
       "      <th>param_classifier</th>\n",
       "      <th>mean_test_score</th>\n",
       "      <th>std_test_score</th>\n",
       "      <th>rank_test_score</th>\n",
       "    </tr>\n",
       "  </thead>\n",
       "  <tbody>\n",
       "    <tr>\n",
       "      <th>5</th>\n",
       "      <td>PassiveAggressiveClassifier(max_iter=50)</td>\n",
       "      <td>0.937978</td>\n",
       "      <td>0.008447</td>\n",
       "      <td>1</td>\n",
       "    </tr>\n",
       "    <tr>\n",
       "      <th>2</th>\n",
       "      <td>PassiveAggressiveClassifier(max_iter=50)</td>\n",
       "      <td>0.937303</td>\n",
       "      <td>0.010896</td>\n",
       "      <td>2</td>\n",
       "    </tr>\n",
       "    <tr>\n",
       "      <th>4</th>\n",
       "      <td>PassiveAggressiveClassifier(max_iter=50)</td>\n",
       "      <td>0.934370</td>\n",
       "      <td>0.008239</td>\n",
       "      <td>3</td>\n",
       "    </tr>\n",
       "    <tr>\n",
       "      <th>1</th>\n",
       "      <td>PassiveAggressiveClassifier(max_iter=50)</td>\n",
       "      <td>0.933920</td>\n",
       "      <td>0.006934</td>\n",
       "      <td>4</td>\n",
       "    </tr>\n",
       "    <tr>\n",
       "      <th>6</th>\n",
       "      <td>PassiveAggressiveClassifier(max_iter=50)</td>\n",
       "      <td>0.929634</td>\n",
       "      <td>0.011469</td>\n",
       "      <td>5</td>\n",
       "    </tr>\n",
       "    <tr>\n",
       "      <th>3</th>\n",
       "      <td>PassiveAggressiveClassifier(max_iter=50)</td>\n",
       "      <td>0.929183</td>\n",
       "      <td>0.011963</td>\n",
       "      <td>6</td>\n",
       "    </tr>\n",
       "    <tr>\n",
       "      <th>0</th>\n",
       "      <td>RandomForestClassifier(random_state=42)</td>\n",
       "      <td>0.894448</td>\n",
       "      <td>0.015337</td>\n",
       "      <td>7</td>\n",
       "    </tr>\n",
       "  </tbody>\n",
       "</table>\n",
       "</div>"
      ],
      "text/plain": [
       "                           param_classifier  mean_test_score  std_test_score  \\\n",
       "5  PassiveAggressiveClassifier(max_iter=50)         0.937978        0.008447   \n",
       "2  PassiveAggressiveClassifier(max_iter=50)         0.937303        0.010896   \n",
       "4  PassiveAggressiveClassifier(max_iter=50)         0.934370        0.008239   \n",
       "1  PassiveAggressiveClassifier(max_iter=50)         0.933920        0.006934   \n",
       "6  PassiveAggressiveClassifier(max_iter=50)         0.929634        0.011469   \n",
       "3  PassiveAggressiveClassifier(max_iter=50)         0.929183        0.011963   \n",
       "0   RandomForestClassifier(random_state=42)         0.894448        0.015337   \n",
       "\n",
       "   rank_test_score  \n",
       "5                1  \n",
       "2                2  \n",
       "4                3  \n",
       "1                4  \n",
       "6                5  \n",
       "3                6  \n",
       "0                7  "
      ]
     },
     "execution_count": 49,
     "metadata": {},
     "output_type": "execute_result"
    }
   ],
   "source": [
    "scores_best_models = pd.DataFrame(grid_search_tune.cv_results_)[['param_classifier','mean_test_score','std_test_score','rank_test_score']]\n",
    "scores_best_models.sort_values(by='rank_test_score')"
   ]
  },
  {
   "cell_type": "markdown",
   "id": "ae7b5b8d",
   "metadata": {
    "ExecuteTime": {
     "end_time": "2021-09-09T12:20:30.339007Z",
     "start_time": "2021-09-09T12:20:30.327515Z"
    }
   },
   "source": [
    "## Predict on the Test Set"
   ]
  },
  {
   "cell_type": "code",
   "execution_count": 57,
   "id": "e769a773",
   "metadata": {
    "ExecuteTime": {
     "end_time": "2021-09-09T12:38:18.550297Z",
     "start_time": "2021-09-09T12:38:14.790992Z"
    }
   },
   "outputs": [
    {
     "name": "stdout",
     "output_type": "stream",
     "text": [
      "Accuracy: 93.79%\n"
     ]
    }
   ],
   "source": [
    "y_pred = best_model.predict(X_test)\n",
    "score = accuracy_score(y_test,y_pred)\n",
    "print(f'Accuracy: {round(score*100,2)}%')"
   ]
  },
  {
   "cell_type": "code",
   "execution_count": 67,
   "id": "4c15c2c5",
   "metadata": {
    "ExecuteTime": {
     "end_time": "2021-09-09T12:41:31.767520Z",
     "start_time": "2021-09-09T12:41:31.759647Z"
    }
   },
   "outputs": [],
   "source": [
    "import seaborn as sns\n",
    "import matplotlib.pyplot as plt\n",
    "from sklearn.metrics import classification_report\n",
    "InteractiveShell.ast_node_interactivity = \"last_expr\""
   ]
  },
  {
   "cell_type": "code",
   "execution_count": 68,
   "id": "7d2b8f85",
   "metadata": {
    "ExecuteTime": {
     "end_time": "2021-09-09T12:41:34.467066Z",
     "start_time": "2021-09-09T12:41:34.061103Z"
    }
   },
   "outputs": [
    {
     "data": {
      "image/png": "[encoded data removed]",
      "text/plain": [
       "<Figure size 432x288 with 2 Axes>"
      ]
     },
     "metadata": {
      "needs_background": "light"
     },
     "output_type": "display_data"
    }
   ],
   "source": [
    "cf_matrix = confusion_matrix(y_test, y_pred)\n",
    "\n",
    "# Names, counts and Percentage\n",
    "group_names = ['True Neg','False Pos','False Neg','True Pos']\n",
    "group_counts = [\"{0:0.0f}\".format(value) for value in cf_matrix.flatten()]\n",
    "group_percentages = [\"{0:.2%}\".format(value) for value in cf_matrix.flatten()/np.sum(cf_matrix)]\n",
    "\n",
    "# Join the above into text\n",
    "labels = [f\"{v1}\\n{v2}\\n{v3}\" for v1, v2, v3 in zip(group_names,group_counts,group_percentages)]\n",
    "labels = np.asarray(labels).reshape(2,2)\n",
    "categories = ['REAL (0)','FAKE (1)']\n",
    "sns.heatmap(cf_matrix, annot=labels, fmt='', cmap='Blues',xticklabels=categories,yticklabels=categories)\n",
    "plt.title('Best Model')\n",
    "plt.xlabel('Predicted Label')\n",
    "plt.ylabel('True Label')\n",
    "plt.show()"
   ]
  },
  {
   "cell_type": "code",
   "execution_count": 69,
   "id": "86bb215c",
   "metadata": {
    "ExecuteTime": {
     "end_time": "2021-09-09T12:41:37.479413Z",
     "start_time": "2021-09-09T12:41:37.437394Z"
    }
   },
   "outputs": [
    {
     "name": "stdout",
     "output_type": "stream",
     "text": [
      "              precision    recall  f1-score   support\n",
      "\n",
      "           0       0.92      0.95      0.94       933\n",
      "           1       0.95      0.92      0.94       968\n",
      "\n",
      "    accuracy                           0.94      1901\n",
      "   macro avg       0.94      0.94      0.94      1901\n",
      "weighted avg       0.94      0.94      0.94      1901\n",
      "\n"
     ]
    }
   ],
   "source": [
    "print(classification_report(y_test, y_pred))"
   ]
  }
 ],
 "metadata": {
  "kernelspec": {
   "display_name": "mlcourse",
   "language": "python",
   "name": "mlcourse"
  },
  "language_info": {
   "codemirror_mode": {
    "name": "ipython",
    "version": 3
   },
   "file_extension": ".py",
   "mimetype": "text/x-python",
   "name": "python",
   "nbconvert_exporter": "python",
   "pygments_lexer": "ipython3",
   "version": "3.8.8"
  }
 },
 "nbformat": 4,
 "nbformat_minor": 5
}
