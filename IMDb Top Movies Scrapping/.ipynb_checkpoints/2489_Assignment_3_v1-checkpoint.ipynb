{
 "cells": [
  {
   "cell_type": "markdown",
   "metadata": {},
   "source": [
    "## Assignment 3 Data Analysis using Pandas\n",
    "\n",
    "This assignment will contain 1 question with details as below. The due date is October 16 (Friday), 2020 23:59PM. Each late day will result in 20% loss of total points."
   ]
  },
  {
   "cell_type": "markdown",
   "metadata": {},
   "source": [
    "### Question 1 (100 points) Celluloid ceiling\n",
    "\n",
    "Wonder Woman             |  Captain Marvel\n",
    ":-------------------------:|:-------------------------:\n",
    "![wonderwoman](https://upload.wikimedia.org/wikipedia/en/e/ed/Wonder_Woman_%282017_film%29.jpg) | ![marvel](https://upload.wikimedia.org/wikipedia/pt/5/59/Captain_Marvel_%282018%29.jpg)\n",
    "\n",
    "Women are involved in the film industry in all roles, including as film directors, actresses, cinematographers, film producers, film critics, and other film industry professions, though women have been underrepresented in all these positions. Studies found that women have always had a presence in film acting, but have consistently been underrepresented, and on average significantly less well paid. \n",
    "\n",
    "In 2015, Forbes reported that \"...just 21 of the 100 top-grossing films of 2014 featured a female lead or co-lead, while only 28.1% of characters in 100 top-grossing films were female... This means it’s much rarer for women to get the sort of blockbuster role which would warrant the massive backend deals many male counterparts demand (Tom Cruise in Mission: Impossible or Robert Downey Jr. in Iron Man, for example)\".\n",
    "\n",
    "Also, Forbes' analysis of US acting salaries in 2013 determined that the \"...men on Forbes’ list of top-paid actors for that year made 2½ times as much money as the top-paid actresses. That means that Hollywood's best-compensated actresses made just 40 cents for every dollar that the best-compensated men made. \n",
    "\n",
    "\n",
    "In this assignment, we want to examine whether and how women representation is lacking in the film industry. We will adopt The Bechdel test as a measure of the representation of women in the film industry. The test is named after the American cartoonist Alison Bechdel in whose 1985 comic strip Dykes to Watch Out For the test first appeared. **A movie is said to meet the Bechdel test  following three criteria: (1) it has to have at least two women in it, who (2) who talk to each other, about (3) something besides a man.**\n",
    "\n",
    "We are going to obtain the data ourselves to perform the analysis. Specifically, we will retrieve the movie metadata from IMDB (Internet Movie Database), an online database of information related to films, television programs, home videos, video games, and streaming content online – including cast, production crew and personal biographies, plot summaries, trivia, ratings, and fan and critical reviews. As of January 2020, IMDb has approximately 6.5 million titles (including episodes) and 10.4 million personalities in its database, as well as 83 million registered users.\n",
    "\n",
    "\n",
    "The IMDb Top 250 is a list of the top rated 250 films, based on ratings by the registered users of the website using the methods described. We will focus on these famous movies in this analysis:"
   ]
  },
  {
   "cell_type": "markdown",
   "metadata": {},
   "source": [
    "**Question 1.1** (20 points): We will retrieve the metadata of IMDb Top 250 movies from the [IMDb charts](https://www.imdb.com/chart/top/). For each movie on the list, we can scrape the following characteristics from the information page. For example, from the [page of top rated movie \"The Shawshank Redemption\"](https://www.imdb.com/title/tt0111161/?pf_rd_m=A2FGELUUNOQJNL&pf_rd_p=e31d89dd-322d-4646-8962-327b42fe94b1&pf_rd_r=F4QFC0SVZN1HTDHCY3C0&pf_rd_s=center-1&pf_rd_t=15506&pf_rd_i=top&ref_=chttp_tt_1), we want to extract the metadata about this movie as:\n",
    "- IMDb id (0111161)\n",
    "- Movie name (The Shawshank Redemption)\n",
    "- Year (1994)\n",
    "- Director (Frank Darabont)\n",
    "- Starring (Tim Robbins, Morgan Freeman, Bob Gunton)\n",
    "- Rating (9.3)\n",
    "- Number of reviews (2,291,324)\n",
    "- Genres (Drama)\n",
    "- Country (USA)\n",
    "- Language (English)\n",
    "- Budget (\\$25,000,000)\n",
    "- Box Office Revenue (\\$28,815,291)\n",
    "- Runtime (142 min)\n",
    "\n",
    "![imdb](https://mrfloris.com/files/images/imdb-top250-page-start.png)\n",
    "\n",
    "\n",
    "After scraping the 250 movies, save the data as a dataframe ```imdb_top_movies```. \n",
    "Also, saving the dataframe to a local file ```imdb_top_movies.csv``` so that later you can load it without scraping the website twice.\n",
    "\n",
    "Hint: You can get the links to these movies from the IMDb top chart page, and then scrape each movie page by sending the request to these links. At each movie page, the information requested are located at different sections. "
   ]
  },
  {
   "cell_type": "code",
   "execution_count": 1,
   "metadata": {},
   "outputs": [],
   "source": [
    "import pandas as pd\n",
    "import numpy as np\n",
    "import requests\n",
    "from bs4 import BeautifulSoup"
   ]
  },
  {
   "cell_type": "code",
   "execution_count": 2,
   "metadata": {},
   "outputs": [
    {
     "data": {
      "text/plain": [
       "<Response [200]>"
      ]
     },
     "execution_count": 2,
     "metadata": {},
     "output_type": "execute_result"
    }
   ],
   "source": [
    "# Question 1.1\n",
    "\n",
    "page = requests.get(\"https://www.imdb.com/chart/top/\")\n",
    "page"
   ]
  },
  {
   "cell_type": "code",
   "execution_count": 3,
   "metadata": {},
   "outputs": [],
   "source": [
    "soup = BeautifulSoup(page.content, 'html.parser')"
   ]
  },
  {
   "cell_type": "code",
   "execution_count": 4,
   "metadata": {},
   "outputs": [
    {
     "data": {
      "text/plain": [
       "'/title/tt0111161/'"
      ]
     },
     "execution_count": 4,
     "metadata": {},
     "output_type": "execute_result"
    }
   ],
   "source": [
    "# We have found that the first title starts at line 59 of the code\n",
    "tag = soup.find_all(\"a\")[59]\n",
    "\n",
    "# Find the 'href' that contains the link\n",
    "link = tag['href']\n",
    "link"
   ]
  },
  {
   "cell_type": "code",
   "execution_count": 5,
   "metadata": {},
   "outputs": [],
   "source": [
    "link_dic = {}\n",
    "rank = 0\n",
    "\n",
    "# We add a step in the range since the links appear twince for the same title (image and url) and both go to the same place\n",
    "for row in range(59, len(soup.find_all(\"a\"))-54, 2):\n",
    "    rank += 1\n",
    "    temporary = soup.find_all(\"a\")[row]\n",
    "    link_dic[rank] = temporary['href']"
   ]
  },
  {
   "cell_type": "code",
   "execution_count": 6,
   "metadata": {},
   "outputs": [],
   "source": [
    "half_url = link_dic[3]\n",
    "page = requests.get(\"https://www.imdb.com/\"+half_url)"
   ]
  },
  {
   "cell_type": "code",
   "execution_count": 7,
   "metadata": {
    "scrolled": false
   },
   "outputs": [],
   "source": [
    "new_soup = BeautifulSoup(page.content, 'html.parser')"
   ]
  },
  {
   "cell_type": "code",
   "execution_count": 113,
   "metadata": {},
   "outputs": [],
   "source": [
    "data = {}\n",
    "rank = []\n",
    "imdb_id = []\n",
    "title = []\n",
    "year = []\n",
    "director = []\n",
    "starring = []\n",
    "rating = []\n",
    "n_reviews = []\n",
    "genre = []\n",
    "country = []\n",
    "box_off_rev = []\n",
    "language = []\n",
    "budget = []\n",
    "runtime = []\n",
    "for i in range(1,250+1):\n",
    "    \n",
    "    # Link to be scrapped\n",
    "    half_url = link_dic[i]\n",
    "    headers = {'Accept-Language': 'en-US, en;q=0.5'}\n",
    "    page = requests.get(\"https://www.imdb.com/\"+half_url, headers = headers)\n",
    "    new_soup = BeautifulSoup(page.content, 'html.parser')\n",
    "    \n",
    "    # Rank\n",
    "    rank.append(i)\n",
    "    data['Rank'] = rank\n",
    "    \n",
    "    # IMDBid\n",
    "    imdb_id.append(str(half_url[9:-1]))\n",
    "    data['imdb_id'] = imdb_id\n",
    "    \n",
    "    # Movie Name\n",
    "    t = new_soup.find(class_='title_wrapper').get_text().strip()\n",
    "    tit = ''\n",
    "    for i in t:\n",
    "        if i == '\\xa0':\n",
    "            break\n",
    "        tit+=i\n",
    "    title.append(tit)\n",
    "    data['Movie'] = title\n",
    "\n",
    "    # Find the Year\n",
    "    y = new_soup.find(attrs = {'id':'titleYear'}).get_text()\n",
    "    year_1 = [i for i in y if i not in ['(',')']]\n",
    "    year.append(''.join(year_1))\n",
    "    data['Year'] = year\n",
    "\n",
    "    # Find the Director\n",
    "    d = new_soup.find_all('div', attrs = {'class':'credit_summary_item'})[0].get_text().split()\n",
    "    director_1 = d[1:]\n",
    "    director.append(' '.join(director_1))\n",
    "    data['Director'] = director\n",
    "\n",
    "    # Find Starring\n",
    "    s = new_soup.find_all(class_ = 'credit_summary_item')[2].get_text().split()\n",
    "    starring_1 = [i for i in s if i not in ['Stars:','|','See','full','cast','&','crew','»']]\n",
    "    starring.append(' '.join(starring_1))\n",
    "    data['Starring'] = starring\n",
    "    \n",
    "\n",
    "    # Finding the movie Rating\n",
    "    rate = new_soup.find(attrs = {'itemprop':\"ratingValue\"}).get_text()\n",
    "    rating.append(rate)\n",
    "    data['Rating'] = rating\n",
    "\n",
    "    # Number of reviews\n",
    "    n_rev = new_soup.find(attrs = {'itemprop':'ratingCount'}).get_text()\n",
    "    n_reviews.append(n_rev)\n",
    "    data['#Reviews'] = n_reviews\n",
    "\n",
    "    # Finding the Genre\n",
    "    gen = new_soup.find_all('div', attrs = {'class':'inline'})[-1].get_text().strip().split()\n",
    "    help_gen =[]\n",
    "    for i in gen:\n",
    "        if i not in ['Genres:','|']:\n",
    "            help_gen.append(i)\n",
    "    help_gen = ','.join(help_gen)\n",
    "    genre.append(help_gen)\n",
    "    data['Genre'] = genre\n",
    "    \n",
    "#     # Finding the Country\n",
    "#     c = new_soup.find_all('div', attrs = {'class':'txt-block'})[-13].get_text().split()[1]\n",
    "#     country.append(c)\n",
    "#     data['Country'] = country\n",
    "    \n",
    "\n",
    "    # Finding Country and Language\n",
    "    count = new_soup.find_all('div', attrs = {'class':'article', 'id':'titleDetails'})[0].get_text().split()\n",
    "    counter = 0\n",
    "    for i in count:\n",
    "        counter+=1\n",
    "        if i == 'Country:':\n",
    "            if count[counter] == 'New':\n",
    "                special = count[counter]+' '+count[counter+1]\n",
    "                country.append(special)\n",
    "            else:\n",
    "                country.append(count[counter])\n",
    "        if i == 'Language:':\n",
    "            language.append(count[counter])\n",
    "            break\n",
    "        data['Country'] = country\n",
    "        data['Language'] = language\n",
    "\n",
    "    # Finding the Box Office Revenue\n",
    "    try:\n",
    "        Box_Off = new_soup.find_all('div', attrs = {'class':'txt-block'})[-7].get_text().split()[3]\n",
    "        box_off_rev.append(Box_Off)\n",
    "        data['Box_Off_Rev'] = box_off_rev\n",
    "    except:\n",
    "        box_off_rev.append(np.nan)\n",
    "        data['Box_Off_Rev'] = box_off_rev\n",
    "        \n",
    "#     # Finding the language\n",
    "#     lang = new_soup.find_all('div', attrs = {'class':'txt-block'})[-14].get_text().strip().split()[1]\n",
    "#     language.append(lang)\n",
    "#     data['Language'] = language\n",
    "    \n",
    "    # Finding the Budget\n",
    "    a = new_soup.find_all('div', attrs = {'class':'txt-block'})[-10].get_text().strip()\n",
    "    budget_list = a.split()[0]\n",
    "    budget.append(budget_list[7:len(budget_list)])\n",
    "    data['Budget'] = budget\n",
    "\n",
    "    # Finding the Runtime\n",
    "    run = new_soup.find_all('div', attrs = {'class':'txt-block'})[-4].get_text().strip()\n",
    "    runtime_1 = run[9:]\n",
    "    runt = ''\n",
    "    for i in runtime_1:\n",
    "        if i == '\\n':\n",
    "            break\n",
    "        runt +=i\n",
    "    runtime.append(runt)\n",
    "    data['Runtime'] = runtime\n",
    "\n",
    "new_data = pd.DataFrame(data)\n",
    "new_data.to_csv('top_250_imdb.csv')"
   ]
  },
  {
   "cell_type": "code",
   "execution_count": 114,
   "metadata": {
    "scrolled": false
   },
   "outputs": [
    {
     "data": {
      "text/html": [
       "<div>\n",
       "<style scoped>\n",
       "    .dataframe tbody tr th:only-of-type {\n",
       "        vertical-align: middle;\n",
       "    }\n",
       "\n",
       "    .dataframe tbody tr th {\n",
       "        vertical-align: top;\n",
       "    }\n",
       "\n",
       "    .dataframe thead th {\n",
       "        text-align: right;\n",
       "    }\n",
       "</style>\n",
       "<table border=\"1\" class=\"dataframe\">\n",
       "  <thead>\n",
       "    <tr style=\"text-align: right;\">\n",
       "      <th></th>\n",
       "      <th>Rank</th>\n",
       "      <th>imdb_id</th>\n",
       "      <th>Movie</th>\n",
       "      <th>Year</th>\n",
       "      <th>Director</th>\n",
       "      <th>Starring</th>\n",
       "      <th>Rating</th>\n",
       "      <th>#Reviews</th>\n",
       "      <th>Genre</th>\n",
       "      <th>Country</th>\n",
       "      <th>Language</th>\n",
       "      <th>Box_Off_Rev</th>\n",
       "      <th>Budget</th>\n",
       "      <th>Runtime</th>\n",
       "    </tr>\n",
       "  </thead>\n",
       "  <tbody>\n",
       "    <tr>\n",
       "      <th>0</th>\n",
       "      <td>1</td>\n",
       "      <td>0111161</td>\n",
       "      <td>The Shawshank Redemption</td>\n",
       "      <td>1994</td>\n",
       "      <td>Frank Darabont</td>\n",
       "      <td>Tim Robbins, Morgan Freeman, Bob Gunton</td>\n",
       "      <td>9.3</td>\n",
       "      <td>2,295,658</td>\n",
       "      <td>Drama</td>\n",
       "      <td>USA</td>\n",
       "      <td>English</td>\n",
       "      <td>$28,815,291</td>\n",
       "      <td>$25,000,000</td>\n",
       "      <td>142 min</td>\n",
       "    </tr>\n",
       "    <tr>\n",
       "      <th>1</th>\n",
       "      <td>2</td>\n",
       "      <td>0068646</td>\n",
       "      <td>The Godfather</td>\n",
       "      <td>1972</td>\n",
       "      <td>Francis Ford Coppola</td>\n",
       "      <td>Marlon Brando, Al Pacino, James Caan</td>\n",
       "      <td>9.2</td>\n",
       "      <td>1,584,598</td>\n",
       "      <td>Crime,Drama</td>\n",
       "      <td>USA</td>\n",
       "      <td>English</td>\n",
       "      <td>$246,120,974</td>\n",
       "      <td>$6,000,000</td>\n",
       "      <td>175 min</td>\n",
       "    </tr>\n",
       "    <tr>\n",
       "      <th>2</th>\n",
       "      <td>3</td>\n",
       "      <td>0071562</td>\n",
       "      <td>The Godfather: Part II</td>\n",
       "      <td>1974</td>\n",
       "      <td>Francis Ford Coppola</td>\n",
       "      <td>Al Pacino, Robert De Niro, Robert Duvall</td>\n",
       "      <td>9.0</td>\n",
       "      <td>1,107,109</td>\n",
       "      <td>Crime,Drama</td>\n",
       "      <td>USA</td>\n",
       "      <td>English</td>\n",
       "      <td>$48,035,783</td>\n",
       "      <td>$13,000,000</td>\n",
       "      <td>202 min</td>\n",
       "    </tr>\n",
       "    <tr>\n",
       "      <th>3</th>\n",
       "      <td>4</td>\n",
       "      <td>0468569</td>\n",
       "      <td>The Dark Knight</td>\n",
       "      <td>2008</td>\n",
       "      <td>Christopher Nolan</td>\n",
       "      <td>Christian Bale, Heath Ledger, Aaron Eckhart</td>\n",
       "      <td>9.0</td>\n",
       "      <td>2,260,383</td>\n",
       "      <td>Action,Crime,Drama,Thriller</td>\n",
       "      <td>USA</td>\n",
       "      <td>English</td>\n",
       "      <td>$1,005,456,758</td>\n",
       "      <td>$185,000,000</td>\n",
       "      <td>152 min</td>\n",
       "    </tr>\n",
       "    <tr>\n",
       "      <th>4</th>\n",
       "      <td>5</td>\n",
       "      <td>0050083</td>\n",
       "      <td>12 Angry Men</td>\n",
       "      <td>1957</td>\n",
       "      <td>Sidney Lumet</td>\n",
       "      <td>Henry Fonda, Lee J. Cobb, Martin Balsam</td>\n",
       "      <td>8.9</td>\n",
       "      <td>674,534</td>\n",
       "      <td>Crime,Drama</td>\n",
       "      <td>USA</td>\n",
       "      <td>English</td>\n",
       "      <td>$576</td>\n",
       "      <td></td>\n",
       "      <td>96 min</td>\n",
       "    </tr>\n",
       "    <tr>\n",
       "      <th>...</th>\n",
       "      <td>...</td>\n",
       "      <td>...</td>\n",
       "      <td>...</td>\n",
       "      <td>...</td>\n",
       "      <td>...</td>\n",
       "      <td>...</td>\n",
       "      <td>...</td>\n",
       "      <td>...</td>\n",
       "      <td>...</td>\n",
       "      <td>...</td>\n",
       "      <td>...</td>\n",
       "      <td>...</td>\n",
       "      <td>...</td>\n",
       "      <td>...</td>\n",
       "    </tr>\n",
       "    <tr>\n",
       "      <th>245</th>\n",
       "      <td>246</td>\n",
       "      <td>0088247</td>\n",
       "      <td>The Terminator</td>\n",
       "      <td>1984</td>\n",
       "      <td>James Cameron</td>\n",
       "      <td>Arnold Schwarzenegger, Linda Hamilton, Michael...</td>\n",
       "      <td>8.0</td>\n",
       "      <td>789,343</td>\n",
       "      <td>Action,Sci-Fi</td>\n",
       "      <td>UK</td>\n",
       "      <td>English</td>\n",
       "      <td>$78,680,331</td>\n",
       "      <td>$6,400,000</td>\n",
       "      <td>107 min</td>\n",
       "    </tr>\n",
       "    <tr>\n",
       "      <th>246</th>\n",
       "      <td>247</td>\n",
       "      <td>0103639</td>\n",
       "      <td>Aladdin</td>\n",
       "      <td>1992</td>\n",
       "      <td>Ron Clements, John Musker</td>\n",
       "      <td>Scott Weinger, Robin Williams, Linda Larkin</td>\n",
       "      <td>8.0</td>\n",
       "      <td>367,441</td>\n",
       "      <td>Animation,Adventure,Comedy,Family,Fantasy,Musi...</td>\n",
       "      <td>USA</td>\n",
       "      <td>English</td>\n",
       "      <td>$504,050,219</td>\n",
       "      <td>$28,000,000</td>\n",
       "      <td>90 min</td>\n",
       "    </tr>\n",
       "    <tr>\n",
       "      <th>247</th>\n",
       "      <td>248</td>\n",
       "      <td>2991224</td>\n",
       "      <td>Tangerines</td>\n",
       "      <td>2013</td>\n",
       "      <td>Zaza Urushadze</td>\n",
       "      <td>Lembit Ulfsak, Elmo Nüganen, Giorgi Nakashidze</td>\n",
       "      <td>8.2</td>\n",
       "      <td>38,250</td>\n",
       "      <td>Drama,War</td>\n",
       "      <td>Estonia</td>\n",
       "      <td>Estonian</td>\n",
       "      <td>$1,024,132</td>\n",
       "      <td>EUR650,000</td>\n",
       "      <td>87 min</td>\n",
       "    </tr>\n",
       "    <tr>\n",
       "      <th>248</th>\n",
       "      <td>249</td>\n",
       "      <td>0050613</td>\n",
       "      <td>Throne of Blood</td>\n",
       "      <td>1957</td>\n",
       "      <td>Akira Kurosawa</td>\n",
       "      <td>Toshirô Mifune, Minoru Chiaki, Isuzu Yamada</td>\n",
       "      <td>8.1</td>\n",
       "      <td>45,565</td>\n",
       "      <td>Drama,History</td>\n",
       "      <td>Japan</td>\n",
       "      <td>Japanese</td>\n",
       "      <td>$46,808</td>\n",
       "      <td></td>\n",
       "      <td>110 min</td>\n",
       "    </tr>\n",
       "    <tr>\n",
       "      <th>249</th>\n",
       "      <td>250</td>\n",
       "      <td>5323662</td>\n",
       "      <td>A Silent Voice: The Movie</td>\n",
       "      <td>2016</td>\n",
       "      <td>Naoko Yamada</td>\n",
       "      <td>Miyu Irino, Saori Hayami, Aoi Yûki</td>\n",
       "      <td>8.1</td>\n",
       "      <td>42,703</td>\n",
       "      <td>Animation,Drama,Family,Romance</td>\n",
       "      <td>Japan</td>\n",
       "      <td>Japanese</td>\n",
       "      <td>$30,490,447</td>\n",
       "      <td></td>\n",
       "      <td>130 min</td>\n",
       "    </tr>\n",
       "  </tbody>\n",
       "</table>\n",
       "<p>250 rows × 14 columns</p>\n",
       "</div>"
      ],
      "text/plain": [
       "     Rank  imdb_id                      Movie  Year  \\\n",
       "0       1  0111161   The Shawshank Redemption  1994   \n",
       "1       2  0068646              The Godfather  1972   \n",
       "2       3  0071562     The Godfather: Part II  1974   \n",
       "3       4  0468569            The Dark Knight  2008   \n",
       "4       5  0050083               12 Angry Men  1957   \n",
       "..    ...      ...                        ...   ...   \n",
       "245   246  0088247             The Terminator  1984   \n",
       "246   247  0103639                    Aladdin  1992   \n",
       "247   248  2991224                 Tangerines  2013   \n",
       "248   249  0050613            Throne of Blood  1957   \n",
       "249   250  5323662  A Silent Voice: The Movie  2016   \n",
       "\n",
       "                      Director  \\\n",
       "0               Frank Darabont   \n",
       "1         Francis Ford Coppola   \n",
       "2         Francis Ford Coppola   \n",
       "3            Christopher Nolan   \n",
       "4                 Sidney Lumet   \n",
       "..                         ...   \n",
       "245              James Cameron   \n",
       "246  Ron Clements, John Musker   \n",
       "247             Zaza Urushadze   \n",
       "248             Akira Kurosawa   \n",
       "249               Naoko Yamada   \n",
       "\n",
       "                                              Starring Rating   #Reviews  \\\n",
       "0              Tim Robbins, Morgan Freeman, Bob Gunton    9.3  2,295,658   \n",
       "1                 Marlon Brando, Al Pacino, James Caan    9.2  1,584,598   \n",
       "2             Al Pacino, Robert De Niro, Robert Duvall    9.0  1,107,109   \n",
       "3          Christian Bale, Heath Ledger, Aaron Eckhart    9.0  2,260,383   \n",
       "4              Henry Fonda, Lee J. Cobb, Martin Balsam    8.9    674,534   \n",
       "..                                                 ...    ...        ...   \n",
       "245  Arnold Schwarzenegger, Linda Hamilton, Michael...    8.0    789,343   \n",
       "246        Scott Weinger, Robin Williams, Linda Larkin    8.0    367,441   \n",
       "247     Lembit Ulfsak, Elmo Nüganen, Giorgi Nakashidze    8.2     38,250   \n",
       "248        Toshirô Mifune, Minoru Chiaki, Isuzu Yamada    8.1     45,565   \n",
       "249                 Miyu Irino, Saori Hayami, Aoi Yûki    8.1     42,703   \n",
       "\n",
       "                                                 Genre  Country  Language  \\\n",
       "0                                                Drama      USA   English   \n",
       "1                                          Crime,Drama      USA   English   \n",
       "2                                          Crime,Drama      USA   English   \n",
       "3                          Action,Crime,Drama,Thriller      USA   English   \n",
       "4                                          Crime,Drama      USA   English   \n",
       "..                                                 ...      ...       ...   \n",
       "245                                      Action,Sci-Fi       UK   English   \n",
       "246  Animation,Adventure,Comedy,Family,Fantasy,Musi...      USA   English   \n",
       "247                                          Drama,War  Estonia  Estonian   \n",
       "248                                      Drama,History    Japan  Japanese   \n",
       "249                     Animation,Drama,Family,Romance    Japan  Japanese   \n",
       "\n",
       "        Box_Off_Rev        Budget  Runtime  \n",
       "0       $28,815,291   $25,000,000  142 min  \n",
       "1      $246,120,974    $6,000,000  175 min  \n",
       "2       $48,035,783   $13,000,000  202 min  \n",
       "3    $1,005,456,758  $185,000,000  152 min  \n",
       "4              $576                 96 min  \n",
       "..              ...           ...      ...  \n",
       "245     $78,680,331    $6,400,000  107 min  \n",
       "246    $504,050,219   $28,000,000   90 min  \n",
       "247      $1,024,132    EUR650,000   87 min  \n",
       "248         $46,808                110 min  \n",
       "249     $30,490,447                130 min  \n",
       "\n",
       "[250 rows x 14 columns]"
      ]
     },
     "execution_count": 114,
     "metadata": {},
     "output_type": "execute_result"
    }
   ],
   "source": [
    "new_data"
   ]
  },
  {
   "cell_type": "code",
   "execution_count": 206,
   "metadata": {},
   "outputs": [
    {
     "data": {
      "text/plain": [
       "'Three Colors: Red'"
      ]
     },
     "execution_count": 206,
     "metadata": {},
     "output_type": "execute_result"
    }
   ],
   "source": [
    "# Movie Name\n",
    "t = new_soup.find(class_='title_wrapper').get_text().strip()\n",
    "tit = ''\n",
    "for i in t:\n",
    "    if i == '\\xa0':\n",
    "        break\n",
    "    tit+=i\n",
    "tit\n",
    "# title = [i for i in t if i not in ['(original', 'title)']]\n",
    "# title = ' '.join(title)\n",
    "# title"
   ]
  },
  {
   "cell_type": "code",
   "execution_count": 448,
   "metadata": {},
   "outputs": [
    {
     "data": {
      "text/plain": [
       "'1994'"
      ]
     },
     "execution_count": 448,
     "metadata": {},
     "output_type": "execute_result"
    }
   ],
   "source": [
    "# Find the Year\n",
    "y = new_soup.find(attrs = {'id':'titleYear'}).get_text()\n",
    "year = [i for i in y if i not in ['(',')']]\n",
    "year = ''.join(year)\n",
    "year"
   ]
  },
  {
   "cell_type": "code",
   "execution_count": 423,
   "metadata": {},
   "outputs": [
    {
     "data": {
      "text/plain": [
       "'Frank Darabont'"
      ]
     },
     "execution_count": 423,
     "metadata": {},
     "output_type": "execute_result"
    }
   ],
   "source": [
    "# Find the Director\n",
    "d = new_soup.find_all('div', attrs = {'class':'credit_summary_item'})[0].get_text().split()\n",
    "director = d[1:]\n",
    "director = ' '.join(director)\n",
    "director"
   ]
  },
  {
   "cell_type": "code",
   "execution_count": 429,
   "metadata": {},
   "outputs": [
    {
     "data": {
      "text/plain": [
       "'Tim Robbins, Morgan Freeman, Bob Gunton'"
      ]
     },
     "execution_count": 429,
     "metadata": {},
     "output_type": "execute_result"
    }
   ],
   "source": [
    "# Find Starring\n",
    "a = new_soup.find_all(class_ = 'credit_summary_item')[2].get_text().split()\n",
    "starring = [i for i in a if i not in ['Stars:','|','See','full','cast','&','crew','»']]\n",
    "starring = ' '.join(starring)\n",
    "starring"
   ]
  },
  {
   "cell_type": "code",
   "execution_count": 392,
   "metadata": {},
   "outputs": [
    {
     "data": {
      "text/plain": [
       "'9.3'"
      ]
     },
     "execution_count": 392,
     "metadata": {},
     "output_type": "execute_result"
    }
   ],
   "source": [
    "# Finding the movie Rating\n",
    "rating = new_soup.find(attrs = {'itemprop':\"ratingValue\"}).get_text()\n",
    "rating"
   ]
  },
  {
   "cell_type": "code",
   "execution_count": 386,
   "metadata": {},
   "outputs": [
    {
     "data": {
      "text/plain": [
       "'2,292,364'"
      ]
     },
     "execution_count": 386,
     "metadata": {},
     "output_type": "execute_result"
    }
   ],
   "source": [
    "# Number of reviews\n",
    "n_reviews = new_soup.find(attrs = {'itemprop':'ratingCount'}).get_text()\n",
    "n_reviews"
   ]
  },
  {
   "cell_type": "code",
   "execution_count": 98,
   "metadata": {},
   "outputs": [
    {
     "data": {
      "text/plain": [
       "'Crime,Drama'"
      ]
     },
     "execution_count": 98,
     "metadata": {},
     "output_type": "execute_result"
    }
   ],
   "source": [
    "# Finding the Genre\n",
    "a = new_soup.find_all('div', attrs = {'class':'inline'})[-1].get_text().strip().split()\n",
    "genre = []\n",
    "for i in a:\n",
    "    if i not in ['Genres:','|']:\n",
    "        genre.append(i)\n",
    "        \n",
    "genre = ','.join(genre)\n",
    "genre"
   ]
  },
  {
   "cell_type": "code",
   "execution_count": 337,
   "metadata": {},
   "outputs": [
    {
     "data": {
      "text/plain": [
       "'Switzerland'"
      ]
     },
     "execution_count": 337,
     "metadata": {},
     "output_type": "execute_result"
    }
   ],
   "source": [
    "# Finding the Country\n",
    "country = new_soup.find_all('div', attrs = {'class':'txt-block'})[-13].get_text().split()[1]\n",
    "country"
   ]
  },
  {
   "cell_type": "code",
   "execution_count": 533,
   "metadata": {},
   "outputs": [
    {
     "data": {
      "text/plain": [
       "'$576'"
      ]
     },
     "execution_count": 533,
     "metadata": {},
     "output_type": "execute_result"
    }
   ],
   "source": [
    "# Finding the Box Office Revenue\n",
    "Box_Off_rev = new_soup.find_all('div', attrs = {'class':'txt-block'})[-7].get_text().split()[3]\n",
    "Box_Off_rev"
   ]
  },
  {
   "cell_type": "code",
   "execution_count": 434,
   "metadata": {},
   "outputs": [
    {
     "data": {
      "text/plain": [
       "'English'"
      ]
     },
     "execution_count": 434,
     "metadata": {},
     "output_type": "execute_result"
    }
   ],
   "source": [
    "# Finding the language\n",
    "language = new_soup.find_all('div', attrs = {'class':'txt-block'})[-14].get_text().strip().split()[1]\n",
    "language"
   ]
  },
  {
   "cell_type": "code",
   "execution_count": 435,
   "metadata": {},
   "outputs": [
    {
     "data": {
      "text/plain": [
       "'$25,000,000'"
      ]
     },
     "execution_count": 435,
     "metadata": {},
     "output_type": "execute_result"
    }
   ],
   "source": [
    "# Finding the Budget\n",
    "budget = new_soup.find_all('div', attrs = {'class':'txt-block'})[-10].get_text().strip()\n",
    "a = budget.split()[0]\n",
    "budget_list = a[7:len(a)]\n",
    "budget_list"
   ]
  },
  {
   "cell_type": "code",
   "execution_count": 30,
   "metadata": {},
   "outputs": [
    {
     "data": {
      "text/plain": [
       "'202 min'"
      ]
     },
     "execution_count": 30,
     "metadata": {},
     "output_type": "execute_result"
    }
   ],
   "source": [
    "# Finding the Runtime\n",
    "run = new_soup.find_all('div', attrs = {'class':'txt-block'})[-4].get_text().strip()\n",
    "runt = run[9:]\n",
    "runti = ''\n",
    "for i in runt:\n",
    "    if i == '\\n':\n",
    "        break\n",
    "    runti +=i\n",
    "runti"
   ]
  },
  {
   "cell_type": "markdown",
   "metadata": {},
   "source": [
    "**Question 1.2** (5 points) If you group the movies by release years, show the number of movies at each decade in a descendingu order."
   ]
  },
  {
   "cell_type": "code",
   "execution_count": 2,
   "metadata": {},
   "outputs": [],
   "source": [
    "# Question 1.2\n",
    "dataset = pd.read_csv('top_250_imdb.csv')"
   ]
  },
  {
   "cell_type": "code",
   "execution_count": 17,
   "metadata": {},
   "outputs": [
    {
     "data": {
      "text/plain": [
       "(2010, 2020]    46\n",
       "(2000, 2010]    46\n",
       "(1990, 2000]    45\n",
       "(1980, 1990]    26\n",
       "(1950, 1960]    23\n",
       "(1970, 1980]    22\n",
       "(1960, 1970]    16\n",
       "(1940, 1950]    11\n",
       "(1930, 1940]     8\n",
       "(1920, 1930]     7\n",
       "dtype: int64"
      ]
     },
     "execution_count": 17,
     "metadata": {},
     "output_type": "execute_result"
    }
   ],
   "source": [
    "# Check the min Year and the max Year\n",
    "# Define the Bins\n",
    "# Get the data from the dataframe \n",
    "bins = [i for i in range(1920, 2020+1, 10)]\n",
    "year_list = list(dataset.Year)\n",
    "decades = pd.cut(year_list, bins)\n",
    "\n",
    "# Descending order of number of movies\n",
    "pd.value_counts(decades)\n",
    "\n",
    "# Descending order of Decades?\n"
   ]
  },
  {
   "cell_type": "markdown",
   "metadata": {},
   "source": [
    "**Quesion 1.3** (5 points) Show the number of movies by the distribution of runtime at quartile (0-25%, 25-50%, 50-75%, 75-100%)."
   ]
  },
  {
   "cell_type": "code",
   "execution_count": 18,
   "metadata": {},
   "outputs": [
    {
     "data": {
      "text/plain": [
       "(107.25, 126.0]     63\n",
       "(44.999, 107.25]    63\n",
       "(145.0, 321.0]      62\n",
       "(126.0, 145.0]      62\n",
       "dtype: int64"
      ]
     },
     "execution_count": 18,
     "metadata": {},
     "output_type": "execute_result"
    }
   ],
   "source": [
    "# Question 1.3\n",
    "run_list = []\n",
    "run = list(dataset.Runtime)\n",
    "for i in run:\n",
    "    run_list.append(int(i[:-4]))\n",
    "\n",
    "quartiles = pd.qcut(run_list, 4)  # Cut into quartiles\n",
    "\n",
    "pd.value_counts(quartiles)"
   ]
  },
  {
   "cell_type": "markdown",
   "metadata": {},
   "source": [
    "**Question 1.4** (5 points) What is the proportion of movies that have Budget higher than 75% of all movies (i.e. the third quartile)?"
   ]
  },
  {
   "cell_type": "code",
   "execution_count": 19,
   "metadata": {},
   "outputs": [
    {
     "name": "stdout",
     "output_type": "stream",
     "text": [
      "23.46% of movies have a Budget on the third quartile ( > 75% )\n"
     ]
    }
   ],
   "source": [
    "# Question 1.4\n",
    "\n",
    "# Get a clean data\n",
    "not_null_budget = list(dataset.Budget[dataset.Budget.notnull()])\n",
    "clean_budget = []\n",
    "for i in not_null_budget:\n",
    "    clean = []\n",
    "    for j in i:\n",
    "        if j in '1234567890':\n",
    "            clean.append(j)\n",
    "    if ''.join(clean) != '':\n",
    "        clean_budget.append(int(''.join(clean)))\n",
    "        \n",
    "budget_quart = pd.qcut(clean_budget, 4) # Cut into quartiles\n",
    "quart_list = [i for i in pd.value_counts(budget_quart)]\n",
    "third_q = quart_list[3]/sum(quart_list)*100\n",
    "print('{}% of movies have a Budget on the third quartile ( > 75% )'.format(round(third_q,2)))"
   ]
  },
  {
   "cell_type": "markdown",
   "metadata": {},
   "source": [
    "**Question 1.5** (5 points) Show the top 10 most popular actor/actresses in terms of number of movies they have starred. "
   ]
  },
  {
   "cell_type": "code",
   "execution_count": 20,
   "metadata": {},
   "outputs": [
    {
     "data": {
      "text/plain": [
       "Robert De Niro       9\n",
       "Harrison Ford        6\n",
       "Leonardo DiCaprio    6\n",
       "Charles Chaplin      6\n",
       "Tom Hanks            6\n",
       "Toshirô Mifune       5\n",
       "Christian Bale       5\n",
       "Clint Eastwood       5\n",
       "Al Pacino            4\n",
       "James Stewart        4\n",
       "dtype: int64"
      ]
     },
     "execution_count": 20,
     "metadata": {},
     "output_type": "execute_result"
    }
   ],
   "source": [
    "# Question 1.5\n",
    "from collections import Counter\n",
    "stars_list = list(dataset.Starring)\n",
    "starring = [i.split(',') for i in stars_list]\n",
    "\n",
    "starring_clean = []\n",
    "for i in starring:\n",
    "    for j in i:\n",
    "        starring_clean.append(j)\n",
    "        \n",
    "# Remove the spacing that happends on the begining of the name in some names       \n",
    "new_star = []\n",
    "for i in range(1, len(starring_clean), 3):\n",
    "    new_star.append(starring_clean[i][1:])\n",
    "    \n",
    "for i in range(2, len(starring_clean), 3):\n",
    "    new_star.append(starring_clean[i][1:])\n",
    "    \n",
    "for i in range(0, len(starring_clean), 3):\n",
    "    new_star.append(starring_clean[i])\n",
    "    \n",
    "# Check\n",
    "# len(new_star) == len(starring_clean)\n",
    "\n",
    "actors_n = dict(Counter(new_star))\n",
    "pd.Series(actors_n).sort_values(ascending = False).head(10)"
   ]
  },
  {
   "cell_type": "markdown",
   "metadata": {},
   "source": [
    "**Question 1.6** (5 points) Show the top 5 directors with the most total box office revenues."
   ]
  },
  {
   "cell_type": "code",
   "execution_count": 95,
   "metadata": {},
   "outputs": [],
   "source": [
    "# Question 1.6\n",
    "# Clean box office revenues\n",
    "# Create a Series with the sum of box office revenues per director\n",
    "# get the top 5"
   ]
  },
  {
   "cell_type": "code",
   "execution_count": 3,
   "metadata": {},
   "outputs": [],
   "source": [
    "# Clean box office revenues\n",
    "no_na_box = dataset.Box_Off_Rev.dropna()\n",
    "no_na_box = no_na_box.replace('Rodgers', np.nan)\n",
    "no_na_box.str.replace(r'\\D', '')\n",
    "dataset['Box_Off_Rev'] = no_na_box.str.replace(r'\\D', '')\n",
    "dataset['Box_Off_Rev'] = dataset['Box_Off_Rev'].replace('', np.nan)\n",
    "dataset['Box_Off_Rev'] = dataset['Box_Off_Rev'].dropna()\n",
    "dataset['Box_Off_Rev'] = dataset['Box_Off_Rev'].astype(float)"
   ]
  },
  {
   "cell_type": "code",
   "execution_count": 22,
   "metadata": {},
   "outputs": [
    {
     "data": {
      "text/plain": [
       "Director\n",
       "Anthony Russo, Joe Russo    4.846160e+09\n",
       "Christopher Nolan           4.143007e+09\n",
       "Steven Spielberg            3.055116e+09\n",
       "Peter Jackson               2.973633e+09\n",
       "David Yates                 1.342207e+09\n",
       "Name: Box_Off_Rev, dtype: float64"
      ]
     },
     "execution_count": 22,
     "metadata": {},
     "output_type": "execute_result"
    }
   ],
   "source": [
    "dataset.groupby(['Director'])['Box_Off_Rev'].sum().sort_values(ascending = False).head(5)"
   ]
  },
  {
   "cell_type": "markdown",
   "metadata": {},
   "source": [
    "**Question 1.7** (5 points) Show the average ratings of movies across the genres and decades."
   ]
  },
  {
   "cell_type": "code",
   "execution_count": 5,
   "metadata": {},
   "outputs": [],
   "source": [
    "# Question 1.7\n",
    "bins = [i for i in range(1920, 2020+1, 10)]\n",
    "year_list = list(dataset.Year)\n",
    "decades = pd.cut(year_list, bins)\n",
    "dataset['decade'] = pd.Series(decades)"
   ]
  },
  {
   "cell_type": "code",
   "execution_count": 26,
   "metadata": {},
   "outputs": [
    {
     "data": {
      "text/html": [
       "<div>\n",
       "<style scoped>\n",
       "    .dataframe tbody tr th:only-of-type {\n",
       "        vertical-align: middle;\n",
       "    }\n",
       "\n",
       "    .dataframe tbody tr th {\n",
       "        vertical-align: top;\n",
       "    }\n",
       "\n",
       "    .dataframe thead th {\n",
       "        text-align: right;\n",
       "    }\n",
       "</style>\n",
       "<table border=\"1\" class=\"dataframe\">\n",
       "  <thead>\n",
       "    <tr style=\"text-align: right;\">\n",
       "      <th></th>\n",
       "      <th></th>\n",
       "      <th>Rating</th>\n",
       "    </tr>\n",
       "    <tr>\n",
       "      <th>Genre</th>\n",
       "      <th>decade</th>\n",
       "      <th></th>\n",
       "    </tr>\n",
       "  </thead>\n",
       "  <tbody>\n",
       "    <tr>\n",
       "      <th>Action,Crime,Drama,Thriller</th>\n",
       "      <th>(2000, 2010]</th>\n",
       "      <td>9.00</td>\n",
       "    </tr>\n",
       "    <tr>\n",
       "      <th>Action,Adventure,Sci-Fi,Thriller</th>\n",
       "      <th>(2000, 2010]</th>\n",
       "      <td>8.80</td>\n",
       "    </tr>\n",
       "    <tr>\n",
       "      <th>Action,Adventure,Drama,Fantasy</th>\n",
       "      <th>(2000, 2010]</th>\n",
       "      <td>8.80</td>\n",
       "    </tr>\n",
       "    <tr>\n",
       "      <th>Action,Adventure,Fantasy,Sci-Fi</th>\n",
       "      <th>(1970, 1980]</th>\n",
       "      <td>8.65</td>\n",
       "    </tr>\n",
       "    <tr>\n",
       "      <th>Action,Drama,Mystery</th>\n",
       "      <th>(1960, 1970]</th>\n",
       "      <td>8.60</td>\n",
       "    </tr>\n",
       "    <tr>\n",
       "      <th rowspan=\"2\" valign=\"top\">Action,Adventure,Drama</th>\n",
       "      <th>(1950, 1960]</th>\n",
       "      <td>8.60</td>\n",
       "    </tr>\n",
       "    <tr>\n",
       "      <th>(1990, 2000]</th>\n",
       "      <td>8.50</td>\n",
       "    </tr>\n",
       "    <tr>\n",
       "      <th>Action,Crime,Drama,Thriller</th>\n",
       "      <th>(1990, 2000]</th>\n",
       "      <td>8.50</td>\n",
       "    </tr>\n",
       "    <tr>\n",
       "      <th>Action,Drama,Mystery,Thriller</th>\n",
       "      <th>(2000, 2010]</th>\n",
       "      <td>8.40</td>\n",
       "    </tr>\n",
       "    <tr>\n",
       "      <th>Action,Adventure</th>\n",
       "      <th>(2010, 2020]</th>\n",
       "      <td>8.40</td>\n",
       "    </tr>\n",
       "    <tr>\n",
       "      <th>Action,Adventure,Drama,Sci-Fi</th>\n",
       "      <th>(2010, 2020]</th>\n",
       "      <td>8.40</td>\n",
       "    </tr>\n",
       "    <tr>\n",
       "      <th>Action,Adventure,Sci-Fi</th>\n",
       "      <th>(2010, 2020]</th>\n",
       "      <td>8.40</td>\n",
       "    </tr>\n",
       "    <tr>\n",
       "      <th>Action,Adventure</th>\n",
       "      <th>(1980, 1990]</th>\n",
       "      <td>8.30</td>\n",
       "    </tr>\n",
       "    <tr>\n",
       "      <th>Action,Adventure,Sci-Fi,Thriller</th>\n",
       "      <th>(1980, 1990]</th>\n",
       "      <td>8.30</td>\n",
       "    </tr>\n",
       "    <tr>\n",
       "      <th>Action,Adventure,Fantasy,Sci-Fi</th>\n",
       "      <th>(1980, 1990]</th>\n",
       "      <td>8.30</td>\n",
       "    </tr>\n",
       "    <tr>\n",
       "      <th>Action,Biography,Drama,Sport</th>\n",
       "      <th>(2010, 2020]</th>\n",
       "      <td>8.20</td>\n",
       "    </tr>\n",
       "    <tr>\n",
       "      <th>Action,Adventure</th>\n",
       "      <th>(2000, 2010]</th>\n",
       "      <td>8.20</td>\n",
       "    </tr>\n",
       "    <tr>\n",
       "      <th>Action,Comedy,Crime</th>\n",
       "      <th>(1990, 2000]</th>\n",
       "      <td>8.20</td>\n",
       "    </tr>\n",
       "    <tr>\n",
       "      <th>Action,Comedy,Romance</th>\n",
       "      <th>(1920, 1930]</th>\n",
       "      <td>8.20</td>\n",
       "    </tr>\n",
       "    <tr>\n",
       "      <th>Action,Crime,Drama,Thriller</th>\n",
       "      <th>(2010, 2020]</th>\n",
       "      <td>8.20</td>\n",
       "    </tr>\n",
       "    <tr>\n",
       "      <th>Action,Adventure,Sci-Fi,Thriller</th>\n",
       "      <th>(2010, 2020]</th>\n",
       "      <td>8.10</td>\n",
       "    </tr>\n",
       "    <tr>\n",
       "      <th>Action,Crime,Drama,Mystery,Thriller</th>\n",
       "      <th>(2000, 2010]</th>\n",
       "      <td>8.10</td>\n",
       "    </tr>\n",
       "    <tr>\n",
       "      <th>Action,Crime,Thriller</th>\n",
       "      <th>(2000, 2010]</th>\n",
       "      <td>8.10</td>\n",
       "    </tr>\n",
       "    <tr>\n",
       "      <th>Action,Adventure,Comedy,Drama,War</th>\n",
       "      <th>(1920, 1930]</th>\n",
       "      <td>8.10</td>\n",
       "    </tr>\n",
       "    <tr>\n",
       "      <th>Action,Adventure,Sci-Fi,Thriller</th>\n",
       "      <th>(1990, 2000]</th>\n",
       "      <td>8.10</td>\n",
       "    </tr>\n",
       "  </tbody>\n",
       "</table>\n",
       "</div>"
      ],
      "text/plain": [
       "                                                  Rating\n",
       "Genre                               decade              \n",
       "Action,Crime,Drama,Thriller         (2000, 2010]    9.00\n",
       "Action,Adventure,Sci-Fi,Thriller    (2000, 2010]    8.80\n",
       "Action,Adventure,Drama,Fantasy      (2000, 2010]    8.80\n",
       "Action,Adventure,Fantasy,Sci-Fi     (1970, 1980]    8.65\n",
       "Action,Drama,Mystery                (1960, 1970]    8.60\n",
       "Action,Adventure,Drama              (1950, 1960]    8.60\n",
       "                                    (1990, 2000]    8.50\n",
       "Action,Crime,Drama,Thriller         (1990, 2000]    8.50\n",
       "Action,Drama,Mystery,Thriller       (2000, 2010]    8.40\n",
       "Action,Adventure                    (2010, 2020]    8.40\n",
       "Action,Adventure,Drama,Sci-Fi       (2010, 2020]    8.40\n",
       "Action,Adventure,Sci-Fi             (2010, 2020]    8.40\n",
       "Action,Adventure                    (1980, 1990]    8.30\n",
       "Action,Adventure,Sci-Fi,Thriller    (1980, 1990]    8.30\n",
       "Action,Adventure,Fantasy,Sci-Fi     (1980, 1990]    8.30\n",
       "Action,Biography,Drama,Sport        (2010, 2020]    8.20\n",
       "Action,Adventure                    (2000, 2010]    8.20\n",
       "Action,Comedy,Crime                 (1990, 2000]    8.20\n",
       "Action,Comedy,Romance               (1920, 1930]    8.20\n",
       "Action,Crime,Drama,Thriller         (2010, 2020]    8.20\n",
       "Action,Adventure,Sci-Fi,Thriller    (2010, 2020]    8.10\n",
       "Action,Crime,Drama,Mystery,Thriller (2000, 2010]    8.10\n",
       "Action,Crime,Thriller               (2000, 2010]    8.10\n",
       "Action,Adventure,Comedy,Drama,War   (1920, 1930]    8.10\n",
       "Action,Adventure,Sci-Fi,Thriller    (1990, 2000]    8.10"
      ]
     },
     "execution_count": 26,
     "metadata": {},
     "output_type": "execute_result"
    }
   ],
   "source": [
    "df = pd.DataFrame(dataset.groupby(['Genre','decade'])['Rating'].mean().dropna())\n",
    "df.head(25).sort_values('Rating', ascending = False)"
   ]
  },
  {
   "cell_type": "code",
   "execution_count": 37,
   "metadata": {},
   "outputs": [
    {
     "data": {
      "text/html": [
       "<div>\n",
       "<style scoped>\n",
       "    .dataframe tbody tr th:only-of-type {\n",
       "        vertical-align: middle;\n",
       "    }\n",
       "\n",
       "    .dataframe tbody tr th {\n",
       "        vertical-align: top;\n",
       "    }\n",
       "\n",
       "    .dataframe thead th {\n",
       "        text-align: right;\n",
       "    }\n",
       "</style>\n",
       "<table border=\"1\" class=\"dataframe\">\n",
       "  <thead>\n",
       "    <tr style=\"text-align: right;\">\n",
       "      <th></th>\n",
       "      <th>Main</th>\n",
       "      <th>genre_2</th>\n",
       "      <th>genre_3</th>\n",
       "      <th>genre_4</th>\n",
       "      <th>genre_5</th>\n",
       "      <th>genre_6</th>\n",
       "      <th>genre_7</th>\n",
       "      <th>Rating</th>\n",
       "      <th>decade</th>\n",
       "      <th>Movie</th>\n",
       "    </tr>\n",
       "  </thead>\n",
       "  <tbody>\n",
       "    <tr>\n",
       "      <th>0</th>\n",
       "      <td>Drama</td>\n",
       "      <td>None</td>\n",
       "      <td>None</td>\n",
       "      <td>None</td>\n",
       "      <td>None</td>\n",
       "      <td>None</td>\n",
       "      <td>None</td>\n",
       "      <td>9.3</td>\n",
       "      <td>(1990, 2000]</td>\n",
       "      <td>The Shawshank Redemption</td>\n",
       "    </tr>\n",
       "    <tr>\n",
       "      <th>1</th>\n",
       "      <td>Crime</td>\n",
       "      <td>Drama</td>\n",
       "      <td>None</td>\n",
       "      <td>None</td>\n",
       "      <td>None</td>\n",
       "      <td>None</td>\n",
       "      <td>None</td>\n",
       "      <td>9.2</td>\n",
       "      <td>(1970, 1980]</td>\n",
       "      <td>The Godfather</td>\n",
       "    </tr>\n",
       "    <tr>\n",
       "      <th>2</th>\n",
       "      <td>Crime</td>\n",
       "      <td>Drama</td>\n",
       "      <td>None</td>\n",
       "      <td>None</td>\n",
       "      <td>None</td>\n",
       "      <td>None</td>\n",
       "      <td>None</td>\n",
       "      <td>9.0</td>\n",
       "      <td>(1970, 1980]</td>\n",
       "      <td>The Godfather: Part II</td>\n",
       "    </tr>\n",
       "    <tr>\n",
       "      <th>3</th>\n",
       "      <td>Action</td>\n",
       "      <td>Crime</td>\n",
       "      <td>Drama</td>\n",
       "      <td>Thriller</td>\n",
       "      <td>None</td>\n",
       "      <td>None</td>\n",
       "      <td>None</td>\n",
       "      <td>9.0</td>\n",
       "      <td>(2000, 2010]</td>\n",
       "      <td>The Dark Knight</td>\n",
       "    </tr>\n",
       "    <tr>\n",
       "      <th>4</th>\n",
       "      <td>Crime</td>\n",
       "      <td>Drama</td>\n",
       "      <td>None</td>\n",
       "      <td>None</td>\n",
       "      <td>None</td>\n",
       "      <td>None</td>\n",
       "      <td>None</td>\n",
       "      <td>8.9</td>\n",
       "      <td>(1950, 1960]</td>\n",
       "      <td>12 Angry Men</td>\n",
       "    </tr>\n",
       "    <tr>\n",
       "      <th>...</th>\n",
       "      <td>...</td>\n",
       "      <td>...</td>\n",
       "      <td>...</td>\n",
       "      <td>...</td>\n",
       "      <td>...</td>\n",
       "      <td>...</td>\n",
       "      <td>...</td>\n",
       "      <td>...</td>\n",
       "      <td>...</td>\n",
       "      <td>...</td>\n",
       "    </tr>\n",
       "    <tr>\n",
       "      <th>245</th>\n",
       "      <td>Action</td>\n",
       "      <td>Sci-Fi</td>\n",
       "      <td>None</td>\n",
       "      <td>None</td>\n",
       "      <td>None</td>\n",
       "      <td>None</td>\n",
       "      <td>None</td>\n",
       "      <td>8.0</td>\n",
       "      <td>(1980, 1990]</td>\n",
       "      <td>The Terminator</td>\n",
       "    </tr>\n",
       "    <tr>\n",
       "      <th>246</th>\n",
       "      <td>Animation</td>\n",
       "      <td>Adventure</td>\n",
       "      <td>Comedy</td>\n",
       "      <td>Family</td>\n",
       "      <td>Fantasy</td>\n",
       "      <td>Musical</td>\n",
       "      <td>Romance</td>\n",
       "      <td>8.0</td>\n",
       "      <td>(1990, 2000]</td>\n",
       "      <td>Aladdin</td>\n",
       "    </tr>\n",
       "    <tr>\n",
       "      <th>247</th>\n",
       "      <td>Drama</td>\n",
       "      <td>War</td>\n",
       "      <td>None</td>\n",
       "      <td>None</td>\n",
       "      <td>None</td>\n",
       "      <td>None</td>\n",
       "      <td>None</td>\n",
       "      <td>8.2</td>\n",
       "      <td>(2010, 2020]</td>\n",
       "      <td>Tangerines</td>\n",
       "    </tr>\n",
       "    <tr>\n",
       "      <th>248</th>\n",
       "      <td>Drama</td>\n",
       "      <td>History</td>\n",
       "      <td>None</td>\n",
       "      <td>None</td>\n",
       "      <td>None</td>\n",
       "      <td>None</td>\n",
       "      <td>None</td>\n",
       "      <td>8.1</td>\n",
       "      <td>(1950, 1960]</td>\n",
       "      <td>Throne of Blood</td>\n",
       "    </tr>\n",
       "    <tr>\n",
       "      <th>249</th>\n",
       "      <td>Animation</td>\n",
       "      <td>Drama</td>\n",
       "      <td>Family</td>\n",
       "      <td>Romance</td>\n",
       "      <td>None</td>\n",
       "      <td>None</td>\n",
       "      <td>None</td>\n",
       "      <td>8.1</td>\n",
       "      <td>(2010, 2020]</td>\n",
       "      <td>A Silent Voice: The Movie</td>\n",
       "    </tr>\n",
       "  </tbody>\n",
       "</table>\n",
       "<p>250 rows × 10 columns</p>\n",
       "</div>"
      ],
      "text/plain": [
       "          Main    genre_2 genre_3   genre_4  genre_5  genre_6  genre_7  \\\n",
       "0        Drama       None    None      None     None     None     None   \n",
       "1        Crime      Drama    None      None     None     None     None   \n",
       "2        Crime      Drama    None      None     None     None     None   \n",
       "3       Action      Crime   Drama  Thriller     None     None     None   \n",
       "4        Crime      Drama    None      None     None     None     None   \n",
       "..         ...        ...     ...       ...      ...      ...      ...   \n",
       "245     Action     Sci-Fi    None      None     None     None     None   \n",
       "246  Animation  Adventure  Comedy    Family  Fantasy  Musical  Romance   \n",
       "247      Drama        War    None      None     None     None     None   \n",
       "248      Drama    History    None      None     None     None     None   \n",
       "249  Animation      Drama  Family   Romance     None     None     None   \n",
       "\n",
       "     Rating        decade                      Movie  \n",
       "0       9.3  (1990, 2000]   The Shawshank Redemption  \n",
       "1       9.2  (1970, 1980]              The Godfather  \n",
       "2       9.0  (1970, 1980]     The Godfather: Part II  \n",
       "3       9.0  (2000, 2010]            The Dark Knight  \n",
       "4       8.9  (1950, 1960]               12 Angry Men  \n",
       "..      ...           ...                        ...  \n",
       "245     8.0  (1980, 1990]             The Terminator  \n",
       "246     8.0  (1990, 2000]                    Aladdin  \n",
       "247     8.2  (2010, 2020]                 Tangerines  \n",
       "248     8.1  (1950, 1960]            Throne of Blood  \n",
       "249     8.1  (2010, 2020]  A Silent Voice: The Movie  \n",
       "\n",
       "[250 rows x 10 columns]"
      ]
     },
     "execution_count": 37,
     "metadata": {},
     "output_type": "execute_result"
    }
   ],
   "source": [
    "# What I can do here is to just... Create a new Dataframe with \n",
    "#  - Decades - Rating - Main Genre - Second ...\n",
    "genre_list = list(dataset.Genre)\n",
    "genre = [i.split(',') for i in genre_list]     \n",
    "\n",
    "genres_df = (dataset['Genre'].str.split(',', expand=True).rename(columns=lambda x: f\"genre_{x+1}\"))\n",
    "genres = pd.concat([genres_df, dataset[['Rating','decade','Movie']]], axis = 1)\n",
    "genres.rename(columns = {'genre_1':'Main'})"
   ]
  },
  {
   "cell_type": "code",
   "execution_count": 38,
   "metadata": {},
   "outputs": [
    {
     "data": {
      "text/html": [
       "<div>\n",
       "<style scoped>\n",
       "    .dataframe tbody tr th:only-of-type {\n",
       "        vertical-align: middle;\n",
       "    }\n",
       "\n",
       "    .dataframe tbody tr th {\n",
       "        vertical-align: top;\n",
       "    }\n",
       "\n",
       "    .dataframe thead th {\n",
       "        text-align: right;\n",
       "    }\n",
       "</style>\n",
       "<table border=\"1\" class=\"dataframe\">\n",
       "  <thead>\n",
       "    <tr style=\"text-align: right;\">\n",
       "      <th></th>\n",
       "      <th></th>\n",
       "      <th></th>\n",
       "      <th></th>\n",
       "      <th></th>\n",
       "      <th></th>\n",
       "      <th>Rating</th>\n",
       "    </tr>\n",
       "    <tr>\n",
       "      <th>genre_1</th>\n",
       "      <th>genre_2</th>\n",
       "      <th>genre_3</th>\n",
       "      <th>genre_4</th>\n",
       "      <th>genre_5</th>\n",
       "      <th>decade</th>\n",
       "      <th></th>\n",
       "    </tr>\n",
       "  </thead>\n",
       "  <tbody>\n",
       "    <tr>\n",
       "      <th rowspan=\"2\" valign=\"top\">Animation</th>\n",
       "      <th>Adventure</th>\n",
       "      <th>Drama</th>\n",
       "      <th>Family</th>\n",
       "      <th>Musical</th>\n",
       "      <th>(1990, 2000]</th>\n",
       "      <td>8.50</td>\n",
       "    </tr>\n",
       "    <tr>\n",
       "      <th>Action</th>\n",
       "      <th>Adventure</th>\n",
       "      <th>Family</th>\n",
       "      <th>Sci-Fi</th>\n",
       "      <th>(2010, 2020]</th>\n",
       "      <td>8.40</td>\n",
       "    </tr>\n",
       "    <tr>\n",
       "      <th rowspan=\"2\" valign=\"top\">Adventure</th>\n",
       "      <th>Biography</th>\n",
       "      <th>Drama</th>\n",
       "      <th>History</th>\n",
       "      <th>War</th>\n",
       "      <th>(1960, 1970]</th>\n",
       "      <td>8.30</td>\n",
       "    </tr>\n",
       "    <tr>\n",
       "      <th>Drama</th>\n",
       "      <th>History</th>\n",
       "      <th>Thriller</th>\n",
       "      <th>War</th>\n",
       "      <th>(1960, 1970]</th>\n",
       "      <td>8.20</td>\n",
       "    </tr>\n",
       "    <tr>\n",
       "      <th rowspan=\"2\" valign=\"top\">Animation</th>\n",
       "      <th rowspan=\"2\" valign=\"top\">Adventure</th>\n",
       "      <th rowspan=\"2\" valign=\"top\">Comedy</th>\n",
       "      <th rowspan=\"2\" valign=\"top\">Family</th>\n",
       "      <th rowspan=\"2\" valign=\"top\">Fantasy</th>\n",
       "      <th>(1990, 2000]</th>\n",
       "      <td>8.15</td>\n",
       "    </tr>\n",
       "    <tr>\n",
       "      <th>(2000, 2010]</th>\n",
       "      <td>8.15</td>\n",
       "    </tr>\n",
       "    <tr>\n",
       "      <th rowspan=\"2\" valign=\"top\">Action</th>\n",
       "      <th>Adventure</th>\n",
       "      <th>Comedy</th>\n",
       "      <th>Drama</th>\n",
       "      <th>War</th>\n",
       "      <th>(1920, 1930]</th>\n",
       "      <td>8.10</td>\n",
       "    </tr>\n",
       "    <tr>\n",
       "      <th>Crime</th>\n",
       "      <th>Drama</th>\n",
       "      <th>Mystery</th>\n",
       "      <th>Thriller</th>\n",
       "      <th>(2000, 2010]</th>\n",
       "      <td>8.10</td>\n",
       "    </tr>\n",
       "    <tr>\n",
       "      <th rowspan=\"2\" valign=\"top\">Animation</th>\n",
       "      <th>Action</th>\n",
       "      <th>Adventure</th>\n",
       "      <th>Family</th>\n",
       "      <th>Fantasy</th>\n",
       "      <th>(2000, 2010]</th>\n",
       "      <td>8.10</td>\n",
       "    </tr>\n",
       "    <tr>\n",
       "      <th>Adventure</th>\n",
       "      <th>Comedy</th>\n",
       "      <th>Drama</th>\n",
       "      <th>Family</th>\n",
       "      <th>(2010, 2020]</th>\n",
       "      <td>8.10</td>\n",
       "    </tr>\n",
       "  </tbody>\n",
       "</table>\n",
       "</div>"
      ],
      "text/plain": [
       "                                                              Rating\n",
       "genre_1   genre_2   genre_3   genre_4  genre_5  decade              \n",
       "Animation Adventure Drama     Family   Musical  (1990, 2000]    8.50\n",
       "          Action    Adventure Family   Sci-Fi   (2010, 2020]    8.40\n",
       "Adventure Biography Drama     History  War      (1960, 1970]    8.30\n",
       "          Drama     History   Thriller War      (1960, 1970]    8.20\n",
       "Animation Adventure Comedy    Family   Fantasy  (1990, 2000]    8.15\n",
       "                                                (2000, 2010]    8.15\n",
       "Action    Adventure Comedy    Drama    War      (1920, 1930]    8.10\n",
       "          Crime     Drama     Mystery  Thriller (2000, 2010]    8.10\n",
       "Animation Action    Adventure Family   Fantasy  (2000, 2010]    8.10\n",
       "          Adventure Comedy    Drama    Family   (2010, 2020]    8.10"
      ]
     },
     "execution_count": 38,
     "metadata": {},
     "output_type": "execute_result"
    }
   ],
   "source": [
    "pd.DataFrame(genres.groupby(['genre_1','genre_2','genre_3','genre_4','genre_5','decade'])['Rating'].mean().dropna()).head(10).sort_values('Rating', ascending = False)"
   ]
  },
  {
   "cell_type": "code",
   "execution_count": 7,
   "metadata": {},
   "outputs": [],
   "source": [
    "dataset.Genre\n",
    "gen = dataset['Genre'].str.get_dummies(',')\n",
    "gen['Rank'] = dataset.Rank"
   ]
  },
  {
   "cell_type": "code",
   "execution_count": 21,
   "metadata": {},
   "outputs": [],
   "source": [
    "genres = pd.merge(dataset[['decade','Rating','Rank']], gen, on = 'Rank')"
   ]
  },
  {
   "cell_type": "code",
   "execution_count": 12,
   "metadata": {},
   "outputs": [],
   "source": [
    "genres_dec = list(genres.columns[3:])\n",
    "genres_dec.append('decade')"
   ]
  },
  {
   "cell_type": "code",
   "execution_count": 35,
   "metadata": {},
   "outputs": [
    {
     "data": {
      "text/html": [
       "<div>\n",
       "<style scoped>\n",
       "    .dataframe tbody tr th:only-of-type {\n",
       "        vertical-align: middle;\n",
       "    }\n",
       "\n",
       "    .dataframe tbody tr th {\n",
       "        vertical-align: top;\n",
       "    }\n",
       "\n",
       "    .dataframe thead th {\n",
       "        text-align: right;\n",
       "    }\n",
       "</style>\n",
       "<table border=\"1\" class=\"dataframe\">\n",
       "  <thead>\n",
       "    <tr style=\"text-align: right;\">\n",
       "      <th></th>\n",
       "      <th>decade</th>\n",
       "      <th>Rating</th>\n",
       "      <th>Rank</th>\n",
       "      <th>Action</th>\n",
       "      <th>Adventure</th>\n",
       "      <th>Animation</th>\n",
       "      <th>Biography</th>\n",
       "      <th>Comedy</th>\n",
       "      <th>Crime</th>\n",
       "      <th>Drama</th>\n",
       "      <th>...</th>\n",
       "      <th>Horror</th>\n",
       "      <th>Music</th>\n",
       "      <th>Musical</th>\n",
       "      <th>Mystery</th>\n",
       "      <th>Romance</th>\n",
       "      <th>Sci-Fi</th>\n",
       "      <th>Sport</th>\n",
       "      <th>Thriller</th>\n",
       "      <th>War</th>\n",
       "      <th>Western</th>\n",
       "    </tr>\n",
       "  </thead>\n",
       "  <tbody>\n",
       "    <tr>\n",
       "      <th>0</th>\n",
       "      <td>(1990, 2000]</td>\n",
       "      <td>9.3</td>\n",
       "      <td>1</td>\n",
       "      <td>0</td>\n",
       "      <td>0</td>\n",
       "      <td>0</td>\n",
       "      <td>0</td>\n",
       "      <td>0</td>\n",
       "      <td>0</td>\n",
       "      <td>1</td>\n",
       "      <td>...</td>\n",
       "      <td>0</td>\n",
       "      <td>0</td>\n",
       "      <td>0</td>\n",
       "      <td>0</td>\n",
       "      <td>0</td>\n",
       "      <td>0</td>\n",
       "      <td>0</td>\n",
       "      <td>0</td>\n",
       "      <td>0</td>\n",
       "      <td>0</td>\n",
       "    </tr>\n",
       "    <tr>\n",
       "      <th>1</th>\n",
       "      <td>(1970, 1980]</td>\n",
       "      <td>9.2</td>\n",
       "      <td>2</td>\n",
       "      <td>0</td>\n",
       "      <td>0</td>\n",
       "      <td>0</td>\n",
       "      <td>0</td>\n",
       "      <td>0</td>\n",
       "      <td>1</td>\n",
       "      <td>1</td>\n",
       "      <td>...</td>\n",
       "      <td>0</td>\n",
       "      <td>0</td>\n",
       "      <td>0</td>\n",
       "      <td>0</td>\n",
       "      <td>0</td>\n",
       "      <td>0</td>\n",
       "      <td>0</td>\n",
       "      <td>0</td>\n",
       "      <td>0</td>\n",
       "      <td>0</td>\n",
       "    </tr>\n",
       "    <tr>\n",
       "      <th>2</th>\n",
       "      <td>(1970, 1980]</td>\n",
       "      <td>9.0</td>\n",
       "      <td>3</td>\n",
       "      <td>0</td>\n",
       "      <td>0</td>\n",
       "      <td>0</td>\n",
       "      <td>0</td>\n",
       "      <td>0</td>\n",
       "      <td>1</td>\n",
       "      <td>1</td>\n",
       "      <td>...</td>\n",
       "      <td>0</td>\n",
       "      <td>0</td>\n",
       "      <td>0</td>\n",
       "      <td>0</td>\n",
       "      <td>0</td>\n",
       "      <td>0</td>\n",
       "      <td>0</td>\n",
       "      <td>0</td>\n",
       "      <td>0</td>\n",
       "      <td>0</td>\n",
       "    </tr>\n",
       "    <tr>\n",
       "      <th>3</th>\n",
       "      <td>(2000, 2010]</td>\n",
       "      <td>9.0</td>\n",
       "      <td>4</td>\n",
       "      <td>1</td>\n",
       "      <td>0</td>\n",
       "      <td>0</td>\n",
       "      <td>0</td>\n",
       "      <td>0</td>\n",
       "      <td>1</td>\n",
       "      <td>1</td>\n",
       "      <td>...</td>\n",
       "      <td>0</td>\n",
       "      <td>0</td>\n",
       "      <td>0</td>\n",
       "      <td>0</td>\n",
       "      <td>0</td>\n",
       "      <td>0</td>\n",
       "      <td>0</td>\n",
       "      <td>1</td>\n",
       "      <td>0</td>\n",
       "      <td>0</td>\n",
       "    </tr>\n",
       "    <tr>\n",
       "      <th>4</th>\n",
       "      <td>(1950, 1960]</td>\n",
       "      <td>8.9</td>\n",
       "      <td>5</td>\n",
       "      <td>0</td>\n",
       "      <td>0</td>\n",
       "      <td>0</td>\n",
       "      <td>0</td>\n",
       "      <td>0</td>\n",
       "      <td>1</td>\n",
       "      <td>1</td>\n",
       "      <td>...</td>\n",
       "      <td>0</td>\n",
       "      <td>0</td>\n",
       "      <td>0</td>\n",
       "      <td>0</td>\n",
       "      <td>0</td>\n",
       "      <td>0</td>\n",
       "      <td>0</td>\n",
       "      <td>0</td>\n",
       "      <td>0</td>\n",
       "      <td>0</td>\n",
       "    </tr>\n",
       "    <tr>\n",
       "      <th>...</th>\n",
       "      <td>...</td>\n",
       "      <td>...</td>\n",
       "      <td>...</td>\n",
       "      <td>...</td>\n",
       "      <td>...</td>\n",
       "      <td>...</td>\n",
       "      <td>...</td>\n",
       "      <td>...</td>\n",
       "      <td>...</td>\n",
       "      <td>...</td>\n",
       "      <td>...</td>\n",
       "      <td>...</td>\n",
       "      <td>...</td>\n",
       "      <td>...</td>\n",
       "      <td>...</td>\n",
       "      <td>...</td>\n",
       "      <td>...</td>\n",
       "      <td>...</td>\n",
       "      <td>...</td>\n",
       "      <td>...</td>\n",
       "      <td>...</td>\n",
       "    </tr>\n",
       "    <tr>\n",
       "      <th>245</th>\n",
       "      <td>(1980, 1990]</td>\n",
       "      <td>8.0</td>\n",
       "      <td>246</td>\n",
       "      <td>1</td>\n",
       "      <td>0</td>\n",
       "      <td>0</td>\n",
       "      <td>0</td>\n",
       "      <td>0</td>\n",
       "      <td>0</td>\n",
       "      <td>0</td>\n",
       "      <td>...</td>\n",
       "      <td>0</td>\n",
       "      <td>0</td>\n",
       "      <td>0</td>\n",
       "      <td>0</td>\n",
       "      <td>0</td>\n",
       "      <td>1</td>\n",
       "      <td>0</td>\n",
       "      <td>0</td>\n",
       "      <td>0</td>\n",
       "      <td>0</td>\n",
       "    </tr>\n",
       "    <tr>\n",
       "      <th>246</th>\n",
       "      <td>(1990, 2000]</td>\n",
       "      <td>8.0</td>\n",
       "      <td>247</td>\n",
       "      <td>0</td>\n",
       "      <td>1</td>\n",
       "      <td>1</td>\n",
       "      <td>0</td>\n",
       "      <td>1</td>\n",
       "      <td>0</td>\n",
       "      <td>0</td>\n",
       "      <td>...</td>\n",
       "      <td>0</td>\n",
       "      <td>0</td>\n",
       "      <td>1</td>\n",
       "      <td>0</td>\n",
       "      <td>1</td>\n",
       "      <td>0</td>\n",
       "      <td>0</td>\n",
       "      <td>0</td>\n",
       "      <td>0</td>\n",
       "      <td>0</td>\n",
       "    </tr>\n",
       "    <tr>\n",
       "      <th>247</th>\n",
       "      <td>(2010, 2020]</td>\n",
       "      <td>8.2</td>\n",
       "      <td>248</td>\n",
       "      <td>0</td>\n",
       "      <td>0</td>\n",
       "      <td>0</td>\n",
       "      <td>0</td>\n",
       "      <td>0</td>\n",
       "      <td>0</td>\n",
       "      <td>1</td>\n",
       "      <td>...</td>\n",
       "      <td>0</td>\n",
       "      <td>0</td>\n",
       "      <td>0</td>\n",
       "      <td>0</td>\n",
       "      <td>0</td>\n",
       "      <td>0</td>\n",
       "      <td>0</td>\n",
       "      <td>0</td>\n",
       "      <td>1</td>\n",
       "      <td>0</td>\n",
       "    </tr>\n",
       "    <tr>\n",
       "      <th>248</th>\n",
       "      <td>(1950, 1960]</td>\n",
       "      <td>8.1</td>\n",
       "      <td>249</td>\n",
       "      <td>0</td>\n",
       "      <td>0</td>\n",
       "      <td>0</td>\n",
       "      <td>0</td>\n",
       "      <td>0</td>\n",
       "      <td>0</td>\n",
       "      <td>1</td>\n",
       "      <td>...</td>\n",
       "      <td>0</td>\n",
       "      <td>0</td>\n",
       "      <td>0</td>\n",
       "      <td>0</td>\n",
       "      <td>0</td>\n",
       "      <td>0</td>\n",
       "      <td>0</td>\n",
       "      <td>0</td>\n",
       "      <td>0</td>\n",
       "      <td>0</td>\n",
       "    </tr>\n",
       "    <tr>\n",
       "      <th>249</th>\n",
       "      <td>(2010, 2020]</td>\n",
       "      <td>8.1</td>\n",
       "      <td>250</td>\n",
       "      <td>0</td>\n",
       "      <td>0</td>\n",
       "      <td>1</td>\n",
       "      <td>0</td>\n",
       "      <td>0</td>\n",
       "      <td>0</td>\n",
       "      <td>1</td>\n",
       "      <td>...</td>\n",
       "      <td>0</td>\n",
       "      <td>0</td>\n",
       "      <td>0</td>\n",
       "      <td>0</td>\n",
       "      <td>1</td>\n",
       "      <td>0</td>\n",
       "      <td>0</td>\n",
       "      <td>0</td>\n",
       "      <td>0</td>\n",
       "      <td>0</td>\n",
       "    </tr>\n",
       "  </tbody>\n",
       "</table>\n",
       "<p>250 rows × 24 columns</p>\n",
       "</div>"
      ],
      "text/plain": [
       "           decade  Rating  Rank  Action  Adventure  Animation  Biography  \\\n",
       "0    (1990, 2000]     9.3     1       0          0          0          0   \n",
       "1    (1970, 1980]     9.2     2       0          0          0          0   \n",
       "2    (1970, 1980]     9.0     3       0          0          0          0   \n",
       "3    (2000, 2010]     9.0     4       1          0          0          0   \n",
       "4    (1950, 1960]     8.9     5       0          0          0          0   \n",
       "..            ...     ...   ...     ...        ...        ...        ...   \n",
       "245  (1980, 1990]     8.0   246       1          0          0          0   \n",
       "246  (1990, 2000]     8.0   247       0          1          1          0   \n",
       "247  (2010, 2020]     8.2   248       0          0          0          0   \n",
       "248  (1950, 1960]     8.1   249       0          0          0          0   \n",
       "249  (2010, 2020]     8.1   250       0          0          1          0   \n",
       "\n",
       "     Comedy  Crime  Drama  ...  Horror  Music  Musical  Mystery  Romance  \\\n",
       "0         0      0      1  ...       0      0        0        0        0   \n",
       "1         0      1      1  ...       0      0        0        0        0   \n",
       "2         0      1      1  ...       0      0        0        0        0   \n",
       "3         0      1      1  ...       0      0        0        0        0   \n",
       "4         0      1      1  ...       0      0        0        0        0   \n",
       "..      ...    ...    ...  ...     ...    ...      ...      ...      ...   \n",
       "245       0      0      0  ...       0      0        0        0        0   \n",
       "246       1      0      0  ...       0      0        1        0        1   \n",
       "247       0      0      1  ...       0      0        0        0        0   \n",
       "248       0      0      1  ...       0      0        0        0        0   \n",
       "249       0      0      1  ...       0      0        0        0        1   \n",
       "\n",
       "     Sci-Fi  Sport  Thriller  War  Western  \n",
       "0         0      0         0    0        0  \n",
       "1         0      0         0    0        0  \n",
       "2         0      0         0    0        0  \n",
       "3         0      0         1    0        0  \n",
       "4         0      0         0    0        0  \n",
       "..      ...    ...       ...  ...      ...  \n",
       "245       1      0         0    0        0  \n",
       "246       0      0         0    0        0  \n",
       "247       0      0         0    1        0  \n",
       "248       0      0         0    0        0  \n",
       "249       0      0         0    0        0  \n",
       "\n",
       "[250 rows x 24 columns]"
      ]
     },
     "execution_count": 35,
     "metadata": {},
     "output_type": "execute_result"
    }
   ],
   "source": [
    "genres"
   ]
  },
  {
   "cell_type": "code",
   "execution_count": 56,
   "metadata": {},
   "outputs": [],
   "source": [
    "genres_mean_rat = pd.DataFrame(genres.groupby(['Action','Adventure','Animation','Biography','decade'])['Rating'].mean().dropna())"
   ]
  },
  {
   "cell_type": "code",
   "execution_count": null,
   "metadata": {},
   "outputs": [],
   "source": []
  },
  {
   "cell_type": "markdown",
   "metadata": {},
   "source": [
    "**Question 1.8** (5 points) Creat a new column ```ROI``` that measures the return on investment using the (box revenue-budget)/budget, and compare the ROI between movies in English and those in non-English. Use the t-test to examine whether such difference is statistically significant (You can use ```scipy.stats.ttest_ind``` to test the mean difference of two distributions)"
   ]
  },
  {
   "cell_type": "code",
   "execution_count": 208,
   "metadata": {},
   "outputs": [],
   "source": [
    "# Clean the Budget:\n",
    "budget_clean = dataset.Budget\n",
    "budget_clean = budget_clean.str.replace(r'\\D', '')\n",
    "budget_clean = budget_clean.replace('', np.nan)\n",
    "budget_clean = budget_clean.astype(float)\n",
    "dataset['Budget'] = budget_clean"
   ]
  },
  {
   "cell_type": "code",
   "execution_count": 209,
   "metadata": {},
   "outputs": [
    {
     "data": {
      "text/html": [
       "<div>\n",
       "<style scoped>\n",
       "    .dataframe tbody tr th:only-of-type {\n",
       "        vertical-align: middle;\n",
       "    }\n",
       "\n",
       "    .dataframe tbody tr th {\n",
       "        vertical-align: top;\n",
       "    }\n",
       "\n",
       "    .dataframe thead th {\n",
       "        text-align: right;\n",
       "    }\n",
       "</style>\n",
       "<table border=\"1\" class=\"dataframe\">\n",
       "  <thead>\n",
       "    <tr style=\"text-align: right;\">\n",
       "      <th></th>\n",
       "      <th>ROI (%)</th>\n",
       "    </tr>\n",
       "    <tr>\n",
       "      <th>Language</th>\n",
       "      <th></th>\n",
       "    </tr>\n",
       "  </thead>\n",
       "  <tbody>\n",
       "    <tr>\n",
       "      <th>False</th>\n",
       "      <td>732.548906</td>\n",
       "    </tr>\n",
       "    <tr>\n",
       "      <th>True</th>\n",
       "      <td>720.845947</td>\n",
       "    </tr>\n",
       "  </tbody>\n",
       "</table>\n",
       "</div>"
      ],
      "text/plain": [
       "             ROI (%)\n",
       "Language            \n",
       "False     732.548906\n",
       "True      720.845947"
      ]
     },
     "execution_count": 209,
     "metadata": {},
     "output_type": "execute_result"
    }
   ],
   "source": [
    "# Question 1.8\n",
    "dataset['ROI (%)'] = ((dataset.Box_Off_Rev - dataset.Budget)/(dataset.Budget))*100\n",
    "roi_eng = pd.DataFrame(dataset.groupby(dataset['Language'] == 'English')['ROI (%)'].mean())\n",
    "roi_eng"
   ]
  },
  {
   "cell_type": "code",
   "execution_count": 210,
   "metadata": {},
   "outputs": [],
   "source": [
    "roi_eng = np.array(dataset.loc[dataset['Language']=='English']['ROI (%)'].dropna())\n",
    "roi_not_eng = np.array(dataset.loc[dataset['Language'] != 'English']['ROI (%)'].dropna())"
   ]
  },
  {
   "cell_type": "code",
   "execution_count": 211,
   "metadata": {},
   "outputs": [
    {
     "data": {
      "text/plain": [
       "Ttest_indResult(statistic=-0.05541189826369033, pvalue=0.9558728147873792)"
      ]
     },
     "execution_count": 211,
     "metadata": {},
     "output_type": "execute_result"
    }
   ],
   "source": [
    "from scipy import stats\n",
    "stats.ttest_ind(roi_eng, roi_not_eng)"
   ]
  },
  {
   "cell_type": "code",
   "execution_count": 212,
   "metadata": {},
   "outputs": [
    {
     "name": "stdout",
     "output_type": "stream",
     "text": [
      "Therefore we can conclude that the difference between English versus Non-English movies is not statistically significant given the very high p_value\n"
     ]
    }
   ],
   "source": [
    "print('''Therefore we can conclude that the difference between English versus Non-English movies is not statistically significant given the very high p_value''')"
   ]
  },
  {
   "cell_type": "markdown",
   "metadata": {},
   "source": [
    "**Question 1.9** (5 points) Do the commercially successfuly movies also receive higher ratings. Check the correlations between box office revenues and ratings using Pearman and Spearman correlations."
   ]
  },
  {
   "cell_type": "code",
   "execution_count": 213,
   "metadata": {},
   "outputs": [
    {
     "name": "stdout",
     "output_type": "stream",
     "text": [
      "The pearson coefficient is 0.20835809449531878 and the spearman coefficient is 0.14908299285023477\n",
      "\n",
      "Both correlation values are relatively small and close to 0, therefore there is a positive correlation but it is small, \n",
      "implying only a weak support for the claim that commercialy successeful movies tend to receive higher ratings\n",
      "\n",
      "Pearson correlation assumes the data is normally distributed. However, Spearman does not make any assumption on the \n",
      "distribution of the data. That is the main reason for the difference.\n"
     ]
    }
   ],
   "source": [
    "# Use groupby and aggregate because agregate allows for different operations LEcture 11, slide 20\n",
    "# Or use apply \n",
    "pearson_corr = dataset[['Rating', 'Box_Off_Rev']]\n",
    "pearson = pearson_corr.Box_Off_Rev.corr(pearson_corr.Rating, method = 'pearson')\n",
    "spearman_corr = dataset[['Rating', 'Box_Off_Rev']]\n",
    "spearman = spearman_corr.Box_Off_Rev.corr(spearman_corr.Rating, method = 'spearman')\n",
    "\n",
    "print('The pearson coefficient is {} and the spearman coefficient is {}'.format(pearson, spearman))\n",
    "print('''\\nBoth correlation values are relatively small and close to 0, therefore there is a positive correlation but it is small, \n",
    "implying only a weak support for the claim that commercialy successeful movies tend to receive higher ratings''')\n",
    "print('''\\nPearson correlation assumes the data is normally distributed. However, Spearman does not make any assumption on the \n",
    "distribution of the data. That is the main reason for the difference.''')"
   ]
  },
  {
   "cell_type": "markdown",
   "metadata": {
    "collapsed": true
   },
   "source": [
    "**Question 1.10** (10 points) Now let's retrieve data from Bechdel Test Movie website [for each movie](https://bechdeltest.com/). You can send the requests to the API: https://bechdeltest.com/api/v1/doc#getMovieByImdbId. For example, for the movie The Shawshank Redemption (the IMDb id: 0111161), you can simply call: http://bechdeltest.com/api/v1/getMovieByImdbId?imdbid=0111161. \n",
    "\n",
    "Create a dataframe ```bechdel_imdb_top``` that merge the bechdel test info with the ```imdb_top_movies``` show how many top 250 movies are also in the bechdel test website."
   ]
  },
  {
   "cell_type": "code",
   "execution_count": 106,
   "metadata": {},
   "outputs": [],
   "source": [
    "dataset = pd.read_csv('top_250_imdb.csv')"
   ]
  },
  {
   "cell_type": "code",
   "execution_count": 126,
   "metadata": {},
   "outputs": [],
   "source": [
    "import pandas as pd\n",
    "import numpy as np\n",
    "import requests\n",
    "from bs4 import BeautifulSoup\n",
    "\n",
    "bechdel_list = []\n",
    "for i in range(1, len(imdb_id_list)+1):\n",
    "    imdb_id = link_dic[i][9:-1]\n",
    "    bechdel = requests.get(\"http://bechdeltest.com/api/v1/getMovieByImdbId?imdbid=\"+str(imdb_id))\n",
    "    bechdel = bechdel.json()\n",
    "    bechdel_list.append(bechdel)"
   ]
  },
  {
   "cell_type": "code",
   "execution_count": 241,
   "metadata": {},
   "outputs": [],
   "source": [
    "bechdel_imdb_aux = pd.DataFrame(bechdel_list)"
   ]
  },
  {
   "cell_type": "code",
   "execution_count": 242,
   "metadata": {},
   "outputs": [],
   "source": [
    "bechdel_imdb_aux['Rank'] = dataset.Rank"
   ]
  },
  {
   "cell_type": "code",
   "execution_count": 243,
   "metadata": {},
   "outputs": [],
   "source": [
    "bechdel_imdb_top = pd.merge(bechdel_imdb_aux, dataset, on = 'Rank')"
   ]
  },
  {
   "cell_type": "code",
   "execution_count": 218,
   "metadata": {},
   "outputs": [
    {
     "name": "stdout",
     "output_type": "stream",
     "text": [
      "<class 'pandas.core.frame.DataFrame'>\n",
      "Int64Index: 250 entries, 0 to 249\n",
      "Data columns (total 29 columns):\n",
      " #   Column       Non-Null Count  Dtype   \n",
      "---  ------       --------------  -----   \n",
      " 0   date         236 non-null    object  \n",
      " 1   title        236 non-null    object  \n",
      " 2   year         236 non-null    float64 \n",
      " 3   rating       236 non-null    float64 \n",
      " 4   visible      236 non-null    object  \n",
      " 5   dubious      200 non-null    object  \n",
      " 6   imdbid       236 non-null    object  \n",
      " 7   submitterid  236 non-null    float64 \n",
      " 8   id           236 non-null    float64 \n",
      " 9   description  14 non-null     object  \n",
      " 10  version      14 non-null     object  \n",
      " 11  status       14 non-null     object  \n",
      " 12  Rank         250 non-null    int64   \n",
      " 13  Unnamed: 0   250 non-null    int64   \n",
      " 14  imdb_id      250 non-null    int64   \n",
      " 15  Movie        250 non-null    object  \n",
      " 16  Year         250 non-null    int64   \n",
      " 17  Director     250 non-null    object  \n",
      " 18  Starring     250 non-null    object  \n",
      " 19  Rating       250 non-null    float64 \n",
      " 20  #Reviews     250 non-null    object  \n",
      " 21  Genre        250 non-null    object  \n",
      " 22  Country      250 non-null    object  \n",
      " 23  Language     250 non-null    object  \n",
      " 24  Box_Off_Rev  240 non-null    float64 \n",
      " 25  Budget       179 non-null    float64 \n",
      " 26  Runtime      250 non-null    object  \n",
      " 27  decade       250 non-null    category\n",
      " 28  ROI (%)      179 non-null    float64 \n",
      "dtypes: category(1), float64(8), int64(4), object(16)\n",
      "memory usage: 57.7+ KB\n"
     ]
    }
   ],
   "source": [
    "bechdel_imdb_top.info()"
   ]
  },
  {
   "cell_type": "markdown",
   "metadata": {},
   "source": [
    "**Question 1.11** (5 points) Show how many movies in terms of percentage) that has passed the test in different ways (Number from 0 to 3 (0 means no two women, 1 means no talking, 2 means talking about a man, 3 means it passes the test)"
   ]
  },
  {
   "cell_type": "code",
   "execution_count": 219,
   "metadata": {},
   "outputs": [
    {
     "data": {
      "text/plain": [
       "rating\n",
       "0.0    21.186441\n",
       "1.0    34.322034\n",
       "2.0     9.745763\n",
       "3.0    34.745763\n",
       "Name: Movie, dtype: float64"
      ]
     },
     "execution_count": 219,
     "metadata": {},
     "output_type": "execute_result"
    }
   ],
   "source": [
    "pass_test_percent = bechdel_imdb_top.groupby('rating')['Movie'].count()\n",
    "pass_test_percent.apply(lambda x: (x/a.sum())*100)"
   ]
  },
  {
   "cell_type": "markdown",
   "metadata": {},
   "source": [
    "**Question 1.12** (5 points) Show the percenage of movies given differen genres that has passed the test in different ways (Number from 0 to 3 (0 means no two women, 1 means no talking, 2 means talking about a man, 3 means it passes the test))"
   ]
  },
  {
   "cell_type": "code",
   "execution_count": 224,
   "metadata": {},
   "outputs": [],
   "source": [
    "# You need to be able to separate genres into different columns\n"
   ]
  },
  {
   "cell_type": "markdown",
   "metadata": {},
   "source": [
    "**Question 1.13** (5 points) Show the top 10 highest-rated movies that passed the test completely (rating=3) "
   ]
  },
  {
   "cell_type": "code",
   "execution_count": 221,
   "metadata": {},
   "outputs": [
    {
     "data": {
      "text/html": [
       "<div>\n",
       "<style scoped>\n",
       "    .dataframe tbody tr th:only-of-type {\n",
       "        vertical-align: middle;\n",
       "    }\n",
       "\n",
       "    .dataframe tbody tr th {\n",
       "        vertical-align: top;\n",
       "    }\n",
       "\n",
       "    .dataframe thead th {\n",
       "        text-align: right;\n",
       "    }\n",
       "</style>\n",
       "<table border=\"1\" class=\"dataframe\">\n",
       "  <thead>\n",
       "    <tr style=\"text-align: right;\">\n",
       "      <th></th>\n",
       "      <th>Movie</th>\n",
       "      <th>Rating</th>\n",
       "    </tr>\n",
       "  </thead>\n",
       "  <tbody>\n",
       "    <tr>\n",
       "      <th>3</th>\n",
       "      <td>The Dark Knight</td>\n",
       "      <td>9.0</td>\n",
       "    </tr>\n",
       "    <tr>\n",
       "      <th>7</th>\n",
       "      <td>Pulp Fiction</td>\n",
       "      <td>8.9</td>\n",
       "    </tr>\n",
       "    <tr>\n",
       "      <th>5</th>\n",
       "      <td>Schindler's List</td>\n",
       "      <td>8.9</td>\n",
       "    </tr>\n",
       "    <tr>\n",
       "      <th>12</th>\n",
       "      <td>Inception</td>\n",
       "      <td>8.8</td>\n",
       "    </tr>\n",
       "    <tr>\n",
       "      <th>13</th>\n",
       "      <td>The Lord of the Rings: The Two Towers</td>\n",
       "      <td>8.7</td>\n",
       "    </tr>\n",
       "    <tr>\n",
       "      <th>15</th>\n",
       "      <td>The Matrix</td>\n",
       "      <td>8.7</td>\n",
       "    </tr>\n",
       "    <tr>\n",
       "      <th>16</th>\n",
       "      <td>Goodfellas</td>\n",
       "      <td>8.7</td>\n",
       "    </tr>\n",
       "    <tr>\n",
       "      <th>26</th>\n",
       "      <td>Spirited Away</td>\n",
       "      <td>8.6</td>\n",
       "    </tr>\n",
       "    <tr>\n",
       "      <th>29</th>\n",
       "      <td>Interstellar</td>\n",
       "      <td>8.6</td>\n",
       "    </tr>\n",
       "    <tr>\n",
       "      <th>28</th>\n",
       "      <td>Parasite</td>\n",
       "      <td>8.6</td>\n",
       "    </tr>\n",
       "  </tbody>\n",
       "</table>\n",
       "</div>"
      ],
      "text/plain": [
       "                                    Movie  Rating\n",
       "3                         The Dark Knight     9.0\n",
       "7                            Pulp Fiction     8.9\n",
       "5                        Schindler's List     8.9\n",
       "12                              Inception     8.8\n",
       "13  The Lord of the Rings: The Two Towers     8.7\n",
       "15                             The Matrix     8.7\n",
       "16                             Goodfellas     8.7\n",
       "26                          Spirited Away     8.6\n",
       "29                           Interstellar     8.6\n",
       "28                               Parasite     8.6"
      ]
     },
     "execution_count": 221,
     "metadata": {},
     "output_type": "execute_result"
    }
   ],
   "source": [
    "bechdel_imdb_top.loc[bechdel_imdb_top['rating']==3.0].sort_values(['Rating'], ascending = False)[['Movie','Rating']].head(10)"
   ]
  },
  {
   "cell_type": "markdown",
   "metadata": {},
   "source": [
    "**Question 1.14** (5 points) Compareing the movies that passed (rating=3) and failed the test (rating=0), are their ROI different? Explain."
   ]
  },
  {
   "cell_type": "code",
   "execution_count": 240,
   "metadata": {},
   "outputs": [
    {
     "data": {
      "text/html": [
       "<div>\n",
       "<style scoped>\n",
       "    .dataframe tbody tr th:only-of-type {\n",
       "        vertical-align: middle;\n",
       "    }\n",
       "\n",
       "    .dataframe tbody tr th {\n",
       "        vertical-align: top;\n",
       "    }\n",
       "\n",
       "    .dataframe thead th {\n",
       "        text-align: right;\n",
       "    }\n",
       "</style>\n",
       "<table border=\"1\" class=\"dataframe\">\n",
       "  <thead>\n",
       "    <tr style=\"text-align: right;\">\n",
       "      <th></th>\n",
       "      <th>rating = 3</th>\n",
       "      <th>rating = 0</th>\n",
       "    </tr>\n",
       "  </thead>\n",
       "  <tbody>\n",
       "    <tr>\n",
       "      <th>ROI %</th>\n",
       "      <td>846.750834</td>\n",
       "      <td>617.732173</td>\n",
       "    </tr>\n",
       "  </tbody>\n",
       "</table>\n",
       "</div>"
      ],
      "text/plain": [
       "       rating = 3  rating = 0\n",
       "ROI %  846.750834  617.732173"
      ]
     },
     "execution_count": 240,
     "metadata": {},
     "output_type": "execute_result"
    }
   ],
   "source": [
    "rat_3 = bechdel_imdb_top.loc[bechdel_imdb_top['rating']==3.0]['ROI (%)'].mean()\n",
    "rat_0 = bechdel_imdb_top.loc[bechdel_imdb_top['rating']==0.0]['ROI (%)'].mean()\n",
    "pd.DataFrame({'rating = 3': [rat_3], 'rating = 0': [rat_0]}, index = ['ROI %'])"
   ]
  },
  {
   "cell_type": "code",
   "execution_count": 249,
   "metadata": {},
   "outputs": [
    {
     "name": "stdout",
     "output_type": "stream",
     "text": [
      "Return On Investment (ROI) seems to be significantly higher on average for movies that pass the Bechdel Test\n",
      "\n"
     ]
    }
   ],
   "source": [
    "print('''Return On Investment (ROI) seems to be significantly higher on average for movies that pass the Bechdel Test\n",
    "''')"
   ]
  },
  {
   "cell_type": "markdown",
   "metadata": {},
   "source": [
    "**Question 1.15** (10 points) Now load the ```bechdel_imdb.json``` that contains the all movies that are rated by the Bechdel Test website. Are women representation improved over the decades? Create a dataframe ```bechdel_imdb```, comparing the top 250 and other movies, in terms of percentage, how many passed/failed the test? "
   ]
  },
  {
   "cell_type": "code",
   "execution_count": 253,
   "metadata": {},
   "outputs": [],
   "source": [
    "with open('bechdel_imdb.json') as json_file:\n",
    "    bechdel_imdb = pd.read_json(json_file)"
   ]
  },
  {
   "cell_type": "code",
   "execution_count": 307,
   "metadata": {},
   "outputs": [
    {
     "data": {
      "text/html": [
       "<div>\n",
       "<style scoped>\n",
       "    .dataframe tbody tr th:only-of-type {\n",
       "        vertical-align: middle;\n",
       "    }\n",
       "\n",
       "    .dataframe tbody tr th {\n",
       "        vertical-align: top;\n",
       "    }\n",
       "\n",
       "    .dataframe thead th {\n",
       "        text-align: right;\n",
       "    }\n",
       "</style>\n",
       "<table border=\"1\" class=\"dataframe\">\n",
       "  <thead>\n",
       "    <tr style=\"text-align: right;\">\n",
       "      <th></th>\n",
       "      <th>Pass rate (%)</th>\n",
       "    </tr>\n",
       "    <tr>\n",
       "      <th>rating</th>\n",
       "      <th></th>\n",
       "    </tr>\n",
       "  </thead>\n",
       "  <tbody>\n",
       "    <tr>\n",
       "      <th>0</th>\n",
       "      <td>10.158619</td>\n",
       "    </tr>\n",
       "    <tr>\n",
       "      <th>1</th>\n",
       "      <td>21.950082</td>\n",
       "    </tr>\n",
       "    <tr>\n",
       "      <th>2</th>\n",
       "      <td>10.181945</td>\n",
       "    </tr>\n",
       "    <tr>\n",
       "      <th>3</th>\n",
       "      <td>57.709354</td>\n",
       "    </tr>\n",
       "  </tbody>\n",
       "</table>\n",
       "</div>"
      ],
      "text/plain": [
       "        Pass rate (%)\n",
       "rating               \n",
       "0           10.158619\n",
       "1           21.950082\n",
       "2           10.181945\n",
       "3           57.709354"
      ]
     },
     "execution_count": 307,
     "metadata": {},
     "output_type": "execute_result"
    }
   ],
   "source": [
    "all_data_pass_rate = bechdel_imdb.groupby('rating')['title'].count()\n",
    "a = pd.DataFrame(all_data_pass_rate.apply(lambda x: (x/all_data_pass_rate.sum())*100))\n",
    "a.rename(columns = {'title': 'Pass rate (%)'})"
   ]
  },
  {
   "cell_type": "code",
   "execution_count": 306,
   "metadata": {},
   "outputs": [
    {
     "data": {
      "text/plain": [
       "2020"
      ]
     },
     "execution_count": 306,
     "metadata": {},
     "output_type": "execute_result"
    }
   ],
   "source": [
    "bechdel_imdb.year.min()\n",
    "bechdel_imdb.year.max()"
   ]
  },
  {
   "cell_type": "code",
   "execution_count": 272,
   "metadata": {},
   "outputs": [],
   "source": [
    "bins = [i for i in range(1880, 2020+1, 10)]\n",
    "year_list_bech = list(bechdel_imdb.year)\n",
    "decades_bech = pd.cut(year_list_bech, bins)\n",
    "\n",
    "bechdel_imdb['decade'] = pd.Series(decades_bech)"
   ]
  },
  {
   "cell_type": "code",
   "execution_count": 304,
   "metadata": {},
   "outputs": [
    {
     "data": {
      "text/html": [
       "<div>\n",
       "<style scoped>\n",
       "    .dataframe tbody tr th:only-of-type {\n",
       "        vertical-align: middle;\n",
       "    }\n",
       "\n",
       "    .dataframe tbody tr th {\n",
       "        vertical-align: top;\n",
       "    }\n",
       "\n",
       "    .dataframe thead th {\n",
       "        text-align: right;\n",
       "    }\n",
       "</style>\n",
       "<table border=\"1\" class=\"dataframe\">\n",
       "  <thead>\n",
       "    <tr style=\"text-align: right;\">\n",
       "      <th></th>\n",
       "      <th>Rating</th>\n",
       "      <th>title</th>\n",
       "    </tr>\n",
       "    <tr>\n",
       "      <th>decade</th>\n",
       "      <th></th>\n",
       "      <th></th>\n",
       "    </tr>\n",
       "  </thead>\n",
       "  <tbody>\n",
       "    <tr>\n",
       "      <th>(1920, 1930]</th>\n",
       "      <td>0</td>\n",
       "      <td>0</td>\n",
       "    </tr>\n",
       "    <tr>\n",
       "      <th>(1930, 1940]</th>\n",
       "      <td>6</td>\n",
       "      <td>6</td>\n",
       "    </tr>\n",
       "    <tr>\n",
       "      <th>(1940, 1950]</th>\n",
       "      <td>3</td>\n",
       "      <td>3</td>\n",
       "    </tr>\n",
       "    <tr>\n",
       "      <th>(1950, 1960]</th>\n",
       "      <td>6</td>\n",
       "      <td>6</td>\n",
       "    </tr>\n",
       "    <tr>\n",
       "      <th>(1960, 1970]</th>\n",
       "      <td>2</td>\n",
       "      <td>2</td>\n",
       "    </tr>\n",
       "    <tr>\n",
       "      <th>(1970, 1980]</th>\n",
       "      <td>3</td>\n",
       "      <td>3</td>\n",
       "    </tr>\n",
       "    <tr>\n",
       "      <th>(1980, 1990]</th>\n",
       "      <td>8</td>\n",
       "      <td>8</td>\n",
       "    </tr>\n",
       "    <tr>\n",
       "      <th>(1990, 2000]</th>\n",
       "      <td>13</td>\n",
       "      <td>13</td>\n",
       "    </tr>\n",
       "    <tr>\n",
       "      <th>(2000, 2010]</th>\n",
       "      <td>18</td>\n",
       "      <td>18</td>\n",
       "    </tr>\n",
       "    <tr>\n",
       "      <th>(2010, 2020]</th>\n",
       "      <td>23</td>\n",
       "      <td>23</td>\n",
       "    </tr>\n",
       "  </tbody>\n",
       "</table>\n",
       "</div>"
      ],
      "text/plain": [
       "              Rating  title\n",
       "decade                     \n",
       "(1920, 1930]       0      0\n",
       "(1930, 1940]       6      6\n",
       "(1940, 1950]       3      3\n",
       "(1950, 1960]       6      6\n",
       "(1960, 1970]       2      2\n",
       "(1970, 1980]       3      3\n",
       "(1980, 1990]       8      8\n",
       "(1990, 2000]      13     13\n",
       "(2000, 2010]      18     18\n",
       "(2010, 2020]      23     23"
      ]
     },
     "execution_count": 304,
     "metadata": {},
     "output_type": "execute_result"
    }
   ],
   "source": [
    "pass_test_decades = bechdel_imdb_top.loc[bechdel_imdb_top['rating']==3.0].sort_values(['Rating'], ascending = False)[['decade','Rating','title']]\n",
    "pass_test_decades.groupby('decade').count()"
   ]
  },
  {
   "cell_type": "code",
   "execution_count": 305,
   "metadata": {},
   "outputs": [
    {
     "name": "stdout",
     "output_type": "stream",
     "text": [
      "As we can observe in the table above, female representation has increased over the decades\n"
     ]
    }
   ],
   "source": [
    "print('As we can observe in the table above, female representation has increased over the decades')"
   ]
  }
 ],
 "metadata": {
  "kernelspec": {
   "display_name": "Python 3",
   "language": "python",
   "name": "python3"
  },
  "language_info": {
   "codemirror_mode": {
    "name": "ipython",
    "version": 3
   },
   "file_extension": ".py",
   "mimetype": "text/x-python",
   "name": "python",
   "nbconvert_exporter": "python",
   "pygments_lexer": "ipython3",
   "version": "3.8.5"
  }
 },
 "nbformat": 4,
 "nbformat_minor": 2
}
